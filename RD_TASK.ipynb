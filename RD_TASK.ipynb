{
  "cells": [
    {
      "cell_type": "code",
      "execution_count": null,
      "metadata": {
        "id": "0X3O8Dz8WeCf"
      },
      "outputs": [],
      "source": [
        "from collections import defaultdict\n",
        "from itertools import count\n",
        "import itertools\n",
        "import random\n",
        "import math\n",
        "import json\n",
        "import logging\n",
        "import pathlib\n",
        "import sys\n",
        "import re\n",
        "\n",
        "import pandas as pd\n",
        "import numpy as np\n",
        "import tqdm # progree bar\n",
        "\n",
        "import torch\n",
        "import torch.nn as nn\n",
        "import torch.nn.functional as F\n",
        "from torch.nn.utils.rnn import pad_sequence\n",
        "from torch.utils.data import DataLoader, Dataset, Sampler\n",
        "import torch.optim as optim\n",
        "from torch.utils.tensorboard import SummaryWriter\n",
        "\n",
        "from transformers import AutoModel, AutoConfig, AutoTokenizer, AutoModelForSeq2SeqLM\n",
        "from transformers.modeling_outputs import Seq2SeqLMOutput\n",
        "\n",
        "\n",
        "import nltk\n",
        "from nltk.corpus import stopwords\n",
        "from nltk.tokenize import word_tokenize\n",
        "\n",
        "\n",
        "\n",
        "from google.colab import drive"
      ]
    },
    {
      "cell_type": "code",
      "execution_count": null,
      "metadata": {
        "id": "tYk6Y8IyMkuF"
      },
      "outputs": [],
      "source": [
        "logger = logging.getLogger(pathlib.Path(\"x\").name)\n",
        "logger.setLevel(logging.DEBUG)\n",
        "handler = logging.StreamHandler(sys.stdout)\n",
        "handler.setFormatter(\n",
        "    logging.Formatter(\"%(asctime)s [%(levelname)s] %(name)s: %(message)s\")\n",
        ")\n",
        "logger.addHandler(handler)"
      ]
    },
    {
      "cell_type": "code",
      "execution_count": null,
      "metadata": {
        "colab": {
          "base_uri": "https://localhost:8080/"
        },
        "id": "NbWVtqMP37G8",
        "outputId": "c65d6cb6-81cb-4db5-f615-7c0ea2b24005"
      },
      "outputs": [
        {
          "name": "stdout",
          "output_type": "stream",
          "text": [
            "Drive already mounted at /content/drive; to attempt to forcibly remount, call drive.mount(\"/content/drive\", force_remount=True).\n"
          ]
        }
      ],
      "source": [
        "drive.mount('/content/drive')"
      ]
    },
    {
      "cell_type": "code",
      "execution_count": null,
      "metadata": {
        "id": "tUWpwkW1lDtH"
      },
      "outputs": [],
      "source": [
        "df = pd.read_json(\"/content/drive/MyDrive/data_for_KKSA_NLP_CH/dev.json\")"
      ]
    },
    {
      "cell_type": "code",
      "execution_count": null,
      "metadata": {
        "colab": {
          "base_uri": "https://localhost:8080/",
          "height": 414
        },
        "id": "ILFbMLwPmShG",
        "outputId": "c9111494-715f-4cb4-8be5-de80cd53801c"
      },
      "outputs": [
        {
          "data": {
            "application/vnd.google.colaboratory.intrinsic+json": {
              "summary": "{\n  \"name\": \"df\",\n  \"rows\": 3921,\n  \"fields\": [\n    {\n      \"column\": \"id\",\n      \"properties\": {\n        \"dtype\": \"string\",\n        \"num_unique_values\": 3921,\n        \"samples\": [\n          \"ar.981649\",\n          \"ar.978202\",\n          \"ar.988458\"\n        ],\n        \"semantic_type\": \"\",\n        \"description\": \"\"\n      }\n    },\n    {\n      \"column\": \"word\",\n      \"properties\": {\n        \"dtype\": \"string\",\n        \"num_unique_values\": 3336,\n        \"samples\": [\n          \"\\u0645\\u064f\\u0633\\u0652\\u062a\\u064e\\u0636\\u0652\\u0639\\u064e\\u0641\\u064e\\u0629\",\n          \"\\u0639\\u064e\\u0644\\u0627\\u064e\\u0645\\u064e\\u0629\",\n          \"\\u0639\\u0643\\u0633\"\n        ],\n        \"semantic_type\": \"\",\n        \"description\": \"\"\n      }\n    },\n    {\n      \"column\": \"pos\",\n      \"properties\": {\n        \"dtype\": \"category\",\n        \"num_unique_values\": 32,\n        \"samples\": [\n          \"meme\",\n          \"AX\",\n          \"NI\"\n        ],\n        \"semantic_type\": \"\",\n        \"description\": \"\"\n      }\n    },\n    {\n      \"column\": \"gloss\",\n      \"properties\": {\n        \"dtype\": \"string\",\n        \"num_unique_values\": 3899,\n        \"samples\": [\n          \"\\u0631\\u064e\\u063a\\u0650\\u0628\\u064e \\u0627\\u0644\\u0634\\u0651\\u064e\\u064a\\u0652\\u0621\\u064e: \\u0623\\u064e\\u0631\\u064e\\u0627\\u062f\\u064e.\",\n          \"\\u062a\\u064e\\u0644\\u0627\\u064e\\u0641\\u0651\\u064f\\u0648\\u0627: \\u0627\\u062e\\u0652\\u062a\\u064e\\u0644\\u064e\\u0637\\u064f\\u0648\\u0627.\",\n          \"\\u0647\\u062f\\u0648\\u0621 \\u0627\\u0644\\u0646\\u0641\\u0633 \\u0648\\u062b\\u0628\\u0627\\u062a \\u0627\\u0644\\u0642\\u0644\\u0628\\u060c \\u0633\\u064a\\u0637\\u0631\\u0629 \\u0627\\u0644\\u0645\\u0631\\u0621 \\u0627\\u0644\\u062a\\u0627\\u0645\\u0651\\u0629 \\u0639\\u0644\\u0649 \\u0642\\u0648\\u0627\\u0647 \\u0627\\u0644\\u0639\\u0642\\u0644\\u064a\\u0651\\u0629 \\u0623\\u0648 \\u0642\\u062f\\u0631\\u0627\\u062a\\u0647 \\u0627\\u0644\\u062d\\u0633\\u064a\\u0651\\u0629 \\u0623\\u0648 \\u0645\\u0634\\u0627\\u0639\\u0631\\u0647 \\u0623\\u0648 \\u0633\\u0644\\u0648\\u0643\\u0647 \\u0648\\u062a\\u0635\\u0631\\u0651\\u064f\\u0641\\u0627\\u062a\\u0647.\"\n        ],\n        \"semantic_type\": \"\",\n        \"description\": \"\"\n      }\n    },\n    {\n      \"column\": \"electra\",\n      \"properties\": {\n        \"dtype\": \"object\",\n        \"semantic_type\": \"\",\n        \"description\": \"\"\n      }\n    },\n    {\n      \"column\": \"bertseg\",\n      \"properties\": {\n        \"dtype\": \"object\",\n        \"semantic_type\": \"\",\n        \"description\": \"\"\n      }\n    },\n    {\n      \"column\": \"bertmsa\",\n      \"properties\": {\n        \"dtype\": \"object\",\n        \"semantic_type\": \"\",\n        \"description\": \"\"\n      }\n    }\n  ]\n}",
              "type": "dataframe",
              "variable_name": "df"
            },
            "text/html": [
              "\n",
              "  <div id=\"df-b649a7c9-c8ee-46dd-a83c-6d11aecb9598\" class=\"colab-df-container\">\n",
              "    <div>\n",
              "<style scoped>\n",
              "    .dataframe tbody tr th:only-of-type {\n",
              "        vertical-align: middle;\n",
              "    }\n",
              "\n",
              "    .dataframe tbody tr th {\n",
              "        vertical-align: top;\n",
              "    }\n",
              "\n",
              "    .dataframe thead th {\n",
              "        text-align: right;\n",
              "    }\n",
              "</style>\n",
              "<table border=\"1\" class=\"dataframe\">\n",
              "  <thead>\n",
              "    <tr style=\"text-align: right;\">\n",
              "      <th></th>\n",
              "      <th>id</th>\n",
              "      <th>word</th>\n",
              "      <th>pos</th>\n",
              "      <th>gloss</th>\n",
              "      <th>electra</th>\n",
              "      <th>bertseg</th>\n",
              "      <th>bertmsa</th>\n",
              "    </tr>\n",
              "  </thead>\n",
              "  <tbody>\n",
              "    <tr>\n",
              "      <th>0</th>\n",
              "      <td>ar.962714</td>\n",
              "      <td>أَكْمَدَ</td>\n",
              "      <td>V</td>\n",
              "      <td>غَمَّ وَأَمْرَضَ القَلْبَ</td>\n",
              "      <td>[0.2265725881, -0.3225077391, 0.5538389087, 0....</td>\n",
              "      <td>[0.1318395436, -0.203442499, 0.0180867836, -0....</td>\n",
              "      <td>[-1.0540555716, 0.7359393239, -0.4855850637000...</td>\n",
              "    </tr>\n",
              "    <tr>\n",
              "      <th>1</th>\n",
              "      <td>ar.994971</td>\n",
              "      <td>ب</td>\n",
              "      <td>None</td>\n",
              "      <td>حرف جرّ زائد في التوكيد بالنفس والعين .</td>\n",
              "      <td>[0.1076807305, -0.0218244735, -0.3933216333000...</td>\n",
              "      <td>[0.3571605384, -0.1502435058, -0.0939490572, -...</td>\n",
              "      <td>[-0.8878438473, 1.0998017788, 1.085614562, 1.3...</td>\n",
              "    </tr>\n",
              "    <tr>\n",
              "      <th>2</th>\n",
              "      <td>ar.989034</td>\n",
              "      <td>ذَكَا</td>\n",
              "      <td>V</td>\n",
              "      <td>ذَكَا الشَّاةَ ونحوَها: ذَبَحَها</td>\n",
              "      <td>[0.6839492321, -0.0342893749, 0.5485743284, 0....</td>\n",
              "      <td>[0.0577338375, -0.1058739722, -0.1061836034, 0...</td>\n",
              "      <td>[-1.9565393925, 1.2845952511, 0.3016183376, 0....</td>\n",
              "    </tr>\n",
              "    <tr>\n",
              "      <th>3</th>\n",
              "      <td>ar.994539</td>\n",
              "      <td>وَرَع</td>\n",
              "      <td>V</td>\n",
              "      <td>وَرَعَ فلانٌ: جَبُنَ.</td>\n",
              "      <td>[-0.08947025980000001, 0.3989391923, -0.360960...</td>\n",
              "      <td>[0.06446439030000001, 0.0653506145, 0.21089071...</td>\n",
              "      <td>[0.3653689027, 1.1957067251, -0.0340094306, 0....</td>\n",
              "    </tr>\n",
              "    <tr>\n",
              "      <th>4</th>\n",
              "      <td>ar.992756</td>\n",
              "      <td>قَلَص</td>\n",
              "      <td>V</td>\n",
              "      <td>قَلَصَ الظِّلُّ عنِّي: انْقَبَض ونَقَصَ.</td>\n",
              "      <td>[-0.7175729275, -0.4579240382, 0.1205300912000...</td>\n",
              "      <td>[0.058123521500000004, -0.0278340597, 0.124133...</td>\n",
              "      <td>[-0.3557761014, 0.22549220920000002, -0.043720...</td>\n",
              "    </tr>\n",
              "  </tbody>\n",
              "</table>\n",
              "</div>\n",
              "    <div class=\"colab-df-buttons\">\n",
              "\n",
              "  <div class=\"colab-df-container\">\n",
              "    <button class=\"colab-df-convert\" onclick=\"convertToInteractive('df-b649a7c9-c8ee-46dd-a83c-6d11aecb9598')\"\n",
              "            title=\"Convert this dataframe to an interactive table.\"\n",
              "            style=\"display:none;\">\n",
              "\n",
              "  <svg xmlns=\"http://www.w3.org/2000/svg\" height=\"24px\" viewBox=\"0 -960 960 960\">\n",
              "    <path d=\"M120-120v-720h720v720H120Zm60-500h600v-160H180v160Zm220 220h160v-160H400v160Zm0 220h160v-160H400v160ZM180-400h160v-160H180v160Zm440 0h160v-160H620v160ZM180-180h160v-160H180v160Zm440 0h160v-160H620v160Z\"/>\n",
              "  </svg>\n",
              "    </button>\n",
              "\n",
              "  <style>\n",
              "    .colab-df-container {\n",
              "      display:flex;\n",
              "      gap: 12px;\n",
              "    }\n",
              "\n",
              "    .colab-df-convert {\n",
              "      background-color: #E8F0FE;\n",
              "      border: none;\n",
              "      border-radius: 50%;\n",
              "      cursor: pointer;\n",
              "      display: none;\n",
              "      fill: #1967D2;\n",
              "      height: 32px;\n",
              "      padding: 0 0 0 0;\n",
              "      width: 32px;\n",
              "    }\n",
              "\n",
              "    .colab-df-convert:hover {\n",
              "      background-color: #E2EBFA;\n",
              "      box-shadow: 0px 1px 2px rgba(60, 64, 67, 0.3), 0px 1px 3px 1px rgba(60, 64, 67, 0.15);\n",
              "      fill: #174EA6;\n",
              "    }\n",
              "\n",
              "    .colab-df-buttons div {\n",
              "      margin-bottom: 4px;\n",
              "    }\n",
              "\n",
              "    [theme=dark] .colab-df-convert {\n",
              "      background-color: #3B4455;\n",
              "      fill: #D2E3FC;\n",
              "    }\n",
              "\n",
              "    [theme=dark] .colab-df-convert:hover {\n",
              "      background-color: #434B5C;\n",
              "      box-shadow: 0px 1px 3px 1px rgba(0, 0, 0, 0.15);\n",
              "      filter: drop-shadow(0px 1px 2px rgba(0, 0, 0, 0.3));\n",
              "      fill: #FFFFFF;\n",
              "    }\n",
              "  </style>\n",
              "\n",
              "    <script>\n",
              "      const buttonEl =\n",
              "        document.querySelector('#df-b649a7c9-c8ee-46dd-a83c-6d11aecb9598 button.colab-df-convert');\n",
              "      buttonEl.style.display =\n",
              "        google.colab.kernel.accessAllowed ? 'block' : 'none';\n",
              "\n",
              "      async function convertToInteractive(key) {\n",
              "        const element = document.querySelector('#df-b649a7c9-c8ee-46dd-a83c-6d11aecb9598');\n",
              "        const dataTable =\n",
              "          await google.colab.kernel.invokeFunction('convertToInteractive',\n",
              "                                                    [key], {});\n",
              "        if (!dataTable) return;\n",
              "\n",
              "        const docLinkHtml = 'Like what you see? Visit the ' +\n",
              "          '<a target=\"_blank\" href=https://colab.research.google.com/notebooks/data_table.ipynb>data table notebook</a>'\n",
              "          + ' to learn more about interactive tables.';\n",
              "        element.innerHTML = '';\n",
              "        dataTable['output_type'] = 'display_data';\n",
              "        await google.colab.output.renderOutput(dataTable, element);\n",
              "        const docLink = document.createElement('div');\n",
              "        docLink.innerHTML = docLinkHtml;\n",
              "        element.appendChild(docLink);\n",
              "      }\n",
              "    </script>\n",
              "  </div>\n",
              "\n",
              "\n",
              "<div id=\"df-c5b18c9b-4bca-466a-a693-58a172cc61c9\">\n",
              "  <button class=\"colab-df-quickchart\" onclick=\"quickchart('df-c5b18c9b-4bca-466a-a693-58a172cc61c9')\"\n",
              "            title=\"Suggest charts\"\n",
              "            style=\"display:none;\">\n",
              "\n",
              "<svg xmlns=\"http://www.w3.org/2000/svg\" height=\"24px\"viewBox=\"0 0 24 24\"\n",
              "     width=\"24px\">\n",
              "    <g>\n",
              "        <path d=\"M19 3H5c-1.1 0-2 .9-2 2v14c0 1.1.9 2 2 2h14c1.1 0 2-.9 2-2V5c0-1.1-.9-2-2-2zM9 17H7v-7h2v7zm4 0h-2V7h2v10zm4 0h-2v-4h2v4z\"/>\n",
              "    </g>\n",
              "</svg>\n",
              "  </button>\n",
              "\n",
              "<style>\n",
              "  .colab-df-quickchart {\n",
              "      --bg-color: #E8F0FE;\n",
              "      --fill-color: #1967D2;\n",
              "      --hover-bg-color: #E2EBFA;\n",
              "      --hover-fill-color: #174EA6;\n",
              "      --disabled-fill-color: #AAA;\n",
              "      --disabled-bg-color: #DDD;\n",
              "  }\n",
              "\n",
              "  [theme=dark] .colab-df-quickchart {\n",
              "      --bg-color: #3B4455;\n",
              "      --fill-color: #D2E3FC;\n",
              "      --hover-bg-color: #434B5C;\n",
              "      --hover-fill-color: #FFFFFF;\n",
              "      --disabled-bg-color: #3B4455;\n",
              "      --disabled-fill-color: #666;\n",
              "  }\n",
              "\n",
              "  .colab-df-quickchart {\n",
              "    background-color: var(--bg-color);\n",
              "    border: none;\n",
              "    border-radius: 50%;\n",
              "    cursor: pointer;\n",
              "    display: none;\n",
              "    fill: var(--fill-color);\n",
              "    height: 32px;\n",
              "    padding: 0;\n",
              "    width: 32px;\n",
              "  }\n",
              "\n",
              "  .colab-df-quickchart:hover {\n",
              "    background-color: var(--hover-bg-color);\n",
              "    box-shadow: 0 1px 2px rgba(60, 64, 67, 0.3), 0 1px 3px 1px rgba(60, 64, 67, 0.15);\n",
              "    fill: var(--button-hover-fill-color);\n",
              "  }\n",
              "\n",
              "  .colab-df-quickchart-complete:disabled,\n",
              "  .colab-df-quickchart-complete:disabled:hover {\n",
              "    background-color: var(--disabled-bg-color);\n",
              "    fill: var(--disabled-fill-color);\n",
              "    box-shadow: none;\n",
              "  }\n",
              "\n",
              "  .colab-df-spinner {\n",
              "    border: 2px solid var(--fill-color);\n",
              "    border-color: transparent;\n",
              "    border-bottom-color: var(--fill-color);\n",
              "    animation:\n",
              "      spin 1s steps(1) infinite;\n",
              "  }\n",
              "\n",
              "  @keyframes spin {\n",
              "    0% {\n",
              "      border-color: transparent;\n",
              "      border-bottom-color: var(--fill-color);\n",
              "      border-left-color: var(--fill-color);\n",
              "    }\n",
              "    20% {\n",
              "      border-color: transparent;\n",
              "      border-left-color: var(--fill-color);\n",
              "      border-top-color: var(--fill-color);\n",
              "    }\n",
              "    30% {\n",
              "      border-color: transparent;\n",
              "      border-left-color: var(--fill-color);\n",
              "      border-top-color: var(--fill-color);\n",
              "      border-right-color: var(--fill-color);\n",
              "    }\n",
              "    40% {\n",
              "      border-color: transparent;\n",
              "      border-right-color: var(--fill-color);\n",
              "      border-top-color: var(--fill-color);\n",
              "    }\n",
              "    60% {\n",
              "      border-color: transparent;\n",
              "      border-right-color: var(--fill-color);\n",
              "    }\n",
              "    80% {\n",
              "      border-color: transparent;\n",
              "      border-right-color: var(--fill-color);\n",
              "      border-bottom-color: var(--fill-color);\n",
              "    }\n",
              "    90% {\n",
              "      border-color: transparent;\n",
              "      border-bottom-color: var(--fill-color);\n",
              "    }\n",
              "  }\n",
              "</style>\n",
              "\n",
              "  <script>\n",
              "    async function quickchart(key) {\n",
              "      const quickchartButtonEl =\n",
              "        document.querySelector('#' + key + ' button');\n",
              "      quickchartButtonEl.disabled = true;  // To prevent multiple clicks.\n",
              "      quickchartButtonEl.classList.add('colab-df-spinner');\n",
              "      try {\n",
              "        const charts = await google.colab.kernel.invokeFunction(\n",
              "            'suggestCharts', [key], {});\n",
              "      } catch (error) {\n",
              "        console.error('Error during call to suggestCharts:', error);\n",
              "      }\n",
              "      quickchartButtonEl.classList.remove('colab-df-spinner');\n",
              "      quickchartButtonEl.classList.add('colab-df-quickchart-complete');\n",
              "    }\n",
              "    (() => {\n",
              "      let quickchartButtonEl =\n",
              "        document.querySelector('#df-c5b18c9b-4bca-466a-a693-58a172cc61c9 button');\n",
              "      quickchartButtonEl.style.display =\n",
              "        google.colab.kernel.accessAllowed ? 'block' : 'none';\n",
              "    })();\n",
              "  </script>\n",
              "</div>\n",
              "\n",
              "    </div>\n",
              "  </div>\n"
            ],
            "text/plain": [
              "          id      word   pos                                     gloss  \\\n",
              "0  ar.962714  أَكْمَدَ     V                 غَمَّ وَأَمْرَضَ القَلْبَ   \n",
              "1  ar.994971         ب  None   حرف جرّ زائد في التوكيد بالنفس والعين .   \n",
              "2  ar.989034     ذَكَا     V          ذَكَا الشَّاةَ ونحوَها: ذَبَحَها   \n",
              "3  ar.994539     وَرَع     V                     وَرَعَ فلانٌ: جَبُنَ.   \n",
              "4  ar.992756     قَلَص     V  قَلَصَ الظِّلُّ عنِّي: انْقَبَض ونَقَصَ.   \n",
              "\n",
              "                                             electra  \\\n",
              "0  [0.2265725881, -0.3225077391, 0.5538389087, 0....   \n",
              "1  [0.1076807305, -0.0218244735, -0.3933216333000...   \n",
              "2  [0.6839492321, -0.0342893749, 0.5485743284, 0....   \n",
              "3  [-0.08947025980000001, 0.3989391923, -0.360960...   \n",
              "4  [-0.7175729275, -0.4579240382, 0.1205300912000...   \n",
              "\n",
              "                                             bertseg  \\\n",
              "0  [0.1318395436, -0.203442499, 0.0180867836, -0....   \n",
              "1  [0.3571605384, -0.1502435058, -0.0939490572, -...   \n",
              "2  [0.0577338375, -0.1058739722, -0.1061836034, 0...   \n",
              "3  [0.06446439030000001, 0.0653506145, 0.21089071...   \n",
              "4  [0.058123521500000004, -0.0278340597, 0.124133...   \n",
              "\n",
              "                                             bertmsa  \n",
              "0  [-1.0540555716, 0.7359393239, -0.4855850637000...  \n",
              "1  [-0.8878438473, 1.0998017788, 1.085614562, 1.3...  \n",
              "2  [-1.9565393925, 1.2845952511, 0.3016183376, 0....  \n",
              "3  [0.3653689027, 1.1957067251, -0.0340094306, 0....  \n",
              "4  [-0.3557761014, 0.22549220920000002, -0.043720...  "
            ]
          },
          "execution_count": 4,
          "metadata": {},
          "output_type": "execute_result"
        }
      ],
      "source": [
        "df.head()"
      ]
    },
    {
      "cell_type": "markdown",
      "metadata": {
        "id": "mKkhOW3Oj_uy"
      },
      "source": [
        "# DATA\n"
      ]
    },
    {
      "cell_type": "code",
      "execution_count": null,
      "metadata": {
        "colab": {
          "base_uri": "https://localhost:8080/"
        },
        "id": "9ai5k50cizuh",
        "outputId": "1fdbf2ef-5677-4e44-96fa-8704c74d1521"
      },
      "outputs": [
        {
          "name": "stderr",
          "output_type": "stream",
          "text": [
            "[nltk_data] Downloading package stopwords to /root/nltk_data...\n",
            "[nltk_data]   Unzipping corpora/stopwords.zip.\n",
            "[nltk_data] Downloading package punkt to /root/nltk_data...\n",
            "[nltk_data]   Unzipping tokenizers/punkt.zip.\n"
          ]
        },
        {
          "data": {
            "text/plain": [
              "True"
            ]
          },
          "execution_count": 5,
          "metadata": {},
          "output_type": "execute_result"
        }
      ],
      "source": [
        "nltk.download('stopwords')\n",
        "# nltk.download('arabic')\n",
        "nltk.download('punkt')"
      ]
    },
    {
      "cell_type": "code",
      "execution_count": null,
      "metadata": {
        "id": "YDjPujLsedAy"
      },
      "outputs": [],
      "source": [
        "\n",
        "stop_words = list(set(stopwords.words('arabic')))\n",
        "a_dict = r\"\"\"\n",
        "                             ّ    | # Tashdid\n",
        "                             َ    | # Fatha\n",
        "                             ً    | # Tanwin Fath\n",
        "                             ُ    | # Damma\n",
        "                             ٌ    | # Tanwin Damm\n",
        "                             ِ    | # Kasra\n",
        "                             ٍ    | # Tanwin Kasr\n",
        "                             ْ    | # Sukun\n",
        "                            ـ    | # Tatwil/Kashida\n",
        "                     \"\"\"\n",
        "\n",
        "def preprocess_text(text):\n",
        "    # Remove special characters {& $ @} and punctuation {. , ? !}\n",
        "    text = re.sub(r'[^\\w\\s]', '', text)\n",
        "\n",
        "    # Remove Arabic diacritics\n",
        "    text = re.sub(a_dict, '', text)\n",
        "\n",
        "    # Tokeniz The Sentence into tokens\n",
        "    tokens = word_tokenize(text)\n",
        "    tokens = [word for word in tokens if word not in stop_words and len(word) > 1]\n",
        "    preprocessed_text = ' '.join(tokens)\n",
        "\n",
        "    return preprocessed_text\n",
        "\n"
      ]
    },
    {
      "cell_type": "code",
      "execution_count": null,
      "metadata": {
        "id": "36PDEDsfOkWs"
      },
      "outputs": [],
      "source": [
        "def read_json(path):\n",
        "    with open(path, 'r', encoding='utf-8') as fin:\n",
        "        data = json.load(fin)\n",
        "    return data\n",
        "\n",
        "def write_json(path, data):\n",
        "    with open(path, 'w', encoding='utf-8') as fout:\n",
        "        json.dump(data, fout)\n",
        "\n",
        "\n",
        "class ARDDataset(Dataset):\n",
        "    def __init__(self, path, is_test=False) -> None:\n",
        "        super().__init__()\n",
        "        self.is_test = is_test\n",
        "        self.data = read_json(path)\n",
        "\n",
        "    def __getitem__(self, index):\n",
        "        sample = self.data[index]\n",
        "        if self.is_test:\n",
        "            return sample[\"id\"], sample[\"word\"], preprocess_text(sample[\"gloss\"]),\n",
        "        else:\n",
        "            return sample[\"id\"], sample[\"word\"], preprocess_text(sample[\"gloss\"]), sample[\"electra\"], sample[\"bertseg\"], sample['bertmsa']\n",
        "\n",
        "    def __len__(self):\n",
        "        return len(self.data)"
      ]
    },
    {
      "cell_type": "code",
      "execution_count": null,
      "metadata": {
        "id": "wRzJiU2Gjtrq"
      },
      "outputs": [],
      "source": [
        "BOS = \"<seq>\"\n",
        "EOS = \"</seq>\"\n",
        "PAD = \"<pad/>\"\n",
        "UNK = \"<unk/>\"\n",
        "\n",
        "SUPPORTED_ARCHS = ([\"sgns\"])\n",
        "\n",
        "# A dataset is a container object for the actual data\n",
        "class JSONDataset(Dataset):\n",
        "    \"\"\"Reads a CODWOE JSON dataset\"\"\"\n",
        "\n",
        "    def __init__(self, file, vocab=None, freeze_vocab=False, maxlen=256):\n",
        "        \"\"\"\n",
        "        Construct a torch.utils.data.Dataset compatible with torch data API and\n",
        "        codwoe data.\n",
        "        args: `file` the path to the dataset file\n",
        "              `vocab` a dictionary mapping strings to indices\n",
        "              `freeze_vocab` whether to update vocabulary, or just replace unknown items with OOV token\n",
        "              `maxlen` the maximum number of tokens per gloss\n",
        "        \"\"\"\n",
        "        if vocab is None:\n",
        "            self.vocab = defaultdict(count().__next__)\n",
        "        else:\n",
        "            self.vocab = defaultdict(count(len(vocab)).__next__)\n",
        "            self.vocab.update(vocab)\n",
        "        pad, eos, bos, unk = (\n",
        "            self.vocab[PAD],\n",
        "            self.vocab[EOS],\n",
        "            self.vocab[BOS],\n",
        "            self.vocab[UNK],\n",
        "        )\n",
        "        if freeze_vocab:\n",
        "            self.vocab = dict(vocab)\n",
        "        with open(file, \"r\") as istr:\n",
        "            self.items = json.load(istr)\n",
        "        # preparse data\n",
        "        for json_dict in self.items:\n",
        "            # in definition modeling test datasets, gloss targets are absent\n",
        "            if \"gloss\" in json_dict:\n",
        "                json_dict[\"gloss_tensor\"] = torch.tensor(\n",
        "                    [bos]\n",
        "                    + [\n",
        "                        self.vocab[word]\n",
        "                        if not freeze_vocab\n",
        "                        else self.vocab.get(word, unk)\n",
        "                        for word in json_dict[\"gloss\"].split()\n",
        "                    ]\n",
        "                    + [eos]\n",
        "                )\n",
        "                if maxlen:\n",
        "                    json_dict[\"gloss_tensor\"] = json_dict[\"gloss_tensor\"][:maxlen]\n",
        "            # in reverse dictionary test datasets, vector targets are absent\n",
        "            for arch in SUPPORTED_ARCHS:\n",
        "                if arch in json_dict:\n",
        "\n",
        "                    json_dict[f\"{arch}_tensor\"] = torch.tensor(json_dict[arch])\n",
        "            if \"electra\" in json_dict:\n",
        "                json_dict[\"electra_tensor\"] = torch.tensor(json_dict[\"electra\"])\n",
        "            elif \"bertseg\" in json_dict:\n",
        "                json_dict[\"bertseg_tensor\"] = torch.tensor(json_dict[\"bertseg\"])\n",
        "            elif \"bertmsa\" in json_dict:\n",
        "                json_dict[\"bertmsa_tensor\"] = torch.tensor(json_dict[\"bertmsa\"])\n",
        "        self.has_gloss = \"gloss\" in self.items[0]\n",
        "        self.has_vecs = SUPPORTED_ARCHS[0] in self.items[0]\n",
        "        self.has_electra = \"electra\" in self.items[0]\n",
        "        self.has_bertseg = \"bertseg\" in self.items[0]\n",
        "        self.has_bertmsa = \"bertmsa\" in self.items[0]\n",
        "        self.itos = sorted(self.vocab, key=lambda w: self.vocab[w])\n",
        "\n",
        "    def __len__(self):\n",
        "        return len(self.items)\n",
        "\n",
        "    def __getitem__(self, index):\n",
        "        return self.items[index]\n",
        "\n",
        "    # we're adding this method to simplify the code in our predictions of\n",
        "    # glosses\n",
        "    def decode(self, tensor):\n",
        "        \"\"\"Convert a sequence of indices (possibly batched) to tokens\"\"\"\n",
        "        with torch.no_grad():\n",
        "            if tensor.dim() == 2:\n",
        "                # we have batched tensors of shape [Seq x Batch]\n",
        "                decoded = []\n",
        "                for tensor_ in tensor.t():\n",
        "                    decoded.append(self.decode(tensor_))\n",
        "                return decoded\n",
        "            else:\n",
        "                return \" \".join(\n",
        "                    [self.itos[i.item()] for i in tensor if i != self.vocab[PAD]]\n",
        "                )\n",
        "\n",
        "    def save(self, file):\n",
        "        torch.save(self, file)\n",
        "\n",
        "    @staticmethod\n",
        "    def load(file):\n",
        "        return torch.load(file)\n",
        "\n",
        "\n",
        "# A sampler allows you to define how to select items from your Dataset. Torch\n",
        "# provides a number of default Sampler classes\n",
        "class TokenSampler(Sampler):\n",
        "    \"\"\"Produce batches with up to `batch_size` tokens in each batch\"\"\"\n",
        "\n",
        "    def __init__(\n",
        "        self, dataset, batch_size=200, size_fn=len, drop_last=False, shuffle=True\n",
        "    ):\n",
        "        \"\"\"\n",
        "        args: `dataset` a torch.utils.data.Dataset (iterable style)\n",
        "              `batch_size` the maximum number of tokens in a batch\n",
        "              `size_fn` a callable that yields the number of tokens in a dataset item\n",
        "              `drop_last` if True and the data can't be divided in exactly the right number of batch, drop the last batch\n",
        "              `shuffle` if True, shuffle between every iteration\n",
        "        \"\"\"\n",
        "        self.dataset = dataset\n",
        "        self.batch_size = batch_size\n",
        "        self.size_fn = size_fn\n",
        "        self._len = None\n",
        "        self.drop_last = drop_last\n",
        "        self.shuffle = True\n",
        "\n",
        "    def __iter__(self):\n",
        "        indices = range(len(self.dataset))\n",
        "        if self.shuffle:\n",
        "            indices = list(indices)\n",
        "            random.shuffle(indices)\n",
        "        i = 0\n",
        "        selected = []\n",
        "        numel = 0\n",
        "        longest_len = 0\n",
        "        for i in indices:\n",
        "            if numel + self.size_fn(self.dataset[i]) > self.batch_size:\n",
        "                if selected:\n",
        "                    yield selected\n",
        "                selected = []\n",
        "                numel = 0\n",
        "            numel += self.size_fn(self.dataset[i])\n",
        "            selected.append(i)\n",
        "        if selected and not self.drop_last:\n",
        "            yield selected\n",
        "\n",
        "    def __len__(self):\n",
        "        if self._len is None:\n",
        "            self._len = (\n",
        "                sum(self.size_fn(self.dataset[i]) for i in range(len(self.dataset)))\n",
        "                // self.batch_size\n",
        "            )\n",
        "        return self._len\n",
        "\n",
        "\n",
        "# DataLoaders give access to an iterator over the dataset, using a sampling\n",
        "# strategy as defined through a Sampler.\n",
        "def get_dataloader(dataset, batch_size=200, shuffle=True):\n",
        "    \"\"\"produce dataloader.\n",
        "    args: `dataset` a torch.utils.data.Dataset (iterable style)\n",
        "          `batch_size` the maximum number of tokens in a batch\n",
        "          `shuffle` if True, shuffle between every iteration\n",
        "    \"\"\"\n",
        "    # some constants for the closures\n",
        "    has_gloss = dataset.has_gloss\n",
        "    has_vecs = dataset.has_vecs\n",
        "    has_electra = dataset.has_electra\n",
        "    has_bertseg = dataset.has_bertseg\n",
        "    has_bertmsa = dataset.has_bertmsa\n",
        "    PAD_idx = dataset.vocab[PAD]\n",
        "\n",
        "    # the collate function has to convert a list of dataset items into a batch\n",
        "    def do_collate(json_dicts):\n",
        "        \"\"\"collates example into a dict batch; produces ands pads tensors\"\"\"\n",
        "        batch = defaultdict(list)\n",
        "        for jdict in json_dicts:\n",
        "            for key in jdict:\n",
        "                batch[key].append(jdict[key])\n",
        "        if has_gloss:\n",
        "            batch[\"gloss_tensor\"] = pad_sequence(\n",
        "                batch[\"gloss_tensor\"], padding_value=PAD_idx, batch_first=False\n",
        "            )\n",
        "        if has_vecs:\n",
        "            for arch in SUPPORTED_ARCHS:\n",
        "                batch[f\"{arch}_tensor\"] = torch.stack(batch[f\"{arch}_tensor\"])\n",
        "        if has_electra:\n",
        "            batch[\"electra_tensor\"] = torch.stack(batch[\"electra_tensor\"])\n",
        "        if has_bertseg:\n",
        "            batch[\"bertseg_tensor\"] = torch.stack(batch[\"bertseg_tensor\"])\n",
        "        if has_bertmsa:\n",
        "            batch[\"bertmsa_tensor\"] = torch.stack(batch[\"bertmsa_tensor\"])\n",
        "        return dict(batch)\n",
        "\n",
        "    if dataset.has_gloss:\n",
        "        # we try to keep the amount of gloss tokens roughly constant across all\n",
        "        # batches.\n",
        "        def do_size_item(item):\n",
        "            \"\"\"retrieve tensor size, so as to batch items per elements\"\"\"\n",
        "            return item[\"gloss_tensor\"].numel()\n",
        "\n",
        "        return DataLoader(\n",
        "            dataset,\n",
        "            collate_fn=do_collate,\n",
        "            batch_sampler=TokenSampler(\n",
        "                dataset, batch_size=batch_size, size_fn=do_size_item, shuffle=shuffle\n",
        "            ),\n",
        "        )\n",
        "    else:\n",
        "        # there's no gloss, hence no gloss tokens, so we use a default batching\n",
        "        # strategy.\n",
        "        return DataLoader(\n",
        "            dataset, collate_fn=do_collate, batch_size=batch_size, shuffle=shuffle\n",
        "        )"
      ]
    },
    {
      "cell_type": "markdown",
      "metadata": {
        "id": "Wl2vzSSUkZ2e"
      },
      "source": [
        "\n",
        "# MODELS\n"
      ]
    },
    {
      "cell_type": "code",
      "execution_count": null,
      "metadata": {
        "id": "ZWQUvKBwkI2B"
      },
      "outputs": [],
      "source": [
        "class AraT5RevDict(nn.Module):\n",
        "    def __init__(self, args) -> None:\n",
        "        super().__init__()\n",
        "        if args.resume_train:\n",
        "            self.base_model = AutoModelForSeq2SeqLM.from_pretrained(args.resume_file)\n",
        "            raise NotImplementedError()\n",
        "        else:\n",
        "            if args.from_pretrained:\n",
        "                self.base_model = AutoModelForSeq2SeqLM.from_pretrained(\"UBC-NLP/AraT5v2-base-1024\")\n",
        "            else:\n",
        "                model_config = AutoConfig.from_pretrained(\"UBC-NLP/AraT5v2-base-1024\")\n",
        "                self.base_model = AutoModelForSeq2SeqLM.from_config(model_config)\n",
        "\n",
        "        self.linear = nn.Linear(self.base_model.config.hidden_size, args.max_len)\n",
        "\n",
        "    def forward(self, input_ids, attention_mask, labels):\n",
        "        outputs:Seq2SeqLMOutput = self.base_model(input_ids=input_ids,\n",
        "            attention_mask=attention_mask,\n",
        "            labels=labels,\n",
        "            return_dict=True\n",
        "        )\n",
        "\n",
        "        pooled_emb = (outputs.encoder_last_hidden_state * attention_mask.unsqueeze(2)).sum(dim=1) / attention_mask.sum(dim=1).unsqueeze(1)\n",
        "\n",
        "        embedding = self.linear(pooled_emb)\n",
        "        return outputs.loss, embedding\n",
        "\n",
        "    def save(self, file):\n",
        "        torch.save(self, file)\n",
        "        print(\"\\n--\\nsave1\\n--\\n\")\n",
        "\n",
        "    @staticmethod\n",
        "    def load(file):\n",
        "        return torch.load(file)\n",
        "\n",
        "class ARBERTRevDict(nn.Module):\n",
        "    def __init__(self, args) -> None:\n",
        "        super().__init__()\n",
        "        if args.resume_train:\n",
        "            self.base_model = AutoModel.from_pretrained(args.resume_file)\n",
        "            raise NotImplementedError()\n",
        "        else:\n",
        "            if args.from_pretrained:\n",
        "                self.base_model = AutoModel.from_pretrained(args.model_name)\n",
        "            else:\n",
        "                model_config = AutoConfig.from_pretrained(args.model_name)\n",
        "                self.base_model = AutoModel.from_config(model_config)\n",
        "\n",
        "        self.linear = nn.Linear(self.base_model.config.hidden_size, args.max_len)\n",
        "\n",
        "    def forward(self, input_ids, token_type_ids , attention_mask):\n",
        "        feats = self.base_model(input_ids=input_ids, attention_mask=attention_mask).pooler_output\n",
        "        embedding = self.linear(feats)\n",
        "        return embedding\n",
        "\n",
        "    def save(self, file):\n",
        "        self.base_model.save_pretrained(file,from_pt=True)\n",
        "        print(\"\\n--\\nsave_pretrained\\n--\\n\")\n",
        "        # torch.save(self, file)\n",
        "\n",
        "    @staticmethod\n",
        "    def load(file):\n",
        "        return AutoModel.from_pretrained(file)\n",
        "\n",
        "class PositionalEncoding(nn.Module):\n",
        "    \"\"\"From PyTorch\"\"\"\n",
        "\n",
        "    def __init__(self, d_model, dropout=0.1, max_len=4096):\n",
        "        super(PositionalEncoding, self).__init__()\n",
        "        self.dropout = nn.Dropout(p=dropout)\n",
        "        pe = torch.zeros(max_len, d_model)\n",
        "        position = torch.arange(0, max_len, dtype=torch.float).unsqueeze(1)\n",
        "        div_term = torch.exp(\n",
        "            torch.arange(0, d_model, 2).float() * (-math.log(10000.0) / d_model)\n",
        "        )\n",
        "        pe[:, 0::2] = torch.sin(position * div_term)\n",
        "        pe[:, 1::2] = torch.cos(position * div_term)\n",
        "        pe = pe.unsqueeze(0).transpose(0, 1)\n",
        "        self.register_buffer(\"pe\", pe)\n",
        "\n",
        "    def forward(self, x):\n",
        "        x = x + self.pe[: x.size(0)]\n",
        "        return self.dropout(x)\n",
        "\n",
        "\n",
        "\n",
        "class RevdictModel(nn.Module):\n",
        "    \"\"\"A transformer architecture for Reverse Dictionary\"\"\"\n",
        "\n",
        "    def __init__(\n",
        "        self, vocab, d_model=256, n_head=4, n_layers=4, dropout=0.3, maxlen=512\n",
        "    ):\n",
        "        super(RevdictModel, self).__init__()\n",
        "        self.d_model = d_model\n",
        "        self.padding_idx = vocab[PAD]\n",
        "        self.eos_idx = vocab[EOS]\n",
        "        self.maxlen = maxlen\n",
        "\n",
        "        self.embedding = nn.Embedding(len(vocab), d_model, padding_idx=self.padding_idx)\n",
        "        self.positional_encoding = PositionalEncoding(\n",
        "            d_model, dropout=dropout, max_len=maxlen\n",
        "        )\n",
        "        encoder_layer = nn.TransformerEncoderLayer(\n",
        "            d_model=d_model, nhead=n_head, dropout=dropout, dim_feedforward=d_model * 2\n",
        "        )\n",
        "        self.transformer_encoder = nn.TransformerEncoder(\n",
        "            encoder_layer, num_layers=n_layers\n",
        "        )\n",
        "        self.dropout = nn.Dropout(p=dropout)\n",
        "        self.e_proj = nn.Linear(d_model, d_model)\n",
        "        for name, param in self.named_parameters():\n",
        "            if param.dim() > 1:\n",
        "                nn.init.xavier_uniform_(param)\n",
        "            elif \"bias\" in name:\n",
        "                nn.init.zeros_(param)\n",
        "            else:  # gain parameters of the layer norm\n",
        "                nn.init.ones_(param)\n",
        "\n",
        "    def forward(self, gloss_tensor):\n",
        "        src_key_padding_mask = gloss_tensor == self.padding_idx\n",
        "        embs = self.embedding(gloss_tensor)\n",
        "        src = self.positional_encoding(embs)\n",
        "        transformer_output = self.dropout(\n",
        "            self.transformer_encoder(src, src_key_padding_mask=src_key_padding_mask.t())\n",
        "        )\n",
        "        summed_embs = transformer_output.masked_fill(\n",
        "            src_key_padding_mask.unsqueeze(-1), 0\n",
        "        ).sum(dim=0)\n",
        "        return self.e_proj(F.relu(summed_embs))\n",
        "\n",
        "    @staticmethod\n",
        "    def load(file):\n",
        "        return torch.load(file)\n",
        "\n",
        "    def save(self, file):\n",
        "        torch.save(self, file)\n",
        "        print(\"\\n--\\nsave2\\n--\\n\")"
      ]
    },
    {
      "cell_type": "code",
      "execution_count": null,
      "metadata": {
        "colab": {
          "base_uri": "https://localhost:8080/"
        },
        "id": "mNCfm7_G-7b3",
        "outputId": "1fc70db9-ace9-4b8e-f841-d8117a24c79f"
      },
      "outputs": [
        {
          "name": "stdout",
          "output_type": "stream",
          "text": [
            "There are 1 GPU(s) available.\n",
            "We will use the GPU: NVIDIA A100-SXM4-40GB\n"
          ]
        }
      ],
      "source": [
        "# If there's a GPU available...\n",
        "if torch.cuda.is_available():\n",
        "\n",
        "    # Tell PyTorch to use the GPU.\n",
        "    device = torch.device(\"cuda\")\n",
        "\n",
        "    print('There are %d GPU(s) available.' % torch.cuda.device_count())\n",
        "\n",
        "    print('We will use the GPU:', torch.cuda.get_device_name(0))\n",
        "\n",
        "# If not...\n",
        "else:\n",
        "    print('No GPU available, using the CPU instead.')\n",
        "    device = torch.device(\"cpu\")\n"
      ]
    },
    {
      "cell_type": "code",
      "execution_count": null,
      "metadata": {
        "id": "SfsMGhc_pQ6r"
      },
      "outputs": [],
      "source": [
        "!PYTORCH_CUDA_ALLOC_CONF=True"
      ]
    },
    {
      "cell_type": "code",
      "execution_count": null,
      "metadata": {
        "id": "3W0D0HsbT0bX"
      },
      "outputs": [],
      "source": [
        "def rank_cosine(preds, targets):\n",
        "    assocs = F.normalize(preds) @ F.normalize(targets).T\n",
        "    refs = torch.diagonal(assocs, 0).unsqueeze(1)\n",
        "    ranks = (assocs >= refs).sum(1).float()\n",
        "    assert ranks.numel() == preds.size(0)\n",
        "    ranks = ranks.mean().item()\n",
        "    return ranks / preds.size(0)\n",
        "\n"
      ]
    },
    {
      "cell_type": "code",
      "execution_count": null,
      "metadata": {
        "id": "pt6_1XLSJDIf"
      },
      "outputs": [],
      "source": [
        "def train(args):\n",
        "    assert args.train_file is not None, \"Missing dataset for training\"\n",
        "    # 1. get data, vocabulary, summary writer\n",
        "    logger.debug(\"Preloading data\")\n",
        "    ## make datasets\n",
        "    train_dataset = ARDDataset(args.train_file)\n",
        "    valid_dataset = ARDDataset(args.dev_file)\n",
        "\n",
        "    ## make dataloader\n",
        "    train_dataloader = DataLoader(train_dataset, shuffle=True, batch_size=args.batch_size)\n",
        "    valid_dataloader = DataLoader(valid_dataset, batch_size=args.batch_size)\n",
        "    ## make summary writer\n",
        "    summary_writer = SummaryWriter(args.save_dir / args.summary_logdir)\n",
        "    train_step = itertools.count()  # to keep track of the training steps for logging\n",
        "\n",
        "    # 2. construct model\n",
        "    ## Hyperparams\n",
        "    logger.debug(\"Setting up training environment\")\n",
        "\n",
        "    model = AraT5RevDict(args).to(args.device)\n",
        "    tokenizer = AutoTokenizer.from_pretrained(args.model_name)\n",
        "    model.train()\n",
        "\n",
        "    # 3. declare optimizer & loss_fn\n",
        "    ## Hyperparams\n",
        "    EPOCHS, LEARNING_RATE, BETA1, BETA2, WEIGHT_DECAY = args.num_epochs, 1.0e-4, 0.9, 0.999, 1.0e-6\n",
        "    optimizer = optim.AdamW(\n",
        "        model.parameters(),\n",
        "        lr=LEARNING_RATE,\n",
        "        betas=(BETA1, BETA2),\n",
        "        weight_decay=WEIGHT_DECAY,\n",
        "    )\n",
        "\n",
        "    loss_fn = nn.MSELoss()\n",
        "\n",
        "    vec_tensor_key = f\"{args.target_arch}_tensor\"\n",
        "\n",
        "    best_cosine = 0\n",
        "\n",
        "    # 4. train model\n",
        "    for epoch in tqdm.trange(EPOCHS, desc=\"Epochs\"):\n",
        "        ## train loop\n",
        "        pbar = tqdm.tqdm(\n",
        "            desc=f\"Train {epoch}\", total=len(train_dataset), disable=None, leave=False\n",
        "        )\n",
        "        for ids, word, gloss, electra, bertseg, bertmsa in train_dataloader:\n",
        "            optimizer.zero_grad()\n",
        "\n",
        "            word_tokens = tokenizer(word, padding=True, return_tensors='pt').to(args.device)\n",
        "            gloss_tokens = tokenizer(gloss, padding=True, return_tensors='pt').to(args.device)\n",
        "\n",
        "            if args.target_arch == \"electra\":\n",
        "                target_embs = torch.stack(electra, dim=1).to(args.device)\n",
        "            elif args.target_arch ==\"bertseg\":\n",
        "                target_embs = torch.stack(bertseg, dim=1).to(args.device)\n",
        "            elif args.target_arch ==\"bertmsa\":\n",
        "                target_embs = torch.stack(bertmsa, dim=1).to(args.device)\n",
        "\n",
        "            target_embs = target_embs.float()\n",
        "\n",
        "            ce_loss, pred_embs = model(\n",
        "                gloss_tokens[\"input_ids\"],\n",
        "                gloss_tokens[\"attention_mask\"],\n",
        "                word_tokens[\"input_ids\"],\n",
        "            )\n",
        "\n",
        "            mse_loss = loss_fn(pred_embs, target_embs)\n",
        "            loss = args.ce_loss_weight * ce_loss + mse_loss\n",
        "            loss.backward()\n",
        "\n",
        "            # keep track of the train loss for this step\n",
        "            next_step = next(train_step)\n",
        "            summary_writer.add_scalar(\n",
        "                \"revdict-train/cos\",\n",
        "                F.cosine_similarity(pred_embs, target_embs).mean().item(),\n",
        "                next_step,\n",
        "            )\n",
        "            summary_writer.add_scalar(\"revdict-train/mse\", loss.item(), next_step)\n",
        "            optimizer.step()\n",
        "            pbar.update(target_embs.size(0))\n",
        "\n",
        "        pbar.close()\n",
        "\n",
        "\n",
        "        ## eval loop\n",
        "        if args.dev_file:\n",
        "            model.eval()\n",
        "            with torch.no_grad():\n",
        "                sum_dev_loss, sum_cosine, sum_rnk = 0.0, 0.0, 0.0\n",
        "                pbar = tqdm.tqdm(\n",
        "                    desc=f\"Eval {epoch}\",\n",
        "                    total=len(valid_dataset),\n",
        "                    disable=None,\n",
        "                    leave=False,\n",
        "                )\n",
        "                pred_embs_list, target_embs_list = [], []\n",
        "                for ids, word, gloss, electra, bertseg, bertmsa in valid_dataloader:\n",
        "                    # word_tokens = tokenizer(word, padding=True, return_tensors='pt').to(args.device)\n",
        "                    # gloss_tokens = tokenizer(gloss, max_length=512, padding=True, truncation=True, return_tensors='pt').to(args.device)\n",
        "\n",
        "                    word_tokens = tokenizer(word, padding=True, return_tensors='pt').to(args.device)\n",
        "                    gloss_tokens = tokenizer(gloss, padding=True, return_tensors='pt').to(args.device)\n",
        "\n",
        "                    if args.target_arch == \"electra\":\n",
        "                        target_embs = torch.stack(electra, dim=1).to(args.device)\n",
        "                    elif args.target_arch == \"bertseg\":\n",
        "                        target_embs = torch.stack(bertseg, dim=1).to(args.device)\n",
        "                    elif args.target_arch == \"bertmsa\":\n",
        "                        target_embs = torch.stack(bertmsa, dim=1).to(args.device)\n",
        "\n",
        "                    target_embs = target_embs.float()\n",
        "\n",
        "                    ce_loss, pred_embs = model(\n",
        "                        gloss_tokens[\"input_ids\"],\n",
        "                        gloss_tokens[\"attention_mask\"],\n",
        "                        word_tokens[\"input_ids\"],\n",
        "                    )\n",
        "\n",
        "                    mse_loss = loss_fn(pred_embs, target_embs)\n",
        "                    loss = args.ce_loss_weight * ce_loss + mse_loss\n",
        "\n",
        "                    # sum_dev_loss += (\n",
        "                    #     F.mse_loss(pred_embs, target_embs, reduction=\"none\").mean(1).sum().item()\n",
        "                    # )\n",
        "                    sum_dev_loss += loss.item()\n",
        "                    sum_cosine += F.cosine_similarity(pred_embs, target_embs).sum().item()\n",
        "\n",
        "                    # sum_rnk += rank_cosine(pred_embs, target_embs)\n",
        "\n",
        "                    pred_embs_list.append(pred_embs.cpu())\n",
        "                    target_embs_list.append(target_embs.cpu())\n",
        "\n",
        "                    pbar.update(target_embs.size(0))\n",
        "\n",
        "                sum_rnk = rank_cosine(torch.cat(pred_embs_list, dim=0), torch.cat(target_embs_list, dim=0))\n",
        "\n",
        "                pbar = tqdm.tqdm(\n",
        "                    desc=f\"Eval {epoch} cos: \"+str(sum_cosine / len(valid_dataset))+\" mse: \"+str( sum_dev_loss / len(valid_dataset) )+\" rnk: \"+str(sum_rnk/ len(valid_dataset))+ \" sum_rnk: \"+str(sum_rnk)+\" len of dev: \"+str(len(valid_dataset)) +\"\\n\",\n",
        "                    total=len(valid_dataset),\n",
        "                    disable=None,\n",
        "                    leave=False,\n",
        "                )\n",
        "\n",
        "                if sum_cosine >= best_cosine:\n",
        "                    best_cosine = sum_cosine\n",
        "                    print(f\"Saving Best Checkpoint at Epoch {epoch} best cosine {best_cosine} .\")\n",
        "                    model.save(args.save_dir / args.best_model)\n",
        "\n",
        "\n",
        "                # keep track of the average loss on dev set for this epoch\n",
        "                summary_writer.add_scalar(\n",
        "                    \"revdict-dev/cos\", sum_cosine / len(valid_dataset), epoch\n",
        "                )\n",
        "                summary_writer.add_scalar(\n",
        "                    \"revdict-dev/mse\", sum_dev_loss / len(valid_dataset), epoch\n",
        "                )\n",
        "                summary_writer.add_scalar(\n",
        "                    \"revdict-dev/rnk\", sum_rnk / len(valid_dataset), epoch\n",
        "                )\n",
        "                pbar.close()\n",
        "                model.train()\n",
        "\n",
        "        model.save(args.save_dir / \"model_epoch.pt\")\n",
        "\n",
        "    # 5. save result\n",
        "    model.save(args.save_dir / args.last_state_model)\n",
        "\n"
      ]
    },
    {
      "cell_type": "code",
      "execution_count": null,
      "metadata": {
        "id": "scx99iOmJc7t"
      },
      "outputs": [],
      "source": [
        "class Args(object):\n",
        "  def __init__(self, **kwargs):\n",
        "    self.__dict__ = kwargs\n",
        "\n",
        "# python revdict.py --do_train --train_file ../../../dev.json --dev_file ../../../dev.json  --model_name \"aubmindlab/bert-base-arabertv02\""
      ]
    },
    {
      "cell_type": "code",
      "execution_count": null,
      "metadata": {
        "id": "xLM0CBg5iQqI"
      },
      "outputs": [],
      "source": [
        "args_train = Args(\n",
        "    train_file = pathlib.Path(\"/content/drive/MyDrive/data_for_KKSA_NLP_CH/train.json\"),\n",
        "    dev_file = pathlib.Path(\"/content/drive/MyDrive/data_for_KKSA_NLP_CH/dev.json\"),\n",
        "    save_dir = pathlib.Path(\"/content/drive/MyDrive/data_for_KKSA_NLP_CH/models/\"),\n",
        "    summary_logdir =pathlib.Path(\"/content/drive/MyDrive/data_for_KKSA_NLP_CH/logs/\"),\n",
        "    # model_name=\"aubmindlab/bert-base-arabertv02\",\n",
        "    model_name=\"UBC-NLP/AraT5v2-base-1024\",\n",
        "    device=\"cuda\",\n",
        "    # device=\"cpu\",\n",
        "    target_arch=\"electra\", # choices=(\"sgns\", \"electra\", \"bertseg\", \"bertmsa\"),\n",
        "\n",
        "    batch_size=32,\n",
        "    # resume_train=\"/content/drive/MyDrive/data_for_KKSA_NLP_CH/models/model_epoch.pt\",\n",
        "    resume_train=None,\n",
        "    resume_file=None,\n",
        "    from_pretrained=False,\n",
        "    max_len=256, # choices=(300, 256, 768),\n",
        "    num_epochs=10,\n",
        "    ce_loss_weight=1,\n",
        "    best_model=\"best_model_electra_v5.pt\",\n",
        "    last_state_model=\"model_electra_v5.pt\",\n",
        ")"
      ]
    },
    {
      "cell_type": "code",
      "execution_count": null,
      "metadata": {
        "colab": {
          "background_save": true,
          "base_uri": "https://localhost:8080/",
          "height": 1000,
          "referenced_widgets": [
            "592598eccacc428a8332f52abb82b798",
            "f80602767333474c8752a36305ab5ef7",
            "4b36e668089841d79c1a8ede42480d12",
            "275a26d8ded04e52a41b7938b10b104c",
            "96d6bdbe12124cd192c79c708c0f4f21",
            "dc19a5a41f114a9ca15fae24a92c68b5",
            "9c49dea9e6b64c698d1553939fa42986",
            "ffb199fe315a46b898191d35b95afd51",
            "5052af57f2d344f99d6bb4bcbfe4d127",
            "1cd4953fe5e5414685ebab8e32aff234",
            "f249c94534da433c9a4f7d5053f89752",
            "e8cedddc6b2b467996f8dd067fa5d678",
            "b88f06ce4d5a4e789c746e6b70520d82",
            "b0c9b571144e46618a0f99a52b293d16",
            "45de7754eb624efaa6cb63b65170c73e",
            "42b49a4ecd774814b3bbe68771c92f49",
            "e98bbfca6ad0445ba1bf757b932408a5",
            "91d260f331c948cfa2d36d0024f1f46b",
            "1a6d1389e6cb40eca67f44cc38c36734",
            "b1aa753751034b199ae934d896d2b58b",
            "1e8e7bef653c424fb61690d8b5d41fe1",
            "62e6d35b52224a8896a8ec1e5aaf1ca2",
            "dc178756ad924b74b497da6921e92d3d",
            "22655b0dbd494ccf9c6c7ef629630551",
            "f7dae607bba44a5e9f3a85bacb69f5cc",
            "3e4178e0fac343429ffbf79c7316fc48",
            "e4f2ea7e1c224f46ba36987b51ade508",
            "a09b4d25d60c47ad91551f0ea554136b",
            "794bfdb392f94133a9c47253af6e36de",
            "8288e4cabb764655b40d2fa0389305eb",
            "c6d1376122994b7d86b583761a389f30",
            "92a438a193cf49b5a6420a37e3d6061c",
            "28ca32facfea434b83e00074ad8fa56d",
            "5c4f92d7156848d3a64969ad57054dc1",
            "727c5d8419ba416d9edb7108c2b2f81e",
            "7c00a70d92664890933b69d197f97f41",
            "c1cc4f8f83dc446e80d6b35b23a3e94a",
            "0187315ec9374891bf074e268855b40d",
            "66461db7ca9645a7bad5f8eb8167de5a",
            "98d2a154ae7c45fa8250766cea9a4c4d",
            "1b39c85a2ea14243a12e8f2e81fb6f8f",
            "2c4c1a55e4304b8e850053f16255e185",
            "a21ae7f20f6b48d39afa95370c9391f8",
            "7632c206edf744068354fa5455cfd923",
            "07c226d2aa104219bfb6c6229f3869ce",
            "9e14362e9d48433da5acd5f427c688c3",
            "0fce6d2ba3c64d8f838b0e3860c5b6f4",
            "7b2026c206ba4280abf8d86eaaee7869",
            "0eee973f96af4248963f3e4d96330d28",
            "025e02a3338049ee8628325c3bf41396",
            "88e418889a7b4224ab25008cebc8c1d0",
            "d68e6bb18cf34fe18d75a3982c92518f",
            "e71c7ba34e534307976653b8c8d52f90",
            "78903ae2684c49baaaebfc6ba447c9bc",
            "e89f7a9f735943f5a86bec4a3c9b7b56"
          ]
        },
        "id": "ZdUxUBFZL-NP",
        "outputId": "6de1988a-911d-40d1-c319-0c454145a417"
      },
      "outputs": [
        {
          "name": "stdout",
          "output_type": "stream",
          "text": [
            "2024-05-11 21:44:44,835 [DEBUG] x: Preloading data\n"
          ]
        },
        {
          "name": "stderr",
          "output_type": "stream",
          "text": [
            "DEBUG:x:Preloading data\n"
          ]
        },
        {
          "name": "stdout",
          "output_type": "stream",
          "text": [
            "2024-05-11 21:45:08,494 [DEBUG] x: Setting up training environment\n"
          ]
        },
        {
          "name": "stderr",
          "output_type": "stream",
          "text": [
            "DEBUG:x:Setting up training environment\n",
            "/usr/local/lib/python3.10/dist-packages/huggingface_hub/utils/_token.py:88: UserWarning: \n",
            "The secret `HF_TOKEN` does not exist in your Colab secrets.\n",
            "To authenticate with the Hugging Face Hub, create a token in your settings tab (https://huggingface.co/settings/tokens), set it as secret in your Google Colab and restart your session.\n",
            "You will be able to reuse this secret in all of your notebooks.\n",
            "Please note that authentication is recommended but still optional to access public models or datasets.\n",
            "  warnings.warn(\n"
          ]
        },
        {
          "data": {
            "application/vnd.jupyter.widget-view+json": {
              "model_id": "592598eccacc428a8332f52abb82b798",
              "version_major": 2,
              "version_minor": 0
            },
            "text/plain": [
              "config.json:   0%|          | 0.00/699 [00:00<?, ?B/s]"
            ]
          },
          "metadata": {},
          "output_type": "display_data"
        },
        {
          "data": {
            "application/vnd.jupyter.widget-view+json": {
              "model_id": "e8cedddc6b2b467996f8dd067fa5d678",
              "version_major": 2,
              "version_minor": 0
            },
            "text/plain": [
              "tokenizer_config.json:   0%|          | 0.00/2.37k [00:00<?, ?B/s]"
            ]
          },
          "metadata": {},
          "output_type": "display_data"
        },
        {
          "data": {
            "application/vnd.jupyter.widget-view+json": {
              "model_id": "dc178756ad924b74b497da6921e92d3d",
              "version_major": 2,
              "version_minor": 0
            },
            "text/plain": [
              "spiece.model:   0%|          | 0.00/2.35M [00:00<?, ?B/s]"
            ]
          },
          "metadata": {},
          "output_type": "display_data"
        },
        {
          "data": {
            "application/vnd.jupyter.widget-view+json": {
              "model_id": "5c4f92d7156848d3a64969ad57054dc1",
              "version_major": 2,
              "version_minor": 0
            },
            "text/plain": [
              "tokenizer.json:   0%|          | 0.00/8.40M [00:00<?, ?B/s]"
            ]
          },
          "metadata": {},
          "output_type": "display_data"
        },
        {
          "data": {
            "application/vnd.jupyter.widget-view+json": {
              "model_id": "07c226d2aa104219bfb6c6229f3869ce",
              "version_major": 2,
              "version_minor": 0
            },
            "text/plain": [
              "special_tokens_map.json:   0%|          | 0.00/2.20k [00:00<?, ?B/s]"
            ]
          },
          "metadata": {},
          "output_type": "display_data"
        },
        {
          "name": "stderr",
          "output_type": "stream",
          "text": [
            "\rEpochs:   0%|          | 0/10 [00:00<?, ?it/s]"
          ]
        },
        {
          "name": "stdout",
          "output_type": "stream",
          "text": [
            "Saving Best Checkpoint at Epoch 0 best cosine 1977.8435878753662 .\n",
            "\n",
            "--\n",
            "save1\n",
            "--\n",
            "\n"
          ]
        },
        {
          "name": "stderr",
          "output_type": "stream",
          "text": [
            "\rEpochs:  10%|█         | 1/10 [03:18<29:44, 198.32s/it]"
          ]
        },
        {
          "name": "stdout",
          "output_type": "stream",
          "text": [
            "\n",
            "--\n",
            "save1\n",
            "--\n",
            "\n",
            "Saving Best Checkpoint at Epoch 1 best cosine 1980.9522876739502 .\n",
            "\n",
            "--\n",
            "save1\n",
            "--\n",
            "\n"
          ]
        },
        {
          "name": "stderr",
          "output_type": "stream",
          "text": [
            "\rEpochs:  20%|██        | 2/10 [06:07<24:08, 181.08s/it]"
          ]
        },
        {
          "name": "stdout",
          "output_type": "stream",
          "text": [
            "\n",
            "--\n",
            "save1\n",
            "--\n",
            "\n",
            "Saving Best Checkpoint at Epoch 2 best cosine 1985.2531242370605 .\n",
            "\n",
            "--\n",
            "save1\n",
            "--\n",
            "\n"
          ]
        },
        {
          "name": "stderr",
          "output_type": "stream",
          "text": [
            "\rEpochs:  30%|███       | 3/10 [08:56<20:28, 175.44s/it]"
          ]
        },
        {
          "name": "stdout",
          "output_type": "stream",
          "text": [
            "\n",
            "--\n",
            "save1\n",
            "--\n",
            "\n",
            "Saving Best Checkpoint at Epoch 3 best cosine 2010.2019815444946 .\n",
            "\n",
            "--\n",
            "save1\n",
            "--\n",
            "\n"
          ]
        },
        {
          "name": "stderr",
          "output_type": "stream",
          "text": [
            "\rEpochs:  40%|████      | 4/10 [11:44<17:16, 172.68s/it]"
          ]
        },
        {
          "name": "stdout",
          "output_type": "stream",
          "text": [
            "\n",
            "--\n",
            "save1\n",
            "--\n",
            "\n",
            "Saving Best Checkpoint at Epoch 4 best cosine 2047.6730089187622 .\n",
            "\n",
            "--\n",
            "save1\n",
            "--\n",
            "\n"
          ]
        },
        {
          "name": "stderr",
          "output_type": "stream",
          "text": [
            "\rEpochs:  50%|█████     | 5/10 [14:30<14:10, 170.19s/it]"
          ]
        },
        {
          "name": "stdout",
          "output_type": "stream",
          "text": [
            "\n",
            "--\n",
            "save1\n",
            "--\n",
            "\n",
            "Saving Best Checkpoint at Epoch 5 best cosine 2078.3959102630615 .\n",
            "\n",
            "--\n",
            "save1\n",
            "--\n",
            "\n"
          ]
        },
        {
          "name": "stderr",
          "output_type": "stream",
          "text": [
            "\rEpochs:  60%|██████    | 6/10 [17:16<11:14, 168.67s/it]"
          ]
        },
        {
          "name": "stdout",
          "output_type": "stream",
          "text": [
            "\n",
            "--\n",
            "save1\n",
            "--\n",
            "\n",
            "Saving Best Checkpoint at Epoch 6 best cosine 2096.2745237350464 .\n",
            "\n",
            "--\n",
            "save1\n",
            "--\n",
            "\n"
          ]
        },
        {
          "name": "stderr",
          "output_type": "stream",
          "text": [
            "\rEpochs:  70%|███████   | 7/10 [20:05<08:26, 168.84s/it]"
          ]
        },
        {
          "name": "stdout",
          "output_type": "stream",
          "text": [
            "\n",
            "--\n",
            "save1\n",
            "--\n",
            "\n",
            "Saving Best Checkpoint at Epoch 7 best cosine 2115.41246509552 .\n",
            "\n",
            "--\n",
            "save1\n",
            "--\n",
            "\n"
          ]
        },
        {
          "name": "stderr",
          "output_type": "stream",
          "text": [
            "\rEpochs:  80%|████████  | 8/10 [22:52<05:36, 168.46s/it]"
          ]
        },
        {
          "name": "stdout",
          "output_type": "stream",
          "text": [
            "\n",
            "--\n",
            "save1\n",
            "--\n",
            "\n",
            "Saving Best Checkpoint at Epoch 8 best cosine 2128.0112295150757 .\n",
            "\n",
            "--\n",
            "save1\n",
            "--\n",
            "\n"
          ]
        },
        {
          "name": "stderr",
          "output_type": "stream",
          "text": [
            "\rEpochs:  90%|█████████ | 9/10 [25:42<02:48, 168.69s/it]"
          ]
        },
        {
          "name": "stdout",
          "output_type": "stream",
          "text": [
            "\n",
            "--\n",
            "save1\n",
            "--\n",
            "\n",
            "Saving Best Checkpoint at Epoch 9 best cosine 2143.3946676254272 .\n",
            "\n",
            "--\n",
            "save1\n",
            "--\n",
            "\n"
          ]
        },
        {
          "name": "stderr",
          "output_type": "stream",
          "text": [
            "Epochs: 100%|██████████| 10/10 [28:28<00:00, 170.84s/it]"
          ]
        },
        {
          "name": "stdout",
          "output_type": "stream",
          "text": [
            "\n",
            "--\n",
            "save1\n",
            "--\n",
            "\n"
          ]
        },
        {
          "name": "stderr",
          "output_type": "stream",
          "text": [
            "\n"
          ]
        },
        {
          "name": "stdout",
          "output_type": "stream",
          "text": [
            "\n",
            "--\n",
            "save1\n",
            "--\n",
            "\n"
          ]
        }
      ],
      "source": [
        "train(args_train)"
      ]
    },
    {
      "cell_type": "code",
      "execution_count": null,
      "metadata": {
        "id": "PabSbizPgeJL"
      },
      "outputs": [],
      "source": [
        "args_train_bertseg = Args(\n",
        "    train_file = pathlib.Path(\"/content/drive/MyDrive/data_for_KKSA_NLP_CH/train.json\"),\n",
        "    dev_file = pathlib.Path(\"/content/drive/MyDrive/data_for_KKSA_NLP_CH/dev.json\"),\n",
        "    save_dir = pathlib.Path(\"/content/drive/MyDrive/data_for_KKSA_NLP_CH/models/\"),\n",
        "    summary_logdir =pathlib.Path(\"/content/drive/MyDrive/data_for_KKSA_NLP_CH/logs/\"),\n",
        "    # model_name=\"aubmindlab/bert-base-arabertv02\",\n",
        "    model_name=\"UBC-NLP/AraT5v2-base-1024\",\n",
        "    device=\"cuda\",\n",
        "    # device=\"cpu\",\n",
        "    target_arch=\"bertseg\", # choices=(\"sgns\", \"electra\", \"bertseg\", \"bertmsa\"),\n",
        "\n",
        "    batch_size=16,\n",
        "    resume_train=None,#\"/content/drive/MyDrive/data_for_KKSA_NLP_CH/models/modelepoch.pt\",\n",
        "    resume_file=None,\n",
        "    from_pretrained=False,\n",
        "    max_len=768, # choices=(300, 256, 768),\n",
        "    num_epochs=10,\n",
        "    ce_loss_weight=1,\n",
        "    best_model=\"best_model_bertseg_v1.pt\",\n",
        "    last_state_model=\"model_bertseg_v1.pt\",\n",
        ")\n",
        "\n",
        "args_train_bertmsa = Args(\n",
        "    train_file = pathlib.Path(\"/content/drive/MyDrive/data_for_KKSA_NLP_CH/train.json\"),\n",
        "    dev_file = pathlib.Path(\"/content/drive/MyDrive/data_for_KKSA_NLP_CH/dev.json\"),\n",
        "    save_dir = pathlib.Path(\"/content/drive/MyDrive/data_for_KKSA_NLP_CH/models/\"),\n",
        "    summary_logdir =pathlib.Path(\"/content/drive/MyDrive/data_for_KKSA_NLP_CH/logs/\"),\n",
        "    # model_name=\"aubmindlab/bert-base-arabertv02\",\n",
        "    model_name=\"UBC-NLP/AraT5v2-base-1024\",\n",
        "    device=\"cuda\",\n",
        "    # device=\"cpu\",\n",
        "    target_arch=\"bertmsa\", # choices=(\"sgns\", \"electra\", \"bertseg\", \"bertmsa\"),\n",
        "\n",
        "    batch_size=16,\n",
        "    resume_train=None,#\"/content/drive/MyDrive/data_for_KKSA_NLP_CH/models/modelepoch.pt\",\n",
        "    resume_file=None,\n",
        "    from_pretrained=False,\n",
        "    max_len=768, # choices=(256, 768),\n",
        "    num_epochs=10,\n",
        "    ce_loss_weight=1,\n",
        "    best_model=\"best_model_bertmsa_v1.pt\",\n",
        "    last_state_model=\"model_bertmsa_v1.pt\",\n",
        ")"
      ]
    },
    {
      "cell_type": "code",
      "execution_count": null,
      "metadata": {
        "colab": {
          "base_uri": "https://localhost:8080/",
          "height": 1000,
          "referenced_widgets": [
            "34bc0f68f43041b7b404d37b882bc39b",
            "416011612f8146519c652b403b0d6cb3",
            "3b7c4928c6d2464584a96d8f3d31f9e1",
            "d5f4f8ccb1f84bc9b0dd6a7578eacefa",
            "25107c2175214d5394c616f0dba20997",
            "896c88c4e4ed451cb4dbf8a698b1495a",
            "2a21faf7103b4318aa334afe7752c886",
            "b305e8dc38ca4818956f442bf06d992b",
            "1fb2e4a1cde34d06888910d56ffac981",
            "645c3aacc3c646acba7c443dd1b8e11e",
            "54ccaad5db1d4c4885ed546f13f15bf6",
            "cd8344b66e1543ef9a7d355c69051065",
            "3576037902624746b4b43c49bd9b1b21",
            "ee0aa211cc7f4c738435e65d94be05de",
            "388383665b3a4e5db2439e9ebb08e123",
            "43463f655dd44fd5ade3791448560cc7",
            "299a965a02a747819599984d59fedd35",
            "434eee6961f34c0fa5e08da0a15c275f",
            "c527b034afbd450db614961ae40d6d14",
            "bd65fd8b9ae4427484a059a8abaabfe7",
            "88f66cf8843b44e88e45c4ee691d7505",
            "08fe9b292790453da4e70f2bf5ad26e1",
            "d5be099d63a74ecaa0ee4dd706b855d7",
            "265ee12fe77a457ba3f7c786a3f2bb47",
            "5fe08ad1f3b3493cbf86e1ff596f3b9e",
            "7e0c7a632baa43d89c0b6f0f916fb9d9",
            "d72874cf429647889e6d8c20af7afa7e",
            "010c4dbe3c5b4eb39394033d9d2d0d53",
            "01481c2d87104a1db864895e52a182c6",
            "07d2dc3fb3b545efb8d394089c0099c0",
            "195dfbf64e634e5c8eea7028976e8b25",
            "366efcb16e454f6eb9585325237d304f",
            "29cb3d7faf1943fe9ecd7bc67bffff60",
            "9a70efb7241b4db29e34d35c55dde67d",
            "c418309b77a646dd90a91773e827d8f0",
            "808942c43cca4828afd4c85d8d4b488e",
            "e57cf72254e54f128f18698d77fa4a63",
            "2f26cfac71c4479c83afdc1d3eb56892",
            "b91c7664e7a8478ca0d166ab202a8a63",
            "45c0c38354524b659a21388c056458f4",
            "0a043b43d5484163bc74a367dbacf79f",
            "96a6214bcf484cc080146504728dbf1d",
            "f5fb5cceed684e0a903dc651e40c1375",
            "42b71d01079741e58620dd267de02bf7",
            "2413a7501a6e4f1b8634c46cd63fd673",
            "47d234cb997c4561ac2551fafa42aaf9",
            "402ea56e351a4cbfb7291738da12c65c",
            "27bdc8be35684bc697edc84b7c1c8a76",
            "c92781136ac54000880ff429ba8c3b6d",
            "46a07f5a15d14068843105dcfb443862",
            "20ecd0dbedd345e88e3dcb7f77c8e401",
            "6231ef38b08e41bc80a51059f6861746",
            "464a24ac8866463db538b2830c83a6ba",
            "2487ad0dd1d940538a01e639adbaaeab",
            "a47f7670cdd041f282811d7128cb344f"
          ]
        },
        "id": "kOu74uS0hFz_",
        "outputId": "943a3eb4-d8b1-48a7-a2a5-f10e4e0dfe5f"
      },
      "outputs": [
        {
          "name": "stdout",
          "output_type": "stream",
          "text": [
            "2024-05-11 16:28:21,716 [DEBUG] x: Preloading data\n"
          ]
        },
        {
          "name": "stderr",
          "output_type": "stream",
          "text": [
            "DEBUG:x:Preloading data\n"
          ]
        },
        {
          "name": "stdout",
          "output_type": "stream",
          "text": [
            "2024-05-11 16:28:43,746 [DEBUG] x: Setting up training environment\n"
          ]
        },
        {
          "name": "stderr",
          "output_type": "stream",
          "text": [
            "DEBUG:x:Setting up training environment\n",
            "/usr/local/lib/python3.10/dist-packages/huggingface_hub/utils/_token.py:88: UserWarning: \n",
            "The secret `HF_TOKEN` does not exist in your Colab secrets.\n",
            "To authenticate with the Hugging Face Hub, create a token in your settings tab (https://huggingface.co/settings/tokens), set it as secret in your Google Colab and restart your session.\n",
            "You will be able to reuse this secret in all of your notebooks.\n",
            "Please note that authentication is recommended but still optional to access public models or datasets.\n",
            "  warnings.warn(\n"
          ]
        },
        {
          "data": {
            "application/vnd.jupyter.widget-view+json": {
              "model_id": "34bc0f68f43041b7b404d37b882bc39b",
              "version_major": 2,
              "version_minor": 0
            },
            "text/plain": [
              "config.json:   0%|          | 0.00/699 [00:00<?, ?B/s]"
            ]
          },
          "metadata": {},
          "output_type": "display_data"
        },
        {
          "data": {
            "application/vnd.jupyter.widget-view+json": {
              "model_id": "cd8344b66e1543ef9a7d355c69051065",
              "version_major": 2,
              "version_minor": 0
            },
            "text/plain": [
              "tokenizer_config.json:   0%|          | 0.00/2.37k [00:00<?, ?B/s]"
            ]
          },
          "metadata": {},
          "output_type": "display_data"
        },
        {
          "data": {
            "application/vnd.jupyter.widget-view+json": {
              "model_id": "d5be099d63a74ecaa0ee4dd706b855d7",
              "version_major": 2,
              "version_minor": 0
            },
            "text/plain": [
              "spiece.model:   0%|          | 0.00/2.35M [00:00<?, ?B/s]"
            ]
          },
          "metadata": {},
          "output_type": "display_data"
        },
        {
          "data": {
            "application/vnd.jupyter.widget-view+json": {
              "model_id": "9a70efb7241b4db29e34d35c55dde67d",
              "version_major": 2,
              "version_minor": 0
            },
            "text/plain": [
              "tokenizer.json:   0%|          | 0.00/8.40M [00:00<?, ?B/s]"
            ]
          },
          "metadata": {},
          "output_type": "display_data"
        },
        {
          "data": {
            "application/vnd.jupyter.widget-view+json": {
              "model_id": "2413a7501a6e4f1b8634c46cd63fd673",
              "version_major": 2,
              "version_minor": 0
            },
            "text/plain": [
              "special_tokens_map.json:   0%|          | 0.00/2.20k [00:00<?, ?B/s]"
            ]
          },
          "metadata": {},
          "output_type": "display_data"
        },
        {
          "name": "stderr",
          "output_type": "stream",
          "text": [
            "\rEpochs:   0%|          | 0/10 [00:00<?, ?it/s]"
          ]
        },
        {
          "name": "stdout",
          "output_type": "stream",
          "text": [
            "Saving Best Checkpoint at Epoch 0 best cosine 2711.5827325582504 .\n",
            "\n",
            "--\n",
            "save1\n",
            "--\n",
            "\n"
          ]
        },
        {
          "name": "stderr",
          "output_type": "stream",
          "text": [
            "\rEpochs:  10%|█         | 1/10 [05:51<52:43, 351.49s/it]"
          ]
        },
        {
          "name": "stdout",
          "output_type": "stream",
          "text": [
            "\n",
            "--\n",
            "save1\n",
            "--\n",
            "\n",
            "Saving Best Checkpoint at Epoch 1 best cosine 2742.4336924552917 .\n",
            "\n",
            "--\n",
            "save1\n",
            "--\n",
            "\n"
          ]
        },
        {
          "name": "stderr",
          "output_type": "stream",
          "text": [
            "\rEpochs:  20%|██        | 2/10 [10:41<42:04, 315.57s/it]"
          ]
        },
        {
          "name": "stdout",
          "output_type": "stream",
          "text": [
            "\n",
            "--\n",
            "save1\n",
            "--\n",
            "\n",
            "Saving Best Checkpoint at Epoch 2 best cosine 2754.6135692596436 .\n",
            "\n",
            "--\n",
            "save1\n",
            "--\n",
            "\n"
          ]
        },
        {
          "name": "stderr",
          "output_type": "stream",
          "text": [
            "\rEpochs:  30%|███       | 3/10 [15:30<35:23, 303.40s/it]"
          ]
        },
        {
          "name": "stdout",
          "output_type": "stream",
          "text": [
            "\n",
            "--\n",
            "save1\n",
            "--\n",
            "\n",
            "Saving Best Checkpoint at Epoch 3 best cosine 2778.0931819677353 .\n",
            "\n",
            "--\n",
            "save1\n",
            "--\n",
            "\n"
          ]
        },
        {
          "name": "stderr",
          "output_type": "stream",
          "text": [
            "\rEpochs:  40%|████      | 4/10 [20:18<29:43, 297.24s/it]"
          ]
        },
        {
          "name": "stdout",
          "output_type": "stream",
          "text": [
            "\n",
            "--\n",
            "save1\n",
            "--\n",
            "\n",
            "Saving Best Checkpoint at Epoch 4 best cosine 2783.845418691635 .\n",
            "\n",
            "--\n",
            "save1\n",
            "--\n",
            "\n"
          ]
        },
        {
          "name": "stderr",
          "output_type": "stream",
          "text": [
            "\rEpochs:  50%|█████     | 5/10 [25:06<24:28, 293.75s/it]"
          ]
        },
        {
          "name": "stdout",
          "output_type": "stream",
          "text": [
            "\n",
            "--\n",
            "save1\n",
            "--\n",
            "\n",
            "Saving Best Checkpoint at Epoch 5 best cosine 2793.5461208224297 .\n",
            "\n",
            "--\n",
            "save1\n",
            "--\n",
            "\n"
          ]
        },
        {
          "name": "stderr",
          "output_type": "stream",
          "text": [
            "\rEpochs:  60%|██████    | 6/10 [29:53<19:25, 291.45s/it]"
          ]
        },
        {
          "name": "stdout",
          "output_type": "stream",
          "text": [
            "\n",
            "--\n",
            "save1\n",
            "--\n",
            "\n",
            "Saving Best Checkpoint at Epoch 6 best cosine 2806.433346271515 .\n",
            "\n",
            "--\n",
            "save1\n",
            "--\n",
            "\n"
          ]
        },
        {
          "name": "stderr",
          "output_type": "stream",
          "text": [
            "\rEpochs:  70%|███████   | 7/10 [34:39<14:29, 289.71s/it]"
          ]
        },
        {
          "name": "stdout",
          "output_type": "stream",
          "text": [
            "\n",
            "--\n",
            "save1\n",
            "--\n",
            "\n",
            "Saving Best Checkpoint at Epoch 7 best cosine 2814.487755358219 .\n",
            "\n",
            "--\n",
            "save1\n",
            "--\n",
            "\n"
          ]
        },
        {
          "name": "stderr",
          "output_type": "stream",
          "text": [
            "\rEpochs:  80%|████████  | 8/10 [39:30<09:40, 290.08s/it]"
          ]
        },
        {
          "name": "stdout",
          "output_type": "stream",
          "text": [
            "\n",
            "--\n",
            "save1\n",
            "--\n",
            "\n",
            "Saving Best Checkpoint at Epoch 8 best cosine 2815.592159807682 .\n",
            "\n",
            "--\n",
            "save1\n",
            "--\n",
            "\n"
          ]
        },
        {
          "name": "stderr",
          "output_type": "stream",
          "text": [
            "\rEpochs:  90%|█████████ | 9/10 [44:23<04:51, 291.13s/it]"
          ]
        },
        {
          "name": "stdout",
          "output_type": "stream",
          "text": [
            "\n",
            "--\n",
            "save1\n",
            "--\n",
            "\n",
            "Saving Best Checkpoint at Epoch 9 best cosine 2818.450243294239 .\n",
            "\n",
            "--\n",
            "save1\n",
            "--\n",
            "\n"
          ]
        },
        {
          "name": "stderr",
          "output_type": "stream",
          "text": [
            "Epochs: 100%|██████████| 10/10 [49:11<00:00, 295.12s/it]"
          ]
        },
        {
          "name": "stdout",
          "output_type": "stream",
          "text": [
            "\n",
            "--\n",
            "save1\n",
            "--\n",
            "\n"
          ]
        },
        {
          "name": "stderr",
          "output_type": "stream",
          "text": [
            "\n"
          ]
        },
        {
          "name": "stdout",
          "output_type": "stream",
          "text": [
            "\n",
            "--\n",
            "save1\n",
            "--\n",
            "\n"
          ]
        }
      ],
      "source": [
        "train(args_train_bertmsa)"
      ]
    },
    {
      "cell_type": "code",
      "execution_count": null,
      "metadata": {
        "colab": {
          "base_uri": "https://localhost:8080/"
        },
        "id": "8YujbRiLhQA_",
        "outputId": "bded1a4e-a43d-458f-ce93-43dc41e6b8d6"
      },
      "outputs": [
        {
          "name": "stdout",
          "output_type": "stream",
          "text": [
            "2024-05-11 17:18:11,207 [DEBUG] x: Preloading data\n"
          ]
        },
        {
          "name": "stderr",
          "output_type": "stream",
          "text": [
            "DEBUG:x:Preloading data\n"
          ]
        },
        {
          "name": "stdout",
          "output_type": "stream",
          "text": [
            "2024-05-11 17:18:26,784 [DEBUG] x: Setting up training environment\n"
          ]
        },
        {
          "name": "stderr",
          "output_type": "stream",
          "text": [
            "DEBUG:x:Setting up training environment\n",
            "Epochs:   0%|          | 0/10 [00:00<?, ?it/s]"
          ]
        },
        {
          "name": "stdout",
          "output_type": "stream",
          "text": [
            "Saving Best Checkpoint at Epoch 0 best cosine 2911.631629049778 .\n",
            "\n",
            "--\n",
            "save1\n",
            "--\n",
            "\n"
          ]
        },
        {
          "name": "stderr",
          "output_type": "stream",
          "text": [
            "\rEpochs:  10%|█         | 1/10 [04:45<42:53, 285.92s/it]"
          ]
        },
        {
          "name": "stdout",
          "output_type": "stream",
          "text": [
            "\n",
            "--\n",
            "save1\n",
            "--\n",
            "\n",
            "Saving Best Checkpoint at Epoch 1 best cosine 2948.6491066217422 .\n",
            "\n",
            "--\n",
            "save1\n",
            "--\n",
            "\n"
          ]
        },
        {
          "name": "stderr",
          "output_type": "stream",
          "text": [
            "\rEpochs:  20%|██        | 2/10 [09:33<38:17, 287.14s/it]"
          ]
        },
        {
          "name": "stdout",
          "output_type": "stream",
          "text": [
            "\n",
            "--\n",
            "save1\n",
            "--\n",
            "\n",
            "Saving Best Checkpoint at Epoch 2 best cosine 2987.8024659752846 .\n",
            "\n",
            "--\n",
            "save1\n",
            "--\n",
            "\n"
          ]
        },
        {
          "name": "stderr",
          "output_type": "stream",
          "text": [
            "\rEpochs:  30%|███       | 3/10 [14:24<33:40, 288.64s/it]"
          ]
        },
        {
          "name": "stdout",
          "output_type": "stream",
          "text": [
            "\n",
            "--\n",
            "save1\n",
            "--\n",
            "\n",
            "Saving Best Checkpoint at Epoch 3 best cosine 3008.286734223366 .\n",
            "\n",
            "--\n",
            "save1\n",
            "--\n",
            "\n"
          ]
        },
        {
          "name": "stderr",
          "output_type": "stream",
          "text": [
            "\rEpochs:  40%|████      | 4/10 [19:17<29:01, 290.23s/it]"
          ]
        },
        {
          "name": "stdout",
          "output_type": "stream",
          "text": [
            "\n",
            "--\n",
            "save1\n",
            "--\n",
            "\n",
            "Saving Best Checkpoint at Epoch 4 best cosine 3013.2874339818954 .\n",
            "\n",
            "--\n",
            "save1\n",
            "--\n",
            "\n"
          ]
        },
        {
          "name": "stderr",
          "output_type": "stream",
          "text": [
            "\rEpochs:  50%|█████     | 5/10 [24:10<24:16, 291.25s/it]"
          ]
        },
        {
          "name": "stdout",
          "output_type": "stream",
          "text": [
            "\n",
            "--\n",
            "save1\n",
            "--\n",
            "\n",
            "Saving Best Checkpoint at Epoch 5 best cosine 3021.785058915615 .\n",
            "\n",
            "--\n",
            "save1\n",
            "--\n",
            "\n"
          ]
        },
        {
          "name": "stderr",
          "output_type": "stream",
          "text": [
            "\rEpochs:  60%|██████    | 6/10 [28:59<19:22, 290.71s/it]"
          ]
        },
        {
          "name": "stdout",
          "output_type": "stream",
          "text": [
            "\n",
            "--\n",
            "save1\n",
            "--\n",
            "\n",
            "Saving Best Checkpoint at Epoch 6 best cosine 3027.34661757946 .\n",
            "\n",
            "--\n",
            "save1\n",
            "--\n",
            "\n"
          ]
        },
        {
          "name": "stderr",
          "output_type": "stream",
          "text": [
            "\rEpochs:  70%|███████   | 7/10 [33:50<14:31, 290.57s/it]"
          ]
        },
        {
          "name": "stdout",
          "output_type": "stream",
          "text": [
            "\n",
            "--\n",
            "save1\n",
            "--\n",
            "\n",
            "Saving Best Checkpoint at Epoch 7 best cosine 3030.0560260415077 .\n",
            "\n",
            "--\n",
            "save1\n",
            "--\n",
            "\n"
          ]
        },
        {
          "name": "stderr",
          "output_type": "stream",
          "text": [
            "\rEpochs:  80%|████████  | 8/10 [38:36<09:38, 289.36s/it]"
          ]
        },
        {
          "name": "stdout",
          "output_type": "stream",
          "text": [
            "\n",
            "--\n",
            "save1\n",
            "--\n",
            "\n",
            "Saving Best Checkpoint at Epoch 8 best cosine 3036.8032430410385 .\n",
            "\n",
            "--\n",
            "save1\n",
            "--\n",
            "\n"
          ]
        },
        {
          "name": "stderr",
          "output_type": "stream",
          "text": [
            "\rEpochs:  90%|█████████ | 9/10 [43:29<04:50, 290.38s/it]"
          ]
        },
        {
          "name": "stdout",
          "output_type": "stream",
          "text": [
            "\n",
            "--\n",
            "save1\n",
            "--\n",
            "\n"
          ]
        },
        {
          "name": "stderr",
          "output_type": "stream",
          "text": [
            "Epochs: 100%|██████████| 10/10 [48:13<00:00, 289.35s/it]"
          ]
        },
        {
          "name": "stdout",
          "output_type": "stream",
          "text": [
            "\n",
            "--\n",
            "save1\n",
            "--\n",
            "\n"
          ]
        },
        {
          "name": "stderr",
          "output_type": "stream",
          "text": [
            "\n"
          ]
        },
        {
          "name": "stdout",
          "output_type": "stream",
          "text": [
            "\n",
            "--\n",
            "save1\n",
            "--\n",
            "\n"
          ]
        }
      ],
      "source": [
        "train(args_train_bertseg)"
      ]
    },
    {
      "cell_type": "markdown",
      "metadata": {
        "id": "7ZBGyjZjhg9m"
      },
      "source": [
        "# Predcion"
      ]
    },
    {
      "cell_type": "code",
      "execution_count": null,
      "metadata": {
        "colab": {
          "background_save": true
        },
        "id": "yyaCkWEthaJX"
      },
      "outputs": [],
      "source": [
        "def pred(args):\n",
        "    assert args.test_file is not None, \"Missing dataset for test\"\n",
        "    # 1. retrieve vocab, dataset, model\n",
        "    ## make datasets\n",
        "    test_dataset = ARDDataset(args.test_file, is_test=True)\n",
        "\n",
        "    ## make dataloader\n",
        "    test_dataloader = DataLoader(test_dataset, batch_size=args.batch_size)\n",
        "\n",
        "    # model = models.ARBERTRevDict(args).load(f\"{args.save_dir}\")\n",
        "    # model.to(args.device)\n",
        "    # model.eval()\n",
        "\n",
        "    model = AraT5RevDict(args).load(args.save_dir / args.best_model)\n",
        "    tokenizer = AutoTokenizer.from_pretrained(args.model_name)\n",
        "    model.to(args.device)\n",
        "    model.eval()\n",
        "\n",
        "    vec_tensor_key = f\"{args.target_arch}_tensor\"\n",
        "\n",
        "    # 2. make predictions\n",
        "    predictions = []\n",
        "    with torch.no_grad():\n",
        "        pbar = tqdm.tqdm(desc=\"Pred.\", total=len(test_dataset))\n",
        "        for ids, words, gloss in test_dataloader:\n",
        "            word_tokens = tokenizer(words, padding=True, return_tensors='pt').to(args.device)\n",
        "            gloss_tokens = tokenizer(gloss, padding=True, return_tensors='pt').to(args.device)\n",
        "\n",
        "            _, vecs = model(\n",
        "                gloss_tokens[\"input_ids\"],\n",
        "                gloss_tokens[\"attention_mask\"],\n",
        "                word_tokens[\"input_ids\"],\n",
        "            )\n",
        "\n",
        "            vecs = vecs.cpu()\n",
        "            # # Extract the last hidden states\n",
        "            for id, word, vec in zip(ids, words, vecs.unbind()):\n",
        "                predictions.append(\n",
        "                    {\"id\": id, \"word\": word, args.target_arch: vec.view(-1).tolist()}\n",
        "                )\n",
        "\n",
        "            pbar.update(vecs.size(0))\n",
        "        pbar.close()\n",
        "\n",
        "    logger.debug(\"writing predction file\")\n",
        "    with open(args.save_dir /args.pred_file, \"w\") as ostr:\n",
        "        json.dump( predictions, ostr)\n",
        "    logger.debug(\"writing finished\")\n"
      ]
    },
    {
      "cell_type": "code",
      "execution_count": null,
      "metadata": {
        "colab": {
          "background_save": true
        },
        "id": "KUnL1U4Zh4Yc"
      },
      "outputs": [],
      "source": [
        "args_pred_electra_dev = Args(\n",
        "    test_file=\"/content/drive/MyDrive/data_for_KKSA_NLP_CH/dev.json\",\n",
        "    save_dir = pathlib.Path(\"/content/drive/MyDrive/data_for_KKSA_NLP_CH/models/\"),\n",
        "    summary_logdir =pathlib.Path(\"/content/drive/MyDrive/data_for_KKSA_NLP_CH/logs/\"),\n",
        "    model_name=\"UBC-NLP/AraT5v2-base-1024\",\n",
        "    device=\"cuda\",\n",
        "    target_arch=\"electra\", # choices=(\"sgns\", \"electra\", \"bertseg\", \"bertmsa\"),\n",
        "    batch_size=32,\n",
        "    resume_train=None,#\"/content/drive/MyDrive/data_for_KKSA_NLP_CH/models/modelepoch.pt\",\n",
        "    resume_file=None,\n",
        "    from_pretrained=False,\n",
        "    max_len=256, # choices=(300, 256, 768),\n",
        "    best_model=\"best_model_electra_v5.pt\",\n",
        "    last_state_model=\"model_electra_v5.pt\",\n",
        "    pred_file=\"dev_pred_electra_v5.json\",\n",
        ")\n",
        "args_pred_electra_test = Args(\n",
        "    test_file=\"/content/drive/MyDrive/data_for_KKSA_NLP_CH/test.json\",\n",
        "    save_dir = pathlib.Path(\"/content/drive/MyDrive/data_for_KKSA_NLP_CH/models/\"),\n",
        "    summary_logdir =pathlib.Path(\"/content/drive/MyDrive/data_for_KKSA_NLP_CH/logs/\"),\n",
        "    model_name=\"UBC-NLP/AraT5v2-base-1024\",\n",
        "    device=\"cuda\",\n",
        "    target_arch=\"electra\", # choices=(\"sgns\", \"electra\", \"bertseg\", \"bertmsa\"),\n",
        "    batch_size=32,\n",
        "    resume_train=None,#\"/content/drive/MyDrive/data_for_KKSA_NLP_CH/models/modelepoch.pt\",\n",
        "    resume_file=None,\n",
        "    from_pretrained=False,\n",
        "    max_len=256, # choices=(300, 256, 768),\n",
        "    best_model=\"best_model_electra_v5.pt\",\n",
        "    last_state_model=\"model_electra_v5.pt\",\n",
        "    pred_file=\"test_pred_electra_v5.json\",\n",
        ")"
      ]
    },
    {
      "cell_type": "code",
      "execution_count": null,
      "metadata": {
        "colab": {
          "background_save": true
        },
        "id": "jd7YKhRch4yT",
        "outputId": "fac29ade-b5d0-483c-a99e-f8c405d521f0"
      },
      "outputs": [
        {
          "name": "stderr",
          "output_type": "stream",
          "text": [
            "Pred.: 100%|██████████| 3921/3921 [00:06<00:00, 649.95it/s]"
          ]
        },
        {
          "name": "stdout",
          "output_type": "stream",
          "text": [
            "2024-05-11 22:14:11,841 [DEBUG] x: writing predction file\n"
          ]
        },
        {
          "name": "stderr",
          "output_type": "stream",
          "text": [
            "\n",
            "DEBUG:x:writing predction file\n"
          ]
        },
        {
          "name": "stdout",
          "output_type": "stream",
          "text": [
            "2024-05-11 22:14:13,362 [DEBUG] x: writing finished\n"
          ]
        },
        {
          "name": "stderr",
          "output_type": "stream",
          "text": [
            "DEBUG:x:writing finished\n"
          ]
        },
        {
          "ename": "FileNotFoundError",
          "evalue": "[Errno 2] No such file or directory: '/content/drive/MyDrive/data_for_KKSA_NLP_CH/test.json'",
          "output_type": "error",
          "traceback": [
            "\u001b[0;31m---------------------------------------------------------------------------\u001b[0m",
            "\u001b[0;31mFileNotFoundError\u001b[0m                         Traceback (most recent call last)",
            "\u001b[0;32m<ipython-input-19-8029d7d7f95c>\u001b[0m in \u001b[0;36m<cell line: 2>\u001b[0;34m()\u001b[0m\n\u001b[1;32m      1\u001b[0m \u001b[0mpred\u001b[0m\u001b[0;34m(\u001b[0m\u001b[0margs_pred_electra_dev\u001b[0m\u001b[0;34m)\u001b[0m\u001b[0;34m\u001b[0m\u001b[0;34m\u001b[0m\u001b[0m\n\u001b[0;32m----> 2\u001b[0;31m \u001b[0mpred\u001b[0m\u001b[0;34m(\u001b[0m\u001b[0margs_pred_electra_test\u001b[0m\u001b[0;34m)\u001b[0m\u001b[0;34m\u001b[0m\u001b[0;34m\u001b[0m\u001b[0m\n\u001b[0m",
            "\u001b[0;32m<ipython-input-17-c3c6c60c59e5>\u001b[0m in \u001b[0;36mpred\u001b[0;34m(args)\u001b[0m\n\u001b[1;32m      3\u001b[0m     \u001b[0;31m# 1. retrieve vocab, dataset, model\u001b[0m\u001b[0;34m\u001b[0m\u001b[0;34m\u001b[0m\u001b[0m\n\u001b[1;32m      4\u001b[0m     \u001b[0;31m## make datasets\u001b[0m\u001b[0;34m\u001b[0m\u001b[0;34m\u001b[0m\u001b[0m\n\u001b[0;32m----> 5\u001b[0;31m     \u001b[0mtest_dataset\u001b[0m \u001b[0;34m=\u001b[0m \u001b[0mARDDataset\u001b[0m\u001b[0;34m(\u001b[0m\u001b[0margs\u001b[0m\u001b[0;34m.\u001b[0m\u001b[0mtest_file\u001b[0m\u001b[0;34m,\u001b[0m \u001b[0mis_test\u001b[0m\u001b[0;34m=\u001b[0m\u001b[0;32mTrue\u001b[0m\u001b[0;34m)\u001b[0m\u001b[0;34m\u001b[0m\u001b[0;34m\u001b[0m\u001b[0m\n\u001b[0m\u001b[1;32m      6\u001b[0m \u001b[0;34m\u001b[0m\u001b[0m\n\u001b[1;32m      7\u001b[0m     \u001b[0;31m## make dataloader\u001b[0m\u001b[0;34m\u001b[0m\u001b[0;34m\u001b[0m\u001b[0m\n",
            "\u001b[0;32m<ipython-input-7-66183b8173ab>\u001b[0m in \u001b[0;36m__init__\u001b[0;34m(self, path, is_test)\u001b[0m\n\u001b[1;32m     13\u001b[0m         \u001b[0msuper\u001b[0m\u001b[0;34m(\u001b[0m\u001b[0;34m)\u001b[0m\u001b[0;34m.\u001b[0m\u001b[0m__init__\u001b[0m\u001b[0;34m(\u001b[0m\u001b[0;34m)\u001b[0m\u001b[0;34m\u001b[0m\u001b[0;34m\u001b[0m\u001b[0m\n\u001b[1;32m     14\u001b[0m         \u001b[0mself\u001b[0m\u001b[0;34m.\u001b[0m\u001b[0mis_test\u001b[0m \u001b[0;34m=\u001b[0m \u001b[0mis_test\u001b[0m\u001b[0;34m\u001b[0m\u001b[0;34m\u001b[0m\u001b[0m\n\u001b[0;32m---> 15\u001b[0;31m         \u001b[0mself\u001b[0m\u001b[0;34m.\u001b[0m\u001b[0mdata\u001b[0m \u001b[0;34m=\u001b[0m \u001b[0mread_json\u001b[0m\u001b[0;34m(\u001b[0m\u001b[0mpath\u001b[0m\u001b[0;34m)\u001b[0m\u001b[0;34m\u001b[0m\u001b[0;34m\u001b[0m\u001b[0m\n\u001b[0m\u001b[1;32m     16\u001b[0m \u001b[0;34m\u001b[0m\u001b[0m\n\u001b[1;32m     17\u001b[0m     \u001b[0;32mdef\u001b[0m \u001b[0m__getitem__\u001b[0m\u001b[0;34m(\u001b[0m\u001b[0mself\u001b[0m\u001b[0;34m,\u001b[0m \u001b[0mindex\u001b[0m\u001b[0;34m)\u001b[0m\u001b[0;34m:\u001b[0m\u001b[0;34m\u001b[0m\u001b[0;34m\u001b[0m\u001b[0m\n",
            "\u001b[0;32m<ipython-input-7-66183b8173ab>\u001b[0m in \u001b[0;36mread_json\u001b[0;34m(path)\u001b[0m\n\u001b[1;32m      1\u001b[0m \u001b[0;32mdef\u001b[0m \u001b[0mread_json\u001b[0m\u001b[0;34m(\u001b[0m\u001b[0mpath\u001b[0m\u001b[0;34m)\u001b[0m\u001b[0;34m:\u001b[0m\u001b[0;34m\u001b[0m\u001b[0;34m\u001b[0m\u001b[0m\n\u001b[0;32m----> 2\u001b[0;31m     \u001b[0;32mwith\u001b[0m \u001b[0mopen\u001b[0m\u001b[0;34m(\u001b[0m\u001b[0mpath\u001b[0m\u001b[0;34m,\u001b[0m \u001b[0;34m'r'\u001b[0m\u001b[0;34m,\u001b[0m \u001b[0mencoding\u001b[0m\u001b[0;34m=\u001b[0m\u001b[0;34m'utf-8'\u001b[0m\u001b[0;34m)\u001b[0m \u001b[0;32mas\u001b[0m \u001b[0mfin\u001b[0m\u001b[0;34m:\u001b[0m\u001b[0;34m\u001b[0m\u001b[0;34m\u001b[0m\u001b[0m\n\u001b[0m\u001b[1;32m      3\u001b[0m         \u001b[0mdata\u001b[0m \u001b[0;34m=\u001b[0m \u001b[0mjson\u001b[0m\u001b[0;34m.\u001b[0m\u001b[0mload\u001b[0m\u001b[0;34m(\u001b[0m\u001b[0mfin\u001b[0m\u001b[0;34m)\u001b[0m\u001b[0;34m\u001b[0m\u001b[0;34m\u001b[0m\u001b[0m\n\u001b[1;32m      4\u001b[0m     \u001b[0;32mreturn\u001b[0m \u001b[0mdata\u001b[0m\u001b[0;34m\u001b[0m\u001b[0;34m\u001b[0m\u001b[0m\n\u001b[1;32m      5\u001b[0m \u001b[0;34m\u001b[0m\u001b[0m\n",
            "\u001b[0;31mFileNotFoundError\u001b[0m: [Errno 2] No such file or directory: '/content/drive/MyDrive/data_for_KKSA_NLP_CH/test.json'"
          ]
        }
      ],
      "source": [
        "pred(args_pred_electra_dev)\n",
        "pred(args_pred_electra_test)"
      ]
    },
    {
      "cell_type": "markdown",
      "metadata": {
        "id": "AdvIN2JbAx4a"
      },
      "source": [
        "## Dev"
      ]
    },
    {
      "cell_type": "code",
      "execution_count": null,
      "metadata": {
        "id": "ml8zBIMsAwgY"
      },
      "outputs": [],
      "source": [
        "args_pred_electra = Args(\n",
        "    test_file=\"/content/drive/MyDrive/data_for_KKSA_NLP_CH/dev.json\",\n",
        "    save_dir = pathlib.Path(\"/content/drive/MyDrive/data_for_KKSA_NLP_CH/models/\"),\n",
        "    summary_logdir =pathlib.Path(\"/content/drive/MyDrive/data_for_KKSA_NLP_CH/logs/\"),\n",
        "    model_name=\"UBC-NLP/AraT5v2-base-1024\",\n",
        "    device=\"cuda\",\n",
        "    target_arch=\"electra\", # choices=(\"sgns\", \"electra\", \"bertseg\", \"bertmsa\"),\n",
        "    batch_size=16,\n",
        "    resume_train=None,#\"/content/drive/MyDrive/data_for_KKSA_NLP_CH/models/modelepoch.pt\",\n",
        "    resume_file=None,\n",
        "    from_pretrained=False,\n",
        "    max_len=256, # choices=(300, 256, 768),\n",
        "    best_model=\"best_model_electra_v3.pt\",\n",
        "    last_state_model=\"model_electra_v3.pt\",\n",
        "    pred_file=\"dev_pred_electra_v3.json\",\n",
        ")\n",
        "\n",
        "args_pred_bertmsa = Args(\n",
        "    test_file=\"/content/drive/MyDrive/data_for_KKSA_NLP_CH/dev.json\",\n",
        "    save_dir = pathlib.Path(\"/content/drive/MyDrive/data_for_KKSA_NLP_CH/models/\"),\n",
        "    summary_logdir =pathlib.Path(\"/content/drive/MyDrive/data_for_KKSA_NLP_CH/logs/\"),\n",
        "    model_name=\"UBC-NLP/AraT5v2-base-1024\",\n",
        "    device=\"cuda\",\n",
        "    target_arch=\"bertmsa\", # choices=(\"sgns\", \"electra\", \"bertseg\", \"bertmsa\"),\n",
        "    batch_size=16,\n",
        "    resume_train=None,#\"/content/drive/MyDrive/data_for_KKSA_NLP_CH/models/modelepoch.pt\",\n",
        "    resume_file=None,\n",
        "    from_pretrained=False,\n",
        "    max_len=768, # choices=(300, 256, 768),\n",
        "    best_model=\"best_model_bertmsa_v1.pt\",\n",
        "    last_state_model=\"model_bertmsa_v1.pt\",\n",
        "    pred_file=\"dev_pred_bertmsa_v1.json\",\n",
        ")\n",
        "args_pred_bertseg = Args(\n",
        "    test_file=\"/content/drive/MyDrive/data_for_KKSA_NLP_CH/dev.json\",\n",
        "    save_dir = pathlib.Path(\"/content/drive/MyDrive/data_for_KKSA_NLP_CH/models/\"),\n",
        "    summary_logdir =pathlib.Path(\"/content/drive/MyDrive/data_for_KKSA_NLP_CH/logs/\"),\n",
        "    model_name=\"UBC-NLP/AraT5v2-base-1024\",\n",
        "    device=\"cuda\",\n",
        "    target_arch=\"bertseg\", # choices=(\"sgns\", \"electra\", \"bertseg\", \"bertmsa\"),\n",
        "    batch_size=16,\n",
        "    resume_train=None,#\"/content/drive/MyDrive/data_for_KKSA_NLP_CH/models/modelepoch.pt\",\n",
        "    resume_file=None,\n",
        "    from_pretrained=False,\n",
        "    max_len=768, # choices=(300, 256, 768),\n",
        "    best_model=\"best_model_bertseg_v1.pt\",\n",
        "    last_state_model=\"model_bertseg_v1.pt\",\n",
        "    pred_file=\"dev_pred_bertseg_v1.json\",\n",
        ")"
      ]
    },
    {
      "cell_type": "code",
      "execution_count": null,
      "metadata": {
        "colab": {
          "base_uri": "https://localhost:8080/"
        },
        "id": "cGPzWXOyA3zr",
        "outputId": "6cb2a3f5-c0c6-42e6-ec7f-63d57633c4b4"
      },
      "outputs": [
        {
          "name": "stderr",
          "output_type": "stream",
          "text": [
            "Pred.: 100%|██████████| 3921/3921 [00:09<00:00, 423.05it/s]"
          ]
        },
        {
          "name": "stdout",
          "output_type": "stream",
          "text": [
            "2024-05-11 18:17:01,022 [DEBUG] x: writing predction file\n"
          ]
        },
        {
          "name": "stderr",
          "output_type": "stream",
          "text": [
            "\n",
            "DEBUG:x:writing predction file\n"
          ]
        },
        {
          "name": "stdout",
          "output_type": "stream",
          "text": [
            "2024-05-11 18:17:02,533 [DEBUG] x: writing finished\n"
          ]
        },
        {
          "name": "stderr",
          "output_type": "stream",
          "text": [
            "DEBUG:x:writing finished\n"
          ]
        }
      ],
      "source": [
        "pred(args_pred_electra)"
      ]
    },
    {
      "cell_type": "code",
      "execution_count": null,
      "metadata": {
        "colab": {
          "base_uri": "https://localhost:8080/"
        },
        "id": "I5mJPfYBV1VX",
        "outputId": "e9ead353-7f6e-4195-e17c-2012e8b3504d"
      },
      "outputs": [
        {
          "name": "stderr",
          "output_type": "stream",
          "text": [
            "Pred.: 100%|██████████| 3921/3921 [00:09<00:00, 414.92it/s]"
          ]
        },
        {
          "name": "stdout",
          "output_type": "stream",
          "text": [
            "2024-05-11 18:17:21,303 [DEBUG] x: writing predction file\n"
          ]
        },
        {
          "name": "stderr",
          "output_type": "stream",
          "text": [
            "\n",
            "DEBUG:x:writing predction file\n"
          ]
        },
        {
          "name": "stdout",
          "output_type": "stream",
          "text": [
            "2024-05-11 18:17:25,681 [DEBUG] x: writing finished\n"
          ]
        },
        {
          "name": "stderr",
          "output_type": "stream",
          "text": [
            "DEBUG:x:writing finished\n"
          ]
        }
      ],
      "source": [
        "pred(args_pred_bertmsa)"
      ]
    },
    {
      "cell_type": "code",
      "execution_count": null,
      "metadata": {
        "colab": {
          "base_uri": "https://localhost:8080/"
        },
        "id": "WpQxjhaXV1nN",
        "outputId": "583bf6d4-77fe-4e7a-9dd3-34b81db9b33f"
      },
      "outputs": [
        {
          "name": "stderr",
          "output_type": "stream",
          "text": [
            "Pred.: 100%|██████████| 3921/3921 [00:09<00:00, 418.87it/s]"
          ]
        },
        {
          "name": "stdout",
          "output_type": "stream",
          "text": [
            "2024-05-11 18:17:44,637 [DEBUG] x: writing predction file\n"
          ]
        },
        {
          "name": "stderr",
          "output_type": "stream",
          "text": [
            "\n",
            "DEBUG:x:writing predction file\n"
          ]
        },
        {
          "name": "stdout",
          "output_type": "stream",
          "text": [
            "2024-05-11 18:17:49,009 [DEBUG] x: writing finished\n"
          ]
        },
        {
          "name": "stderr",
          "output_type": "stream",
          "text": [
            "DEBUG:x:writing finished\n"
          ]
        }
      ],
      "source": [
        "pred(args_pred_bertseg)"
      ]
    },
    {
      "cell_type": "markdown",
      "metadata": {
        "id": "cFN0FMhgAoCM"
      },
      "source": [
        "## Testing"
      ]
    },
    {
      "cell_type": "code",
      "execution_count": null,
      "metadata": {
        "id": "RNK9nIJB_XOj"
      },
      "outputs": [],
      "source": [
        "args_pred_electra = Args(\n",
        "    test_file=\"/content/drive/MyDrive/data_for_KKSA_NLP_CH/test_rd.json\",\n",
        "    save_dir = pathlib.Path(\"/content/drive/MyDrive/data_for_KKSA_NLP_CH/models/\"),\n",
        "    summary_logdir =pathlib.Path(\"/content/drive/MyDrive/data_for_KKSA_NLP_CH/logs/\"),\n",
        "    model_name=\"UBC-NLP/AraT5v2-base-1024\",\n",
        "    device=\"cuda\",\n",
        "    target_arch=\"electra\", # choices=(\"sgns\", \"electra\", \"bertseg\", \"bertmsa\"),\n",
        "    batch_size=16,\n",
        "    resume_train=None,#\"/content/drive/MyDrive/data_for_KKSA_NLP_CH/models/modelepoch.pt\",\n",
        "    resume_file=None,\n",
        "    from_pretrained=False,\n",
        "    max_len=256, # choices=(300, 256, 768),\n",
        "    best_model=\"best_model_electra_v3.pt\",\n",
        "    last_state_model=\"model_electra_v3.pt\",\n",
        "    pred_file=\"test_pred_electra_v3.json\",\n",
        ")\n",
        "\n",
        "args_pred_bertmsa = Args(\n",
        "    test_file=\"/content/drive/MyDrive/data_for_KKSA_NLP_CH/test_rd.json\",\n",
        "    save_dir = pathlib.Path(\"/content/drive/MyDrive/data_for_KKSA_NLP_CH/models/\"),\n",
        "    summary_logdir =pathlib.Path(\"/content/drive/MyDrive/data_for_KKSA_NLP_CH/logs/\"),\n",
        "    model_name=\"UBC-NLP/AraT5v2-base-1024\",\n",
        "    device=\"cuda\",\n",
        "    target_arch=\"bertmsa\", # choices=(\"sgns\", \"electra\", \"bertseg\", \"bertmsa\"),\n",
        "    batch_size=16,\n",
        "    resume_train=None,#\"/content/drive/MyDrive/data_for_KKSA_NLP_CH/models/modelepoch.pt\",\n",
        "    resume_file=None,\n",
        "    from_pretrained=False,\n",
        "    max_len=768, # choices=(256, 768),\n",
        "    best_model=\"best_model_bertmsa_v1.pt\",\n",
        "    last_state_model=\"model_bertmsa_v1.pt\",\n",
        "    pred_file=\"test_pred_bertmsa_v1.json\",\n",
        ")\n",
        "args_pred_bertseg = Args(\n",
        "    test_file=\"/content/drive/MyDrive/data_for_KKSA_NLP_CH/test_rd.json\",\n",
        "    save_dir = pathlib.Path(\"/content/drive/MyDrive/data_for_KKSA_NLP_CH/models/\"),\n",
        "    summary_logdir =pathlib.Path(\"/content/drive/MyDrive/data_for_KKSA_NLP_CH/logs/\"),\n",
        "    model_name=\"UBC-NLP/AraT5v2-base-1024\",\n",
        "    device=\"cuda\",\n",
        "    target_arch=\"bertseg\", # choices=(\"sgns\", \"electra\", \"bertseg\", \"bertmsa\"),\n",
        "    batch_size=16,\n",
        "    resume_train=None,#\"/content/drive/MyDrive/data_for_KKSA_NLP_CH/models/modelepoch.pt\",\n",
        "    resume_file=None,\n",
        "    from_pretrained=False,\n",
        "    max_len=768, # choices=(256, 768),\n",
        "    best_model=\"best_model_bertseg_v1.pt\",\n",
        "    last_state_model=\"model_bertseg_v1.pt\",\n",
        "    pred_file=\"test_pred_bertseg_v1.json\",\n",
        ")\n"
      ]
    },
    {
      "cell_type": "code",
      "execution_count": null,
      "metadata": {
        "colab": {
          "base_uri": "https://localhost:8080/"
        },
        "id": "-P7vBJ6bAadM",
        "outputId": "5dfd92fd-243a-4c42-bbed-783c76b730cf"
      },
      "outputs": [
        {
          "name": "stderr",
          "output_type": "stream",
          "text": [
            "Pred.: 100%|██████████| 3922/3922 [00:09<00:00, 402.78it/s]"
          ]
        },
        {
          "name": "stdout",
          "output_type": "stream",
          "text": [
            "2024-05-11 18:18:06,865 [DEBUG] x: writing predction file\n"
          ]
        },
        {
          "name": "stderr",
          "output_type": "stream",
          "text": [
            "\n",
            "DEBUG:x:writing predction file\n"
          ]
        },
        {
          "name": "stdout",
          "output_type": "stream",
          "text": [
            "2024-05-11 18:18:08,347 [DEBUG] x: writing finished\n"
          ]
        },
        {
          "name": "stderr",
          "output_type": "stream",
          "text": [
            "DEBUG:x:writing finished\n"
          ]
        }
      ],
      "source": [
        "pred(args_pred_electra)"
      ]
    },
    {
      "cell_type": "code",
      "execution_count": null,
      "metadata": {
        "colab": {
          "base_uri": "https://localhost:8080/"
        },
        "id": "4LBgCFQ-AMgk",
        "outputId": "a58fff37-f0f2-4ff5-e166-55f625ad32c4"
      },
      "outputs": [
        {
          "name": "stderr",
          "output_type": "stream",
          "text": [
            "Pred.: 100%|██████████| 3922/3922 [00:09<00:00, 414.47it/s]"
          ]
        },
        {
          "name": "stdout",
          "output_type": "stream",
          "text": [
            "2024-05-11 18:18:25,981 [DEBUG] x: writing predction file\n"
          ]
        },
        {
          "name": "stderr",
          "output_type": "stream",
          "text": [
            "\n",
            "DEBUG:x:writing predction file\n"
          ]
        },
        {
          "name": "stdout",
          "output_type": "stream",
          "text": [
            "2024-05-11 18:18:30,377 [DEBUG] x: writing finished\n"
          ]
        },
        {
          "name": "stderr",
          "output_type": "stream",
          "text": [
            "DEBUG:x:writing finished\n"
          ]
        }
      ],
      "source": [
        "pred(args_pred_bertmsa)"
      ]
    },
    {
      "cell_type": "code",
      "execution_count": null,
      "metadata": {
        "colab": {
          "base_uri": "https://localhost:8080/"
        },
        "id": "opyRTv1rAYOd",
        "outputId": "9b663aae-3a74-4b38-e1e8-e31776346861"
      },
      "outputs": [
        {
          "name": "stderr",
          "output_type": "stream",
          "text": [
            "Pred.: 100%|██████████| 3922/3922 [00:09<00:00, 413.10it/s]"
          ]
        },
        {
          "name": "stdout",
          "output_type": "stream",
          "text": [
            "2024-05-11 18:18:47,784 [DEBUG] x: writing predction file\n"
          ]
        },
        {
          "name": "stderr",
          "output_type": "stream",
          "text": [
            "\n",
            "DEBUG:x:writing predction file\n"
          ]
        },
        {
          "name": "stdout",
          "output_type": "stream",
          "text": [
            "2024-05-11 18:18:52,221 [DEBUG] x: writing finished\n"
          ]
        },
        {
          "name": "stderr",
          "output_type": "stream",
          "text": [
            "DEBUG:x:writing finished\n"
          ]
        }
      ],
      "source": [
        "pred(args_pred_bertseg)"
      ]
    },
    {
      "cell_type": "code",
      "execution_count": null,
      "metadata": {
        "colab": {
          "base_uri": "https://localhost:8080/"
        },
        "id": "zkd8deStjHoj",
        "outputId": "ef87f803-47ac-4f90-bbff-c816b511e075"
      },
      "outputs": [
        {
          "name": "stdout",
          "output_type": "stream",
          "text": [
            "يَخْطُب\n",
            "256\n"
          ]
        }
      ],
      "source": [
        "df = pd.read_json(\"/content/drive/MyDrive/data_for_KKSA_NLP_CH/models/test_pred_electra_v3.json\")\n",
        "print(df.loc[0][\"word\"])\n",
        "print(len(df.loc[0][\"electra\"]))"
      ]
    }
  ],
  "metadata": {
    "accelerator": "GPU",
    "colab": {
      "gpuType": "A100",
      "machine_shape": "hm",
      "provenance": []
    },
    "kernelspec": {
      "display_name": "Python 3",
      "name": "python3"
    },
    "language_info": {
      "name": "python"
    },
    "widgets": {
      "application/vnd.jupyter.widget-state+json": {
        "010c4dbe3c5b4eb39394033d9d2d0d53": {
          "model_module": "@jupyter-widgets/base",
          "model_module_version": "1.2.0",
          "model_name": "LayoutModel",
          "state": {
            "_model_module": "@jupyter-widgets/base",
            "_model_module_version": "1.2.0",
            "_model_name": "LayoutModel",
            "_view_count": null,
            "_view_module": "@jupyter-widgets/base",
            "_view_module_version": "1.2.0",
            "_view_name": "LayoutView",
            "align_content": null,
            "align_items": null,
            "align_self": null,
            "border": null,
            "bottom": null,
            "display": null,
            "flex": null,
            "flex_flow": null,
            "grid_area": null,
            "grid_auto_columns": null,
            "grid_auto_flow": null,
            "grid_auto_rows": null,
            "grid_column": null,
            "grid_gap": null,
            "grid_row": null,
            "grid_template_areas": null,
            "grid_template_columns": null,
            "grid_template_rows": null,
            "height": null,
            "justify_content": null,
            "justify_items": null,
            "left": null,
            "margin": null,
            "max_height": null,
            "max_width": null,
            "min_height": null,
            "min_width": null,
            "object_fit": null,
            "object_position": null,
            "order": null,
            "overflow": null,
            "overflow_x": null,
            "overflow_y": null,
            "padding": null,
            "right": null,
            "top": null,
            "visibility": null,
            "width": null
          }
        },
        "01481c2d87104a1db864895e52a182c6": {
          "model_module": "@jupyter-widgets/controls",
          "model_module_version": "1.5.0",
          "model_name": "DescriptionStyleModel",
          "state": {
            "_model_module": "@jupyter-widgets/controls",
            "_model_module_version": "1.5.0",
            "_model_name": "DescriptionStyleModel",
            "_view_count": null,
            "_view_module": "@jupyter-widgets/base",
            "_view_module_version": "1.2.0",
            "_view_name": "StyleView",
            "description_width": ""
          }
        },
        "0187315ec9374891bf074e268855b40d": {
          "model_module": "@jupyter-widgets/base",
          "model_module_version": "1.2.0",
          "model_name": "LayoutModel",
          "state": {
            "_model_module": "@jupyter-widgets/base",
            "_model_module_version": "1.2.0",
            "_model_name": "LayoutModel",
            "_view_count": null,
            "_view_module": "@jupyter-widgets/base",
            "_view_module_version": "1.2.0",
            "_view_name": "LayoutView",
            "align_content": null,
            "align_items": null,
            "align_self": null,
            "border": null,
            "bottom": null,
            "display": null,
            "flex": null,
            "flex_flow": null,
            "grid_area": null,
            "grid_auto_columns": null,
            "grid_auto_flow": null,
            "grid_auto_rows": null,
            "grid_column": null,
            "grid_gap": null,
            "grid_row": null,
            "grid_template_areas": null,
            "grid_template_columns": null,
            "grid_template_rows": null,
            "height": null,
            "justify_content": null,
            "justify_items": null,
            "left": null,
            "margin": null,
            "max_height": null,
            "max_width": null,
            "min_height": null,
            "min_width": null,
            "object_fit": null,
            "object_position": null,
            "order": null,
            "overflow": null,
            "overflow_x": null,
            "overflow_y": null,
            "padding": null,
            "right": null,
            "top": null,
            "visibility": null,
            "width": null
          }
        },
        "025e02a3338049ee8628325c3bf41396": {
          "model_module": "@jupyter-widgets/base",
          "model_module_version": "1.2.0",
          "model_name": "LayoutModel",
          "state": {
            "_model_module": "@jupyter-widgets/base",
            "_model_module_version": "1.2.0",
            "_model_name": "LayoutModel",
            "_view_count": null,
            "_view_module": "@jupyter-widgets/base",
            "_view_module_version": "1.2.0",
            "_view_name": "LayoutView",
            "align_content": null,
            "align_items": null,
            "align_self": null,
            "border": null,
            "bottom": null,
            "display": null,
            "flex": null,
            "flex_flow": null,
            "grid_area": null,
            "grid_auto_columns": null,
            "grid_auto_flow": null,
            "grid_auto_rows": null,
            "grid_column": null,
            "grid_gap": null,
            "grid_row": null,
            "grid_template_areas": null,
            "grid_template_columns": null,
            "grid_template_rows": null,
            "height": null,
            "justify_content": null,
            "justify_items": null,
            "left": null,
            "margin": null,
            "max_height": null,
            "max_width": null,
            "min_height": null,
            "min_width": null,
            "object_fit": null,
            "object_position": null,
            "order": null,
            "overflow": null,
            "overflow_x": null,
            "overflow_y": null,
            "padding": null,
            "right": null,
            "top": null,
            "visibility": null,
            "width": null
          }
        },
        "07c226d2aa104219bfb6c6229f3869ce": {
          "model_module": "@jupyter-widgets/controls",
          "model_module_version": "1.5.0",
          "model_name": "HBoxModel",
          "state": {
            "_dom_classes": [],
            "_model_module": "@jupyter-widgets/controls",
            "_model_module_version": "1.5.0",
            "_model_name": "HBoxModel",
            "_view_count": null,
            "_view_module": "@jupyter-widgets/controls",
            "_view_module_version": "1.5.0",
            "_view_name": "HBoxView",
            "box_style": "",
            "children": [
              "IPY_MODEL_9e14362e9d48433da5acd5f427c688c3",
              "IPY_MODEL_0fce6d2ba3c64d8f838b0e3860c5b6f4",
              "IPY_MODEL_7b2026c206ba4280abf8d86eaaee7869"
            ],
            "layout": "IPY_MODEL_0eee973f96af4248963f3e4d96330d28"
          }
        },
        "07d2dc3fb3b545efb8d394089c0099c0": {
          "model_module": "@jupyter-widgets/base",
          "model_module_version": "1.2.0",
          "model_name": "LayoutModel",
          "state": {
            "_model_module": "@jupyter-widgets/base",
            "_model_module_version": "1.2.0",
            "_model_name": "LayoutModel",
            "_view_count": null,
            "_view_module": "@jupyter-widgets/base",
            "_view_module_version": "1.2.0",
            "_view_name": "LayoutView",
            "align_content": null,
            "align_items": null,
            "align_self": null,
            "border": null,
            "bottom": null,
            "display": null,
            "flex": null,
            "flex_flow": null,
            "grid_area": null,
            "grid_auto_columns": null,
            "grid_auto_flow": null,
            "grid_auto_rows": null,
            "grid_column": null,
            "grid_gap": null,
            "grid_row": null,
            "grid_template_areas": null,
            "grid_template_columns": null,
            "grid_template_rows": null,
            "height": null,
            "justify_content": null,
            "justify_items": null,
            "left": null,
            "margin": null,
            "max_height": null,
            "max_width": null,
            "min_height": null,
            "min_width": null,
            "object_fit": null,
            "object_position": null,
            "order": null,
            "overflow": null,
            "overflow_x": null,
            "overflow_y": null,
            "padding": null,
            "right": null,
            "top": null,
            "visibility": null,
            "width": null
          }
        },
        "08fe9b292790453da4e70f2bf5ad26e1": {
          "model_module": "@jupyter-widgets/controls",
          "model_module_version": "1.5.0",
          "model_name": "DescriptionStyleModel",
          "state": {
            "_model_module": "@jupyter-widgets/controls",
            "_model_module_version": "1.5.0",
            "_model_name": "DescriptionStyleModel",
            "_view_count": null,
            "_view_module": "@jupyter-widgets/base",
            "_view_module_version": "1.2.0",
            "_view_name": "StyleView",
            "description_width": ""
          }
        },
        "0a043b43d5484163bc74a367dbacf79f": {
          "model_module": "@jupyter-widgets/base",
          "model_module_version": "1.2.0",
          "model_name": "LayoutModel",
          "state": {
            "_model_module": "@jupyter-widgets/base",
            "_model_module_version": "1.2.0",
            "_model_name": "LayoutModel",
            "_view_count": null,
            "_view_module": "@jupyter-widgets/base",
            "_view_module_version": "1.2.0",
            "_view_name": "LayoutView",
            "align_content": null,
            "align_items": null,
            "align_self": null,
            "border": null,
            "bottom": null,
            "display": null,
            "flex": null,
            "flex_flow": null,
            "grid_area": null,
            "grid_auto_columns": null,
            "grid_auto_flow": null,
            "grid_auto_rows": null,
            "grid_column": null,
            "grid_gap": null,
            "grid_row": null,
            "grid_template_areas": null,
            "grid_template_columns": null,
            "grid_template_rows": null,
            "height": null,
            "justify_content": null,
            "justify_items": null,
            "left": null,
            "margin": null,
            "max_height": null,
            "max_width": null,
            "min_height": null,
            "min_width": null,
            "object_fit": null,
            "object_position": null,
            "order": null,
            "overflow": null,
            "overflow_x": null,
            "overflow_y": null,
            "padding": null,
            "right": null,
            "top": null,
            "visibility": null,
            "width": null
          }
        },
        "0eee973f96af4248963f3e4d96330d28": {
          "model_module": "@jupyter-widgets/base",
          "model_module_version": "1.2.0",
          "model_name": "LayoutModel",
          "state": {
            "_model_module": "@jupyter-widgets/base",
            "_model_module_version": "1.2.0",
            "_model_name": "LayoutModel",
            "_view_count": null,
            "_view_module": "@jupyter-widgets/base",
            "_view_module_version": "1.2.0",
            "_view_name": "LayoutView",
            "align_content": null,
            "align_items": null,
            "align_self": null,
            "border": null,
            "bottom": null,
            "display": null,
            "flex": null,
            "flex_flow": null,
            "grid_area": null,
            "grid_auto_columns": null,
            "grid_auto_flow": null,
            "grid_auto_rows": null,
            "grid_column": null,
            "grid_gap": null,
            "grid_row": null,
            "grid_template_areas": null,
            "grid_template_columns": null,
            "grid_template_rows": null,
            "height": null,
            "justify_content": null,
            "justify_items": null,
            "left": null,
            "margin": null,
            "max_height": null,
            "max_width": null,
            "min_height": null,
            "min_width": null,
            "object_fit": null,
            "object_position": null,
            "order": null,
            "overflow": null,
            "overflow_x": null,
            "overflow_y": null,
            "padding": null,
            "right": null,
            "top": null,
            "visibility": null,
            "width": null
          }
        },
        "0fce6d2ba3c64d8f838b0e3860c5b6f4": {
          "model_module": "@jupyter-widgets/controls",
          "model_module_version": "1.5.0",
          "model_name": "FloatProgressModel",
          "state": {
            "_dom_classes": [],
            "_model_module": "@jupyter-widgets/controls",
            "_model_module_version": "1.5.0",
            "_model_name": "FloatProgressModel",
            "_view_count": null,
            "_view_module": "@jupyter-widgets/controls",
            "_view_module_version": "1.5.0",
            "_view_name": "ProgressView",
            "bar_style": "success",
            "description": "",
            "description_tooltip": null,
            "layout": "IPY_MODEL_d68e6bb18cf34fe18d75a3982c92518f",
            "max": 2201,
            "min": 0,
            "orientation": "horizontal",
            "style": "IPY_MODEL_e71c7ba34e534307976653b8c8d52f90",
            "value": 2201
          }
        },
        "195dfbf64e634e5c8eea7028976e8b25": {
          "model_module": "@jupyter-widgets/controls",
          "model_module_version": "1.5.0",
          "model_name": "ProgressStyleModel",
          "state": {
            "_model_module": "@jupyter-widgets/controls",
            "_model_module_version": "1.5.0",
            "_model_name": "ProgressStyleModel",
            "_view_count": null,
            "_view_module": "@jupyter-widgets/base",
            "_view_module_version": "1.2.0",
            "_view_name": "StyleView",
            "bar_color": null,
            "description_width": ""
          }
        },
        "1a6d1389e6cb40eca67f44cc38c36734": {
          "model_module": "@jupyter-widgets/base",
          "model_module_version": "1.2.0",
          "model_name": "LayoutModel",
          "state": {
            "_model_module": "@jupyter-widgets/base",
            "_model_module_version": "1.2.0",
            "_model_name": "LayoutModel",
            "_view_count": null,
            "_view_module": "@jupyter-widgets/base",
            "_view_module_version": "1.2.0",
            "_view_name": "LayoutView",
            "align_content": null,
            "align_items": null,
            "align_self": null,
            "border": null,
            "bottom": null,
            "display": null,
            "flex": null,
            "flex_flow": null,
            "grid_area": null,
            "grid_auto_columns": null,
            "grid_auto_flow": null,
            "grid_auto_rows": null,
            "grid_column": null,
            "grid_gap": null,
            "grid_row": null,
            "grid_template_areas": null,
            "grid_template_columns": null,
            "grid_template_rows": null,
            "height": null,
            "justify_content": null,
            "justify_items": null,
            "left": null,
            "margin": null,
            "max_height": null,
            "max_width": null,
            "min_height": null,
            "min_width": null,
            "object_fit": null,
            "object_position": null,
            "order": null,
            "overflow": null,
            "overflow_x": null,
            "overflow_y": null,
            "padding": null,
            "right": null,
            "top": null,
            "visibility": null,
            "width": null
          }
        },
        "1b39c85a2ea14243a12e8f2e81fb6f8f": {
          "model_module": "@jupyter-widgets/base",
          "model_module_version": "1.2.0",
          "model_name": "LayoutModel",
          "state": {
            "_model_module": "@jupyter-widgets/base",
            "_model_module_version": "1.2.0",
            "_model_name": "LayoutModel",
            "_view_count": null,
            "_view_module": "@jupyter-widgets/base",
            "_view_module_version": "1.2.0",
            "_view_name": "LayoutView",
            "align_content": null,
            "align_items": null,
            "align_self": null,
            "border": null,
            "bottom": null,
            "display": null,
            "flex": null,
            "flex_flow": null,
            "grid_area": null,
            "grid_auto_columns": null,
            "grid_auto_flow": null,
            "grid_auto_rows": null,
            "grid_column": null,
            "grid_gap": null,
            "grid_row": null,
            "grid_template_areas": null,
            "grid_template_columns": null,
            "grid_template_rows": null,
            "height": null,
            "justify_content": null,
            "justify_items": null,
            "left": null,
            "margin": null,
            "max_height": null,
            "max_width": null,
            "min_height": null,
            "min_width": null,
            "object_fit": null,
            "object_position": null,
            "order": null,
            "overflow": null,
            "overflow_x": null,
            "overflow_y": null,
            "padding": null,
            "right": null,
            "top": null,
            "visibility": null,
            "width": null
          }
        },
        "1cd4953fe5e5414685ebab8e32aff234": {
          "model_module": "@jupyter-widgets/base",
          "model_module_version": "1.2.0",
          "model_name": "LayoutModel",
          "state": {
            "_model_module": "@jupyter-widgets/base",
            "_model_module_version": "1.2.0",
            "_model_name": "LayoutModel",
            "_view_count": null,
            "_view_module": "@jupyter-widgets/base",
            "_view_module_version": "1.2.0",
            "_view_name": "LayoutView",
            "align_content": null,
            "align_items": null,
            "align_self": null,
            "border": null,
            "bottom": null,
            "display": null,
            "flex": null,
            "flex_flow": null,
            "grid_area": null,
            "grid_auto_columns": null,
            "grid_auto_flow": null,
            "grid_auto_rows": null,
            "grid_column": null,
            "grid_gap": null,
            "grid_row": null,
            "grid_template_areas": null,
            "grid_template_columns": null,
            "grid_template_rows": null,
            "height": null,
            "justify_content": null,
            "justify_items": null,
            "left": null,
            "margin": null,
            "max_height": null,
            "max_width": null,
            "min_height": null,
            "min_width": null,
            "object_fit": null,
            "object_position": null,
            "order": null,
            "overflow": null,
            "overflow_x": null,
            "overflow_y": null,
            "padding": null,
            "right": null,
            "top": null,
            "visibility": null,
            "width": null
          }
        },
        "1e8e7bef653c424fb61690d8b5d41fe1": {
          "model_module": "@jupyter-widgets/base",
          "model_module_version": "1.2.0",
          "model_name": "LayoutModel",
          "state": {
            "_model_module": "@jupyter-widgets/base",
            "_model_module_version": "1.2.0",
            "_model_name": "LayoutModel",
            "_view_count": null,
            "_view_module": "@jupyter-widgets/base",
            "_view_module_version": "1.2.0",
            "_view_name": "LayoutView",
            "align_content": null,
            "align_items": null,
            "align_self": null,
            "border": null,
            "bottom": null,
            "display": null,
            "flex": null,
            "flex_flow": null,
            "grid_area": null,
            "grid_auto_columns": null,
            "grid_auto_flow": null,
            "grid_auto_rows": null,
            "grid_column": null,
            "grid_gap": null,
            "grid_row": null,
            "grid_template_areas": null,
            "grid_template_columns": null,
            "grid_template_rows": null,
            "height": null,
            "justify_content": null,
            "justify_items": null,
            "left": null,
            "margin": null,
            "max_height": null,
            "max_width": null,
            "min_height": null,
            "min_width": null,
            "object_fit": null,
            "object_position": null,
            "order": null,
            "overflow": null,
            "overflow_x": null,
            "overflow_y": null,
            "padding": null,
            "right": null,
            "top": null,
            "visibility": null,
            "width": null
          }
        },
        "1fb2e4a1cde34d06888910d56ffac981": {
          "model_module": "@jupyter-widgets/controls",
          "model_module_version": "1.5.0",
          "model_name": "ProgressStyleModel",
          "state": {
            "_model_module": "@jupyter-widgets/controls",
            "_model_module_version": "1.5.0",
            "_model_name": "ProgressStyleModel",
            "_view_count": null,
            "_view_module": "@jupyter-widgets/base",
            "_view_module_version": "1.2.0",
            "_view_name": "StyleView",
            "bar_color": null,
            "description_width": ""
          }
        },
        "20ecd0dbedd345e88e3dcb7f77c8e401": {
          "model_module": "@jupyter-widgets/controls",
          "model_module_version": "1.5.0",
          "model_name": "DescriptionStyleModel",
          "state": {
            "_model_module": "@jupyter-widgets/controls",
            "_model_module_version": "1.5.0",
            "_model_name": "DescriptionStyleModel",
            "_view_count": null,
            "_view_module": "@jupyter-widgets/base",
            "_view_module_version": "1.2.0",
            "_view_name": "StyleView",
            "description_width": ""
          }
        },
        "22655b0dbd494ccf9c6c7ef629630551": {
          "model_module": "@jupyter-widgets/controls",
          "model_module_version": "1.5.0",
          "model_name": "HTMLModel",
          "state": {
            "_dom_classes": [],
            "_model_module": "@jupyter-widgets/controls",
            "_model_module_version": "1.5.0",
            "_model_name": "HTMLModel",
            "_view_count": null,
            "_view_module": "@jupyter-widgets/controls",
            "_view_module_version": "1.5.0",
            "_view_name": "HTMLView",
            "description": "",
            "description_tooltip": null,
            "layout": "IPY_MODEL_a09b4d25d60c47ad91551f0ea554136b",
            "placeholder": "​",
            "style": "IPY_MODEL_794bfdb392f94133a9c47253af6e36de",
            "value": "spiece.model: 100%"
          }
        },
        "2413a7501a6e4f1b8634c46cd63fd673": {
          "model_module": "@jupyter-widgets/controls",
          "model_module_version": "1.5.0",
          "model_name": "HBoxModel",
          "state": {
            "_dom_classes": [],
            "_model_module": "@jupyter-widgets/controls",
            "_model_module_version": "1.5.0",
            "_model_name": "HBoxModel",
            "_view_count": null,
            "_view_module": "@jupyter-widgets/controls",
            "_view_module_version": "1.5.0",
            "_view_name": "HBoxView",
            "box_style": "",
            "children": [
              "IPY_MODEL_47d234cb997c4561ac2551fafa42aaf9",
              "IPY_MODEL_402ea56e351a4cbfb7291738da12c65c",
              "IPY_MODEL_27bdc8be35684bc697edc84b7c1c8a76"
            ],
            "layout": "IPY_MODEL_c92781136ac54000880ff429ba8c3b6d"
          }
        },
        "2487ad0dd1d940538a01e639adbaaeab": {
          "model_module": "@jupyter-widgets/base",
          "model_module_version": "1.2.0",
          "model_name": "LayoutModel",
          "state": {
            "_model_module": "@jupyter-widgets/base",
            "_model_module_version": "1.2.0",
            "_model_name": "LayoutModel",
            "_view_count": null,
            "_view_module": "@jupyter-widgets/base",
            "_view_module_version": "1.2.0",
            "_view_name": "LayoutView",
            "align_content": null,
            "align_items": null,
            "align_self": null,
            "border": null,
            "bottom": null,
            "display": null,
            "flex": null,
            "flex_flow": null,
            "grid_area": null,
            "grid_auto_columns": null,
            "grid_auto_flow": null,
            "grid_auto_rows": null,
            "grid_column": null,
            "grid_gap": null,
            "grid_row": null,
            "grid_template_areas": null,
            "grid_template_columns": null,
            "grid_template_rows": null,
            "height": null,
            "justify_content": null,
            "justify_items": null,
            "left": null,
            "margin": null,
            "max_height": null,
            "max_width": null,
            "min_height": null,
            "min_width": null,
            "object_fit": null,
            "object_position": null,
            "order": null,
            "overflow": null,
            "overflow_x": null,
            "overflow_y": null,
            "padding": null,
            "right": null,
            "top": null,
            "visibility": null,
            "width": null
          }
        },
        "25107c2175214d5394c616f0dba20997": {
          "model_module": "@jupyter-widgets/base",
          "model_module_version": "1.2.0",
          "model_name": "LayoutModel",
          "state": {
            "_model_module": "@jupyter-widgets/base",
            "_model_module_version": "1.2.0",
            "_model_name": "LayoutModel",
            "_view_count": null,
            "_view_module": "@jupyter-widgets/base",
            "_view_module_version": "1.2.0",
            "_view_name": "LayoutView",
            "align_content": null,
            "align_items": null,
            "align_self": null,
            "border": null,
            "bottom": null,
            "display": null,
            "flex": null,
            "flex_flow": null,
            "grid_area": null,
            "grid_auto_columns": null,
            "grid_auto_flow": null,
            "grid_auto_rows": null,
            "grid_column": null,
            "grid_gap": null,
            "grid_row": null,
            "grid_template_areas": null,
            "grid_template_columns": null,
            "grid_template_rows": null,
            "height": null,
            "justify_content": null,
            "justify_items": null,
            "left": null,
            "margin": null,
            "max_height": null,
            "max_width": null,
            "min_height": null,
            "min_width": null,
            "object_fit": null,
            "object_position": null,
            "order": null,
            "overflow": null,
            "overflow_x": null,
            "overflow_y": null,
            "padding": null,
            "right": null,
            "top": null,
            "visibility": null,
            "width": null
          }
        },
        "265ee12fe77a457ba3f7c786a3f2bb47": {
          "model_module": "@jupyter-widgets/controls",
          "model_module_version": "1.5.0",
          "model_name": "HTMLModel",
          "state": {
            "_dom_classes": [],
            "_model_module": "@jupyter-widgets/controls",
            "_model_module_version": "1.5.0",
            "_model_name": "HTMLModel",
            "_view_count": null,
            "_view_module": "@jupyter-widgets/controls",
            "_view_module_version": "1.5.0",
            "_view_name": "HTMLView",
            "description": "",
            "description_tooltip": null,
            "layout": "IPY_MODEL_010c4dbe3c5b4eb39394033d9d2d0d53",
            "placeholder": "​",
            "style": "IPY_MODEL_01481c2d87104a1db864895e52a182c6",
            "value": "spiece.model: 100%"
          }
        },
        "275a26d8ded04e52a41b7938b10b104c": {
          "model_module": "@jupyter-widgets/controls",
          "model_module_version": "1.5.0",
          "model_name": "HTMLModel",
          "state": {
            "_dom_classes": [],
            "_model_module": "@jupyter-widgets/controls",
            "_model_module_version": "1.5.0",
            "_model_name": "HTMLModel",
            "_view_count": null,
            "_view_module": "@jupyter-widgets/controls",
            "_view_module_version": "1.5.0",
            "_view_name": "HTMLView",
            "description": "",
            "description_tooltip": null,
            "layout": "IPY_MODEL_1cd4953fe5e5414685ebab8e32aff234",
            "placeholder": "​",
            "style": "IPY_MODEL_f249c94534da433c9a4f7d5053f89752",
            "value": " 699/699 [00:00&lt;00:00, 57.9kB/s]"
          }
        },
        "27bdc8be35684bc697edc84b7c1c8a76": {
          "model_module": "@jupyter-widgets/controls",
          "model_module_version": "1.5.0",
          "model_name": "HTMLModel",
          "state": {
            "_dom_classes": [],
            "_model_module": "@jupyter-widgets/controls",
            "_model_module_version": "1.5.0",
            "_model_name": "HTMLModel",
            "_view_count": null,
            "_view_module": "@jupyter-widgets/controls",
            "_view_module_version": "1.5.0",
            "_view_name": "HTMLView",
            "description": "",
            "description_tooltip": null,
            "layout": "IPY_MODEL_2487ad0dd1d940538a01e639adbaaeab",
            "placeholder": "​",
            "style": "IPY_MODEL_a47f7670cdd041f282811d7128cb344f",
            "value": " 2.20k/2.20k [00:00&lt;00:00, 200kB/s]"
          }
        },
        "28ca32facfea434b83e00074ad8fa56d": {
          "model_module": "@jupyter-widgets/controls",
          "model_module_version": "1.5.0",
          "model_name": "DescriptionStyleModel",
          "state": {
            "_model_module": "@jupyter-widgets/controls",
            "_model_module_version": "1.5.0",
            "_model_name": "DescriptionStyleModel",
            "_view_count": null,
            "_view_module": "@jupyter-widgets/base",
            "_view_module_version": "1.2.0",
            "_view_name": "StyleView",
            "description_width": ""
          }
        },
        "299a965a02a747819599984d59fedd35": {
          "model_module": "@jupyter-widgets/base",
          "model_module_version": "1.2.0",
          "model_name": "LayoutModel",
          "state": {
            "_model_module": "@jupyter-widgets/base",
            "_model_module_version": "1.2.0",
            "_model_name": "LayoutModel",
            "_view_count": null,
            "_view_module": "@jupyter-widgets/base",
            "_view_module_version": "1.2.0",
            "_view_name": "LayoutView",
            "align_content": null,
            "align_items": null,
            "align_self": null,
            "border": null,
            "bottom": null,
            "display": null,
            "flex": null,
            "flex_flow": null,
            "grid_area": null,
            "grid_auto_columns": null,
            "grid_auto_flow": null,
            "grid_auto_rows": null,
            "grid_column": null,
            "grid_gap": null,
            "grid_row": null,
            "grid_template_areas": null,
            "grid_template_columns": null,
            "grid_template_rows": null,
            "height": null,
            "justify_content": null,
            "justify_items": null,
            "left": null,
            "margin": null,
            "max_height": null,
            "max_width": null,
            "min_height": null,
            "min_width": null,
            "object_fit": null,
            "object_position": null,
            "order": null,
            "overflow": null,
            "overflow_x": null,
            "overflow_y": null,
            "padding": null,
            "right": null,
            "top": null,
            "visibility": null,
            "width": null
          }
        },
        "29cb3d7faf1943fe9ecd7bc67bffff60": {
          "model_module": "@jupyter-widgets/controls",
          "model_module_version": "1.5.0",
          "model_name": "DescriptionStyleModel",
          "state": {
            "_model_module": "@jupyter-widgets/controls",
            "_model_module_version": "1.5.0",
            "_model_name": "DescriptionStyleModel",
            "_view_count": null,
            "_view_module": "@jupyter-widgets/base",
            "_view_module_version": "1.2.0",
            "_view_name": "StyleView",
            "description_width": ""
          }
        },
        "2a21faf7103b4318aa334afe7752c886": {
          "model_module": "@jupyter-widgets/controls",
          "model_module_version": "1.5.0",
          "model_name": "DescriptionStyleModel",
          "state": {
            "_model_module": "@jupyter-widgets/controls",
            "_model_module_version": "1.5.0",
            "_model_name": "DescriptionStyleModel",
            "_view_count": null,
            "_view_module": "@jupyter-widgets/base",
            "_view_module_version": "1.2.0",
            "_view_name": "StyleView",
            "description_width": ""
          }
        },
        "2c4c1a55e4304b8e850053f16255e185": {
          "model_module": "@jupyter-widgets/controls",
          "model_module_version": "1.5.0",
          "model_name": "ProgressStyleModel",
          "state": {
            "_model_module": "@jupyter-widgets/controls",
            "_model_module_version": "1.5.0",
            "_model_name": "ProgressStyleModel",
            "_view_count": null,
            "_view_module": "@jupyter-widgets/base",
            "_view_module_version": "1.2.0",
            "_view_name": "StyleView",
            "bar_color": null,
            "description_width": ""
          }
        },
        "2f26cfac71c4479c83afdc1d3eb56892": {
          "model_module": "@jupyter-widgets/base",
          "model_module_version": "1.2.0",
          "model_name": "LayoutModel",
          "state": {
            "_model_module": "@jupyter-widgets/base",
            "_model_module_version": "1.2.0",
            "_model_name": "LayoutModel",
            "_view_count": null,
            "_view_module": "@jupyter-widgets/base",
            "_view_module_version": "1.2.0",
            "_view_name": "LayoutView",
            "align_content": null,
            "align_items": null,
            "align_self": null,
            "border": null,
            "bottom": null,
            "display": null,
            "flex": null,
            "flex_flow": null,
            "grid_area": null,
            "grid_auto_columns": null,
            "grid_auto_flow": null,
            "grid_auto_rows": null,
            "grid_column": null,
            "grid_gap": null,
            "grid_row": null,
            "grid_template_areas": null,
            "grid_template_columns": null,
            "grid_template_rows": null,
            "height": null,
            "justify_content": null,
            "justify_items": null,
            "left": null,
            "margin": null,
            "max_height": null,
            "max_width": null,
            "min_height": null,
            "min_width": null,
            "object_fit": null,
            "object_position": null,
            "order": null,
            "overflow": null,
            "overflow_x": null,
            "overflow_y": null,
            "padding": null,
            "right": null,
            "top": null,
            "visibility": null,
            "width": null
          }
        },
        "34bc0f68f43041b7b404d37b882bc39b": {
          "model_module": "@jupyter-widgets/controls",
          "model_module_version": "1.5.0",
          "model_name": "HBoxModel",
          "state": {
            "_dom_classes": [],
            "_model_module": "@jupyter-widgets/controls",
            "_model_module_version": "1.5.0",
            "_model_name": "HBoxModel",
            "_view_count": null,
            "_view_module": "@jupyter-widgets/controls",
            "_view_module_version": "1.5.0",
            "_view_name": "HBoxView",
            "box_style": "",
            "children": [
              "IPY_MODEL_416011612f8146519c652b403b0d6cb3",
              "IPY_MODEL_3b7c4928c6d2464584a96d8f3d31f9e1",
              "IPY_MODEL_d5f4f8ccb1f84bc9b0dd6a7578eacefa"
            ],
            "layout": "IPY_MODEL_25107c2175214d5394c616f0dba20997"
          }
        },
        "3576037902624746b4b43c49bd9b1b21": {
          "model_module": "@jupyter-widgets/controls",
          "model_module_version": "1.5.0",
          "model_name": "HTMLModel",
          "state": {
            "_dom_classes": [],
            "_model_module": "@jupyter-widgets/controls",
            "_model_module_version": "1.5.0",
            "_model_name": "HTMLModel",
            "_view_count": null,
            "_view_module": "@jupyter-widgets/controls",
            "_view_module_version": "1.5.0",
            "_view_name": "HTMLView",
            "description": "",
            "description_tooltip": null,
            "layout": "IPY_MODEL_299a965a02a747819599984d59fedd35",
            "placeholder": "​",
            "style": "IPY_MODEL_434eee6961f34c0fa5e08da0a15c275f",
            "value": "tokenizer_config.json: 100%"
          }
        },
        "366efcb16e454f6eb9585325237d304f": {
          "model_module": "@jupyter-widgets/base",
          "model_module_version": "1.2.0",
          "model_name": "LayoutModel",
          "state": {
            "_model_module": "@jupyter-widgets/base",
            "_model_module_version": "1.2.0",
            "_model_name": "LayoutModel",
            "_view_count": null,
            "_view_module": "@jupyter-widgets/base",
            "_view_module_version": "1.2.0",
            "_view_name": "LayoutView",
            "align_content": null,
            "align_items": null,
            "align_self": null,
            "border": null,
            "bottom": null,
            "display": null,
            "flex": null,
            "flex_flow": null,
            "grid_area": null,
            "grid_auto_columns": null,
            "grid_auto_flow": null,
            "grid_auto_rows": null,
            "grid_column": null,
            "grid_gap": null,
            "grid_row": null,
            "grid_template_areas": null,
            "grid_template_columns": null,
            "grid_template_rows": null,
            "height": null,
            "justify_content": null,
            "justify_items": null,
            "left": null,
            "margin": null,
            "max_height": null,
            "max_width": null,
            "min_height": null,
            "min_width": null,
            "object_fit": null,
            "object_position": null,
            "order": null,
            "overflow": null,
            "overflow_x": null,
            "overflow_y": null,
            "padding": null,
            "right": null,
            "top": null,
            "visibility": null,
            "width": null
          }
        },
        "388383665b3a4e5db2439e9ebb08e123": {
          "model_module": "@jupyter-widgets/controls",
          "model_module_version": "1.5.0",
          "model_name": "HTMLModel",
          "state": {
            "_dom_classes": [],
            "_model_module": "@jupyter-widgets/controls",
            "_model_module_version": "1.5.0",
            "_model_name": "HTMLModel",
            "_view_count": null,
            "_view_module": "@jupyter-widgets/controls",
            "_view_module_version": "1.5.0",
            "_view_name": "HTMLView",
            "description": "",
            "description_tooltip": null,
            "layout": "IPY_MODEL_88f66cf8843b44e88e45c4ee691d7505",
            "placeholder": "​",
            "style": "IPY_MODEL_08fe9b292790453da4e70f2bf5ad26e1",
            "value": " 2.37k/2.37k [00:00&lt;00:00, 212kB/s]"
          }
        },
        "3b7c4928c6d2464584a96d8f3d31f9e1": {
          "model_module": "@jupyter-widgets/controls",
          "model_module_version": "1.5.0",
          "model_name": "FloatProgressModel",
          "state": {
            "_dom_classes": [],
            "_model_module": "@jupyter-widgets/controls",
            "_model_module_version": "1.5.0",
            "_model_name": "FloatProgressModel",
            "_view_count": null,
            "_view_module": "@jupyter-widgets/controls",
            "_view_module_version": "1.5.0",
            "_view_name": "ProgressView",
            "bar_style": "success",
            "description": "",
            "description_tooltip": null,
            "layout": "IPY_MODEL_b305e8dc38ca4818956f442bf06d992b",
            "max": 699,
            "min": 0,
            "orientation": "horizontal",
            "style": "IPY_MODEL_1fb2e4a1cde34d06888910d56ffac981",
            "value": 699
          }
        },
        "3e4178e0fac343429ffbf79c7316fc48": {
          "model_module": "@jupyter-widgets/controls",
          "model_module_version": "1.5.0",
          "model_name": "HTMLModel",
          "state": {
            "_dom_classes": [],
            "_model_module": "@jupyter-widgets/controls",
            "_model_module_version": "1.5.0",
            "_model_name": "HTMLModel",
            "_view_count": null,
            "_view_module": "@jupyter-widgets/controls",
            "_view_module_version": "1.5.0",
            "_view_name": "HTMLView",
            "description": "",
            "description_tooltip": null,
            "layout": "IPY_MODEL_92a438a193cf49b5a6420a37e3d6061c",
            "placeholder": "​",
            "style": "IPY_MODEL_28ca32facfea434b83e00074ad8fa56d",
            "value": " 2.35M/2.35M [00:00&lt;00:00, 84.4MB/s]"
          }
        },
        "402ea56e351a4cbfb7291738da12c65c": {
          "model_module": "@jupyter-widgets/controls",
          "model_module_version": "1.5.0",
          "model_name": "FloatProgressModel",
          "state": {
            "_dom_classes": [],
            "_model_module": "@jupyter-widgets/controls",
            "_model_module_version": "1.5.0",
            "_model_name": "FloatProgressModel",
            "_view_count": null,
            "_view_module": "@jupyter-widgets/controls",
            "_view_module_version": "1.5.0",
            "_view_name": "ProgressView",
            "bar_style": "success",
            "description": "",
            "description_tooltip": null,
            "layout": "IPY_MODEL_6231ef38b08e41bc80a51059f6861746",
            "max": 2201,
            "min": 0,
            "orientation": "horizontal",
            "style": "IPY_MODEL_464a24ac8866463db538b2830c83a6ba",
            "value": 2201
          }
        },
        "416011612f8146519c652b403b0d6cb3": {
          "model_module": "@jupyter-widgets/controls",
          "model_module_version": "1.5.0",
          "model_name": "HTMLModel",
          "state": {
            "_dom_classes": [],
            "_model_module": "@jupyter-widgets/controls",
            "_model_module_version": "1.5.0",
            "_model_name": "HTMLModel",
            "_view_count": null,
            "_view_module": "@jupyter-widgets/controls",
            "_view_module_version": "1.5.0",
            "_view_name": "HTMLView",
            "description": "",
            "description_tooltip": null,
            "layout": "IPY_MODEL_896c88c4e4ed451cb4dbf8a698b1495a",
            "placeholder": "​",
            "style": "IPY_MODEL_2a21faf7103b4318aa334afe7752c886",
            "value": "config.json: 100%"
          }
        },
        "42b49a4ecd774814b3bbe68771c92f49": {
          "model_module": "@jupyter-widgets/base",
          "model_module_version": "1.2.0",
          "model_name": "LayoutModel",
          "state": {
            "_model_module": "@jupyter-widgets/base",
            "_model_module_version": "1.2.0",
            "_model_name": "LayoutModel",
            "_view_count": null,
            "_view_module": "@jupyter-widgets/base",
            "_view_module_version": "1.2.0",
            "_view_name": "LayoutView",
            "align_content": null,
            "align_items": null,
            "align_self": null,
            "border": null,
            "bottom": null,
            "display": null,
            "flex": null,
            "flex_flow": null,
            "grid_area": null,
            "grid_auto_columns": null,
            "grid_auto_flow": null,
            "grid_auto_rows": null,
            "grid_column": null,
            "grid_gap": null,
            "grid_row": null,
            "grid_template_areas": null,
            "grid_template_columns": null,
            "grid_template_rows": null,
            "height": null,
            "justify_content": null,
            "justify_items": null,
            "left": null,
            "margin": null,
            "max_height": null,
            "max_width": null,
            "min_height": null,
            "min_width": null,
            "object_fit": null,
            "object_position": null,
            "order": null,
            "overflow": null,
            "overflow_x": null,
            "overflow_y": null,
            "padding": null,
            "right": null,
            "top": null,
            "visibility": null,
            "width": null
          }
        },
        "42b71d01079741e58620dd267de02bf7": {
          "model_module": "@jupyter-widgets/controls",
          "model_module_version": "1.5.0",
          "model_name": "DescriptionStyleModel",
          "state": {
            "_model_module": "@jupyter-widgets/controls",
            "_model_module_version": "1.5.0",
            "_model_name": "DescriptionStyleModel",
            "_view_count": null,
            "_view_module": "@jupyter-widgets/base",
            "_view_module_version": "1.2.0",
            "_view_name": "StyleView",
            "description_width": ""
          }
        },
        "43463f655dd44fd5ade3791448560cc7": {
          "model_module": "@jupyter-widgets/base",
          "model_module_version": "1.2.0",
          "model_name": "LayoutModel",
          "state": {
            "_model_module": "@jupyter-widgets/base",
            "_model_module_version": "1.2.0",
            "_model_name": "LayoutModel",
            "_view_count": null,
            "_view_module": "@jupyter-widgets/base",
            "_view_module_version": "1.2.0",
            "_view_name": "LayoutView",
            "align_content": null,
            "align_items": null,
            "align_self": null,
            "border": null,
            "bottom": null,
            "display": null,
            "flex": null,
            "flex_flow": null,
            "grid_area": null,
            "grid_auto_columns": null,
            "grid_auto_flow": null,
            "grid_auto_rows": null,
            "grid_column": null,
            "grid_gap": null,
            "grid_row": null,
            "grid_template_areas": null,
            "grid_template_columns": null,
            "grid_template_rows": null,
            "height": null,
            "justify_content": null,
            "justify_items": null,
            "left": null,
            "margin": null,
            "max_height": null,
            "max_width": null,
            "min_height": null,
            "min_width": null,
            "object_fit": null,
            "object_position": null,
            "order": null,
            "overflow": null,
            "overflow_x": null,
            "overflow_y": null,
            "padding": null,
            "right": null,
            "top": null,
            "visibility": null,
            "width": null
          }
        },
        "434eee6961f34c0fa5e08da0a15c275f": {
          "model_module": "@jupyter-widgets/controls",
          "model_module_version": "1.5.0",
          "model_name": "DescriptionStyleModel",
          "state": {
            "_model_module": "@jupyter-widgets/controls",
            "_model_module_version": "1.5.0",
            "_model_name": "DescriptionStyleModel",
            "_view_count": null,
            "_view_module": "@jupyter-widgets/base",
            "_view_module_version": "1.2.0",
            "_view_name": "StyleView",
            "description_width": ""
          }
        },
        "45c0c38354524b659a21388c056458f4": {
          "model_module": "@jupyter-widgets/controls",
          "model_module_version": "1.5.0",
          "model_name": "DescriptionStyleModel",
          "state": {
            "_model_module": "@jupyter-widgets/controls",
            "_model_module_version": "1.5.0",
            "_model_name": "DescriptionStyleModel",
            "_view_count": null,
            "_view_module": "@jupyter-widgets/base",
            "_view_module_version": "1.2.0",
            "_view_name": "StyleView",
            "description_width": ""
          }
        },
        "45de7754eb624efaa6cb63b65170c73e": {
          "model_module": "@jupyter-widgets/controls",
          "model_module_version": "1.5.0",
          "model_name": "HTMLModel",
          "state": {
            "_dom_classes": [],
            "_model_module": "@jupyter-widgets/controls",
            "_model_module_version": "1.5.0",
            "_model_name": "HTMLModel",
            "_view_count": null,
            "_view_module": "@jupyter-widgets/controls",
            "_view_module_version": "1.5.0",
            "_view_name": "HTMLView",
            "description": "",
            "description_tooltip": null,
            "layout": "IPY_MODEL_1e8e7bef653c424fb61690d8b5d41fe1",
            "placeholder": "​",
            "style": "IPY_MODEL_62e6d35b52224a8896a8ec1e5aaf1ca2",
            "value": " 2.37k/2.37k [00:00&lt;00:00, 205kB/s]"
          }
        },
        "464a24ac8866463db538b2830c83a6ba": {
          "model_module": "@jupyter-widgets/controls",
          "model_module_version": "1.5.0",
          "model_name": "ProgressStyleModel",
          "state": {
            "_model_module": "@jupyter-widgets/controls",
            "_model_module_version": "1.5.0",
            "_model_name": "ProgressStyleModel",
            "_view_count": null,
            "_view_module": "@jupyter-widgets/base",
            "_view_module_version": "1.2.0",
            "_view_name": "StyleView",
            "bar_color": null,
            "description_width": ""
          }
        },
        "46a07f5a15d14068843105dcfb443862": {
          "model_module": "@jupyter-widgets/base",
          "model_module_version": "1.2.0",
          "model_name": "LayoutModel",
          "state": {
            "_model_module": "@jupyter-widgets/base",
            "_model_module_version": "1.2.0",
            "_model_name": "LayoutModel",
            "_view_count": null,
            "_view_module": "@jupyter-widgets/base",
            "_view_module_version": "1.2.0",
            "_view_name": "LayoutView",
            "align_content": null,
            "align_items": null,
            "align_self": null,
            "border": null,
            "bottom": null,
            "display": null,
            "flex": null,
            "flex_flow": null,
            "grid_area": null,
            "grid_auto_columns": null,
            "grid_auto_flow": null,
            "grid_auto_rows": null,
            "grid_column": null,
            "grid_gap": null,
            "grid_row": null,
            "grid_template_areas": null,
            "grid_template_columns": null,
            "grid_template_rows": null,
            "height": null,
            "justify_content": null,
            "justify_items": null,
            "left": null,
            "margin": null,
            "max_height": null,
            "max_width": null,
            "min_height": null,
            "min_width": null,
            "object_fit": null,
            "object_position": null,
            "order": null,
            "overflow": null,
            "overflow_x": null,
            "overflow_y": null,
            "padding": null,
            "right": null,
            "top": null,
            "visibility": null,
            "width": null
          }
        },
        "47d234cb997c4561ac2551fafa42aaf9": {
          "model_module": "@jupyter-widgets/controls",
          "model_module_version": "1.5.0",
          "model_name": "HTMLModel",
          "state": {
            "_dom_classes": [],
            "_model_module": "@jupyter-widgets/controls",
            "_model_module_version": "1.5.0",
            "_model_name": "HTMLModel",
            "_view_count": null,
            "_view_module": "@jupyter-widgets/controls",
            "_view_module_version": "1.5.0",
            "_view_name": "HTMLView",
            "description": "",
            "description_tooltip": null,
            "layout": "IPY_MODEL_46a07f5a15d14068843105dcfb443862",
            "placeholder": "​",
            "style": "IPY_MODEL_20ecd0dbedd345e88e3dcb7f77c8e401",
            "value": "special_tokens_map.json: 100%"
          }
        },
        "4b36e668089841d79c1a8ede42480d12": {
          "model_module": "@jupyter-widgets/controls",
          "model_module_version": "1.5.0",
          "model_name": "FloatProgressModel",
          "state": {
            "_dom_classes": [],
            "_model_module": "@jupyter-widgets/controls",
            "_model_module_version": "1.5.0",
            "_model_name": "FloatProgressModel",
            "_view_count": null,
            "_view_module": "@jupyter-widgets/controls",
            "_view_module_version": "1.5.0",
            "_view_name": "ProgressView",
            "bar_style": "success",
            "description": "",
            "description_tooltip": null,
            "layout": "IPY_MODEL_ffb199fe315a46b898191d35b95afd51",
            "max": 699,
            "min": 0,
            "orientation": "horizontal",
            "style": "IPY_MODEL_5052af57f2d344f99d6bb4bcbfe4d127",
            "value": 699
          }
        },
        "5052af57f2d344f99d6bb4bcbfe4d127": {
          "model_module": "@jupyter-widgets/controls",
          "model_module_version": "1.5.0",
          "model_name": "ProgressStyleModel",
          "state": {
            "_model_module": "@jupyter-widgets/controls",
            "_model_module_version": "1.5.0",
            "_model_name": "ProgressStyleModel",
            "_view_count": null,
            "_view_module": "@jupyter-widgets/base",
            "_view_module_version": "1.2.0",
            "_view_name": "StyleView",
            "bar_color": null,
            "description_width": ""
          }
        },
        "54ccaad5db1d4c4885ed546f13f15bf6": {
          "model_module": "@jupyter-widgets/controls",
          "model_module_version": "1.5.0",
          "model_name": "DescriptionStyleModel",
          "state": {
            "_model_module": "@jupyter-widgets/controls",
            "_model_module_version": "1.5.0",
            "_model_name": "DescriptionStyleModel",
            "_view_count": null,
            "_view_module": "@jupyter-widgets/base",
            "_view_module_version": "1.2.0",
            "_view_name": "StyleView",
            "description_width": ""
          }
        },
        "592598eccacc428a8332f52abb82b798": {
          "model_module": "@jupyter-widgets/controls",
          "model_module_version": "1.5.0",
          "model_name": "HBoxModel",
          "state": {
            "_dom_classes": [],
            "_model_module": "@jupyter-widgets/controls",
            "_model_module_version": "1.5.0",
            "_model_name": "HBoxModel",
            "_view_count": null,
            "_view_module": "@jupyter-widgets/controls",
            "_view_module_version": "1.5.0",
            "_view_name": "HBoxView",
            "box_style": "",
            "children": [
              "IPY_MODEL_f80602767333474c8752a36305ab5ef7",
              "IPY_MODEL_4b36e668089841d79c1a8ede42480d12",
              "IPY_MODEL_275a26d8ded04e52a41b7938b10b104c"
            ],
            "layout": "IPY_MODEL_96d6bdbe12124cd192c79c708c0f4f21"
          }
        },
        "5c4f92d7156848d3a64969ad57054dc1": {
          "model_module": "@jupyter-widgets/controls",
          "model_module_version": "1.5.0",
          "model_name": "HBoxModel",
          "state": {
            "_dom_classes": [],
            "_model_module": "@jupyter-widgets/controls",
            "_model_module_version": "1.5.0",
            "_model_name": "HBoxModel",
            "_view_count": null,
            "_view_module": "@jupyter-widgets/controls",
            "_view_module_version": "1.5.0",
            "_view_name": "HBoxView",
            "box_style": "",
            "children": [
              "IPY_MODEL_727c5d8419ba416d9edb7108c2b2f81e",
              "IPY_MODEL_7c00a70d92664890933b69d197f97f41",
              "IPY_MODEL_c1cc4f8f83dc446e80d6b35b23a3e94a"
            ],
            "layout": "IPY_MODEL_0187315ec9374891bf074e268855b40d"
          }
        },
        "5fe08ad1f3b3493cbf86e1ff596f3b9e": {
          "model_module": "@jupyter-widgets/controls",
          "model_module_version": "1.5.0",
          "model_name": "FloatProgressModel",
          "state": {
            "_dom_classes": [],
            "_model_module": "@jupyter-widgets/controls",
            "_model_module_version": "1.5.0",
            "_model_name": "FloatProgressModel",
            "_view_count": null,
            "_view_module": "@jupyter-widgets/controls",
            "_view_module_version": "1.5.0",
            "_view_name": "ProgressView",
            "bar_style": "success",
            "description": "",
            "description_tooltip": null,
            "layout": "IPY_MODEL_07d2dc3fb3b545efb8d394089c0099c0",
            "max": 2353338,
            "min": 0,
            "orientation": "horizontal",
            "style": "IPY_MODEL_195dfbf64e634e5c8eea7028976e8b25",
            "value": 2353338
          }
        },
        "6231ef38b08e41bc80a51059f6861746": {
          "model_module": "@jupyter-widgets/base",
          "model_module_version": "1.2.0",
          "model_name": "LayoutModel",
          "state": {
            "_model_module": "@jupyter-widgets/base",
            "_model_module_version": "1.2.0",
            "_model_name": "LayoutModel",
            "_view_count": null,
            "_view_module": "@jupyter-widgets/base",
            "_view_module_version": "1.2.0",
            "_view_name": "LayoutView",
            "align_content": null,
            "align_items": null,
            "align_self": null,
            "border": null,
            "bottom": null,
            "display": null,
            "flex": null,
            "flex_flow": null,
            "grid_area": null,
            "grid_auto_columns": null,
            "grid_auto_flow": null,
            "grid_auto_rows": null,
            "grid_column": null,
            "grid_gap": null,
            "grid_row": null,
            "grid_template_areas": null,
            "grid_template_columns": null,
            "grid_template_rows": null,
            "height": null,
            "justify_content": null,
            "justify_items": null,
            "left": null,
            "margin": null,
            "max_height": null,
            "max_width": null,
            "min_height": null,
            "min_width": null,
            "object_fit": null,
            "object_position": null,
            "order": null,
            "overflow": null,
            "overflow_x": null,
            "overflow_y": null,
            "padding": null,
            "right": null,
            "top": null,
            "visibility": null,
            "width": null
          }
        },
        "62e6d35b52224a8896a8ec1e5aaf1ca2": {
          "model_module": "@jupyter-widgets/controls",
          "model_module_version": "1.5.0",
          "model_name": "DescriptionStyleModel",
          "state": {
            "_model_module": "@jupyter-widgets/controls",
            "_model_module_version": "1.5.0",
            "_model_name": "DescriptionStyleModel",
            "_view_count": null,
            "_view_module": "@jupyter-widgets/base",
            "_view_module_version": "1.2.0",
            "_view_name": "StyleView",
            "description_width": ""
          }
        },
        "645c3aacc3c646acba7c443dd1b8e11e": {
          "model_module": "@jupyter-widgets/base",
          "model_module_version": "1.2.0",
          "model_name": "LayoutModel",
          "state": {
            "_model_module": "@jupyter-widgets/base",
            "_model_module_version": "1.2.0",
            "_model_name": "LayoutModel",
            "_view_count": null,
            "_view_module": "@jupyter-widgets/base",
            "_view_module_version": "1.2.0",
            "_view_name": "LayoutView",
            "align_content": null,
            "align_items": null,
            "align_self": null,
            "border": null,
            "bottom": null,
            "display": null,
            "flex": null,
            "flex_flow": null,
            "grid_area": null,
            "grid_auto_columns": null,
            "grid_auto_flow": null,
            "grid_auto_rows": null,
            "grid_column": null,
            "grid_gap": null,
            "grid_row": null,
            "grid_template_areas": null,
            "grid_template_columns": null,
            "grid_template_rows": null,
            "height": null,
            "justify_content": null,
            "justify_items": null,
            "left": null,
            "margin": null,
            "max_height": null,
            "max_width": null,
            "min_height": null,
            "min_width": null,
            "object_fit": null,
            "object_position": null,
            "order": null,
            "overflow": null,
            "overflow_x": null,
            "overflow_y": null,
            "padding": null,
            "right": null,
            "top": null,
            "visibility": null,
            "width": null
          }
        },
        "66461db7ca9645a7bad5f8eb8167de5a": {
          "model_module": "@jupyter-widgets/base",
          "model_module_version": "1.2.0",
          "model_name": "LayoutModel",
          "state": {
            "_model_module": "@jupyter-widgets/base",
            "_model_module_version": "1.2.0",
            "_model_name": "LayoutModel",
            "_view_count": null,
            "_view_module": "@jupyter-widgets/base",
            "_view_module_version": "1.2.0",
            "_view_name": "LayoutView",
            "align_content": null,
            "align_items": null,
            "align_self": null,
            "border": null,
            "bottom": null,
            "display": null,
            "flex": null,
            "flex_flow": null,
            "grid_area": null,
            "grid_auto_columns": null,
            "grid_auto_flow": null,
            "grid_auto_rows": null,
            "grid_column": null,
            "grid_gap": null,
            "grid_row": null,
            "grid_template_areas": null,
            "grid_template_columns": null,
            "grid_template_rows": null,
            "height": null,
            "justify_content": null,
            "justify_items": null,
            "left": null,
            "margin": null,
            "max_height": null,
            "max_width": null,
            "min_height": null,
            "min_width": null,
            "object_fit": null,
            "object_position": null,
            "order": null,
            "overflow": null,
            "overflow_x": null,
            "overflow_y": null,
            "padding": null,
            "right": null,
            "top": null,
            "visibility": null,
            "width": null
          }
        },
        "727c5d8419ba416d9edb7108c2b2f81e": {
          "model_module": "@jupyter-widgets/controls",
          "model_module_version": "1.5.0",
          "model_name": "HTMLModel",
          "state": {
            "_dom_classes": [],
            "_model_module": "@jupyter-widgets/controls",
            "_model_module_version": "1.5.0",
            "_model_name": "HTMLModel",
            "_view_count": null,
            "_view_module": "@jupyter-widgets/controls",
            "_view_module_version": "1.5.0",
            "_view_name": "HTMLView",
            "description": "",
            "description_tooltip": null,
            "layout": "IPY_MODEL_66461db7ca9645a7bad5f8eb8167de5a",
            "placeholder": "​",
            "style": "IPY_MODEL_98d2a154ae7c45fa8250766cea9a4c4d",
            "value": "tokenizer.json: 100%"
          }
        },
        "7632c206edf744068354fa5455cfd923": {
          "model_module": "@jupyter-widgets/controls",
          "model_module_version": "1.5.0",
          "model_name": "DescriptionStyleModel",
          "state": {
            "_model_module": "@jupyter-widgets/controls",
            "_model_module_version": "1.5.0",
            "_model_name": "DescriptionStyleModel",
            "_view_count": null,
            "_view_module": "@jupyter-widgets/base",
            "_view_module_version": "1.2.0",
            "_view_name": "StyleView",
            "description_width": ""
          }
        },
        "78903ae2684c49baaaebfc6ba447c9bc": {
          "model_module": "@jupyter-widgets/base",
          "model_module_version": "1.2.0",
          "model_name": "LayoutModel",
          "state": {
            "_model_module": "@jupyter-widgets/base",
            "_model_module_version": "1.2.0",
            "_model_name": "LayoutModel",
            "_view_count": null,
            "_view_module": "@jupyter-widgets/base",
            "_view_module_version": "1.2.0",
            "_view_name": "LayoutView",
            "align_content": null,
            "align_items": null,
            "align_self": null,
            "border": null,
            "bottom": null,
            "display": null,
            "flex": null,
            "flex_flow": null,
            "grid_area": null,
            "grid_auto_columns": null,
            "grid_auto_flow": null,
            "grid_auto_rows": null,
            "grid_column": null,
            "grid_gap": null,
            "grid_row": null,
            "grid_template_areas": null,
            "grid_template_columns": null,
            "grid_template_rows": null,
            "height": null,
            "justify_content": null,
            "justify_items": null,
            "left": null,
            "margin": null,
            "max_height": null,
            "max_width": null,
            "min_height": null,
            "min_width": null,
            "object_fit": null,
            "object_position": null,
            "order": null,
            "overflow": null,
            "overflow_x": null,
            "overflow_y": null,
            "padding": null,
            "right": null,
            "top": null,
            "visibility": null,
            "width": null
          }
        },
        "794bfdb392f94133a9c47253af6e36de": {
          "model_module": "@jupyter-widgets/controls",
          "model_module_version": "1.5.0",
          "model_name": "DescriptionStyleModel",
          "state": {
            "_model_module": "@jupyter-widgets/controls",
            "_model_module_version": "1.5.0",
            "_model_name": "DescriptionStyleModel",
            "_view_count": null,
            "_view_module": "@jupyter-widgets/base",
            "_view_module_version": "1.2.0",
            "_view_name": "StyleView",
            "description_width": ""
          }
        },
        "7b2026c206ba4280abf8d86eaaee7869": {
          "model_module": "@jupyter-widgets/controls",
          "model_module_version": "1.5.0",
          "model_name": "HTMLModel",
          "state": {
            "_dom_classes": [],
            "_model_module": "@jupyter-widgets/controls",
            "_model_module_version": "1.5.0",
            "_model_name": "HTMLModel",
            "_view_count": null,
            "_view_module": "@jupyter-widgets/controls",
            "_view_module_version": "1.5.0",
            "_view_name": "HTMLView",
            "description": "",
            "description_tooltip": null,
            "layout": "IPY_MODEL_78903ae2684c49baaaebfc6ba447c9bc",
            "placeholder": "​",
            "style": "IPY_MODEL_e89f7a9f735943f5a86bec4a3c9b7b56",
            "value": " 2.20k/2.20k [00:00&lt;00:00, 189kB/s]"
          }
        },
        "7c00a70d92664890933b69d197f97f41": {
          "model_module": "@jupyter-widgets/controls",
          "model_module_version": "1.5.0",
          "model_name": "FloatProgressModel",
          "state": {
            "_dom_classes": [],
            "_model_module": "@jupyter-widgets/controls",
            "_model_module_version": "1.5.0",
            "_model_name": "FloatProgressModel",
            "_view_count": null,
            "_view_module": "@jupyter-widgets/controls",
            "_view_module_version": "1.5.0",
            "_view_name": "ProgressView",
            "bar_style": "success",
            "description": "",
            "description_tooltip": null,
            "layout": "IPY_MODEL_1b39c85a2ea14243a12e8f2e81fb6f8f",
            "max": 8398761,
            "min": 0,
            "orientation": "horizontal",
            "style": "IPY_MODEL_2c4c1a55e4304b8e850053f16255e185",
            "value": 8398761
          }
        },
        "7e0c7a632baa43d89c0b6f0f916fb9d9": {
          "model_module": "@jupyter-widgets/controls",
          "model_module_version": "1.5.0",
          "model_name": "HTMLModel",
          "state": {
            "_dom_classes": [],
            "_model_module": "@jupyter-widgets/controls",
            "_model_module_version": "1.5.0",
            "_model_name": "HTMLModel",
            "_view_count": null,
            "_view_module": "@jupyter-widgets/controls",
            "_view_module_version": "1.5.0",
            "_view_name": "HTMLView",
            "description": "",
            "description_tooltip": null,
            "layout": "IPY_MODEL_366efcb16e454f6eb9585325237d304f",
            "placeholder": "​",
            "style": "IPY_MODEL_29cb3d7faf1943fe9ecd7bc67bffff60",
            "value": " 2.35M/2.35M [00:00&lt;00:00, 14.1MB/s]"
          }
        },
        "808942c43cca4828afd4c85d8d4b488e": {
          "model_module": "@jupyter-widgets/controls",
          "model_module_version": "1.5.0",
          "model_name": "FloatProgressModel",
          "state": {
            "_dom_classes": [],
            "_model_module": "@jupyter-widgets/controls",
            "_model_module_version": "1.5.0",
            "_model_name": "FloatProgressModel",
            "_view_count": null,
            "_view_module": "@jupyter-widgets/controls",
            "_view_module_version": "1.5.0",
            "_view_name": "ProgressView",
            "bar_style": "success",
            "description": "",
            "description_tooltip": null,
            "layout": "IPY_MODEL_0a043b43d5484163bc74a367dbacf79f",
            "max": 8398761,
            "min": 0,
            "orientation": "horizontal",
            "style": "IPY_MODEL_96a6214bcf484cc080146504728dbf1d",
            "value": 8398761
          }
        },
        "8288e4cabb764655b40d2fa0389305eb": {
          "model_module": "@jupyter-widgets/base",
          "model_module_version": "1.2.0",
          "model_name": "LayoutModel",
          "state": {
            "_model_module": "@jupyter-widgets/base",
            "_model_module_version": "1.2.0",
            "_model_name": "LayoutModel",
            "_view_count": null,
            "_view_module": "@jupyter-widgets/base",
            "_view_module_version": "1.2.0",
            "_view_name": "LayoutView",
            "align_content": null,
            "align_items": null,
            "align_self": null,
            "border": null,
            "bottom": null,
            "display": null,
            "flex": null,
            "flex_flow": null,
            "grid_area": null,
            "grid_auto_columns": null,
            "grid_auto_flow": null,
            "grid_auto_rows": null,
            "grid_column": null,
            "grid_gap": null,
            "grid_row": null,
            "grid_template_areas": null,
            "grid_template_columns": null,
            "grid_template_rows": null,
            "height": null,
            "justify_content": null,
            "justify_items": null,
            "left": null,
            "margin": null,
            "max_height": null,
            "max_width": null,
            "min_height": null,
            "min_width": null,
            "object_fit": null,
            "object_position": null,
            "order": null,
            "overflow": null,
            "overflow_x": null,
            "overflow_y": null,
            "padding": null,
            "right": null,
            "top": null,
            "visibility": null,
            "width": null
          }
        },
        "88e418889a7b4224ab25008cebc8c1d0": {
          "model_module": "@jupyter-widgets/controls",
          "model_module_version": "1.5.0",
          "model_name": "DescriptionStyleModel",
          "state": {
            "_model_module": "@jupyter-widgets/controls",
            "_model_module_version": "1.5.0",
            "_model_name": "DescriptionStyleModel",
            "_view_count": null,
            "_view_module": "@jupyter-widgets/base",
            "_view_module_version": "1.2.0",
            "_view_name": "StyleView",
            "description_width": ""
          }
        },
        "88f66cf8843b44e88e45c4ee691d7505": {
          "model_module": "@jupyter-widgets/base",
          "model_module_version": "1.2.0",
          "model_name": "LayoutModel",
          "state": {
            "_model_module": "@jupyter-widgets/base",
            "_model_module_version": "1.2.0",
            "_model_name": "LayoutModel",
            "_view_count": null,
            "_view_module": "@jupyter-widgets/base",
            "_view_module_version": "1.2.0",
            "_view_name": "LayoutView",
            "align_content": null,
            "align_items": null,
            "align_self": null,
            "border": null,
            "bottom": null,
            "display": null,
            "flex": null,
            "flex_flow": null,
            "grid_area": null,
            "grid_auto_columns": null,
            "grid_auto_flow": null,
            "grid_auto_rows": null,
            "grid_column": null,
            "grid_gap": null,
            "grid_row": null,
            "grid_template_areas": null,
            "grid_template_columns": null,
            "grid_template_rows": null,
            "height": null,
            "justify_content": null,
            "justify_items": null,
            "left": null,
            "margin": null,
            "max_height": null,
            "max_width": null,
            "min_height": null,
            "min_width": null,
            "object_fit": null,
            "object_position": null,
            "order": null,
            "overflow": null,
            "overflow_x": null,
            "overflow_y": null,
            "padding": null,
            "right": null,
            "top": null,
            "visibility": null,
            "width": null
          }
        },
        "896c88c4e4ed451cb4dbf8a698b1495a": {
          "model_module": "@jupyter-widgets/base",
          "model_module_version": "1.2.0",
          "model_name": "LayoutModel",
          "state": {
            "_model_module": "@jupyter-widgets/base",
            "_model_module_version": "1.2.0",
            "_model_name": "LayoutModel",
            "_view_count": null,
            "_view_module": "@jupyter-widgets/base",
            "_view_module_version": "1.2.0",
            "_view_name": "LayoutView",
            "align_content": null,
            "align_items": null,
            "align_self": null,
            "border": null,
            "bottom": null,
            "display": null,
            "flex": null,
            "flex_flow": null,
            "grid_area": null,
            "grid_auto_columns": null,
            "grid_auto_flow": null,
            "grid_auto_rows": null,
            "grid_column": null,
            "grid_gap": null,
            "grid_row": null,
            "grid_template_areas": null,
            "grid_template_columns": null,
            "grid_template_rows": null,
            "height": null,
            "justify_content": null,
            "justify_items": null,
            "left": null,
            "margin": null,
            "max_height": null,
            "max_width": null,
            "min_height": null,
            "min_width": null,
            "object_fit": null,
            "object_position": null,
            "order": null,
            "overflow": null,
            "overflow_x": null,
            "overflow_y": null,
            "padding": null,
            "right": null,
            "top": null,
            "visibility": null,
            "width": null
          }
        },
        "91d260f331c948cfa2d36d0024f1f46b": {
          "model_module": "@jupyter-widgets/controls",
          "model_module_version": "1.5.0",
          "model_name": "DescriptionStyleModel",
          "state": {
            "_model_module": "@jupyter-widgets/controls",
            "_model_module_version": "1.5.0",
            "_model_name": "DescriptionStyleModel",
            "_view_count": null,
            "_view_module": "@jupyter-widgets/base",
            "_view_module_version": "1.2.0",
            "_view_name": "StyleView",
            "description_width": ""
          }
        },
        "92a438a193cf49b5a6420a37e3d6061c": {
          "model_module": "@jupyter-widgets/base",
          "model_module_version": "1.2.0",
          "model_name": "LayoutModel",
          "state": {
            "_model_module": "@jupyter-widgets/base",
            "_model_module_version": "1.2.0",
            "_model_name": "LayoutModel",
            "_view_count": null,
            "_view_module": "@jupyter-widgets/base",
            "_view_module_version": "1.2.0",
            "_view_name": "LayoutView",
            "align_content": null,
            "align_items": null,
            "align_self": null,
            "border": null,
            "bottom": null,
            "display": null,
            "flex": null,
            "flex_flow": null,
            "grid_area": null,
            "grid_auto_columns": null,
            "grid_auto_flow": null,
            "grid_auto_rows": null,
            "grid_column": null,
            "grid_gap": null,
            "grid_row": null,
            "grid_template_areas": null,
            "grid_template_columns": null,
            "grid_template_rows": null,
            "height": null,
            "justify_content": null,
            "justify_items": null,
            "left": null,
            "margin": null,
            "max_height": null,
            "max_width": null,
            "min_height": null,
            "min_width": null,
            "object_fit": null,
            "object_position": null,
            "order": null,
            "overflow": null,
            "overflow_x": null,
            "overflow_y": null,
            "padding": null,
            "right": null,
            "top": null,
            "visibility": null,
            "width": null
          }
        },
        "96a6214bcf484cc080146504728dbf1d": {
          "model_module": "@jupyter-widgets/controls",
          "model_module_version": "1.5.0",
          "model_name": "ProgressStyleModel",
          "state": {
            "_model_module": "@jupyter-widgets/controls",
            "_model_module_version": "1.5.0",
            "_model_name": "ProgressStyleModel",
            "_view_count": null,
            "_view_module": "@jupyter-widgets/base",
            "_view_module_version": "1.2.0",
            "_view_name": "StyleView",
            "bar_color": null,
            "description_width": ""
          }
        },
        "96d6bdbe12124cd192c79c708c0f4f21": {
          "model_module": "@jupyter-widgets/base",
          "model_module_version": "1.2.0",
          "model_name": "LayoutModel",
          "state": {
            "_model_module": "@jupyter-widgets/base",
            "_model_module_version": "1.2.0",
            "_model_name": "LayoutModel",
            "_view_count": null,
            "_view_module": "@jupyter-widgets/base",
            "_view_module_version": "1.2.0",
            "_view_name": "LayoutView",
            "align_content": null,
            "align_items": null,
            "align_self": null,
            "border": null,
            "bottom": null,
            "display": null,
            "flex": null,
            "flex_flow": null,
            "grid_area": null,
            "grid_auto_columns": null,
            "grid_auto_flow": null,
            "grid_auto_rows": null,
            "grid_column": null,
            "grid_gap": null,
            "grid_row": null,
            "grid_template_areas": null,
            "grid_template_columns": null,
            "grid_template_rows": null,
            "height": null,
            "justify_content": null,
            "justify_items": null,
            "left": null,
            "margin": null,
            "max_height": null,
            "max_width": null,
            "min_height": null,
            "min_width": null,
            "object_fit": null,
            "object_position": null,
            "order": null,
            "overflow": null,
            "overflow_x": null,
            "overflow_y": null,
            "padding": null,
            "right": null,
            "top": null,
            "visibility": null,
            "width": null
          }
        },
        "98d2a154ae7c45fa8250766cea9a4c4d": {
          "model_module": "@jupyter-widgets/controls",
          "model_module_version": "1.5.0",
          "model_name": "DescriptionStyleModel",
          "state": {
            "_model_module": "@jupyter-widgets/controls",
            "_model_module_version": "1.5.0",
            "_model_name": "DescriptionStyleModel",
            "_view_count": null,
            "_view_module": "@jupyter-widgets/base",
            "_view_module_version": "1.2.0",
            "_view_name": "StyleView",
            "description_width": ""
          }
        },
        "9a70efb7241b4db29e34d35c55dde67d": {
          "model_module": "@jupyter-widgets/controls",
          "model_module_version": "1.5.0",
          "model_name": "HBoxModel",
          "state": {
            "_dom_classes": [],
            "_model_module": "@jupyter-widgets/controls",
            "_model_module_version": "1.5.0",
            "_model_name": "HBoxModel",
            "_view_count": null,
            "_view_module": "@jupyter-widgets/controls",
            "_view_module_version": "1.5.0",
            "_view_name": "HBoxView",
            "box_style": "",
            "children": [
              "IPY_MODEL_c418309b77a646dd90a91773e827d8f0",
              "IPY_MODEL_808942c43cca4828afd4c85d8d4b488e",
              "IPY_MODEL_e57cf72254e54f128f18698d77fa4a63"
            ],
            "layout": "IPY_MODEL_2f26cfac71c4479c83afdc1d3eb56892"
          }
        },
        "9c49dea9e6b64c698d1553939fa42986": {
          "model_module": "@jupyter-widgets/controls",
          "model_module_version": "1.5.0",
          "model_name": "DescriptionStyleModel",
          "state": {
            "_model_module": "@jupyter-widgets/controls",
            "_model_module_version": "1.5.0",
            "_model_name": "DescriptionStyleModel",
            "_view_count": null,
            "_view_module": "@jupyter-widgets/base",
            "_view_module_version": "1.2.0",
            "_view_name": "StyleView",
            "description_width": ""
          }
        },
        "9e14362e9d48433da5acd5f427c688c3": {
          "model_module": "@jupyter-widgets/controls",
          "model_module_version": "1.5.0",
          "model_name": "HTMLModel",
          "state": {
            "_dom_classes": [],
            "_model_module": "@jupyter-widgets/controls",
            "_model_module_version": "1.5.0",
            "_model_name": "HTMLModel",
            "_view_count": null,
            "_view_module": "@jupyter-widgets/controls",
            "_view_module_version": "1.5.0",
            "_view_name": "HTMLView",
            "description": "",
            "description_tooltip": null,
            "layout": "IPY_MODEL_025e02a3338049ee8628325c3bf41396",
            "placeholder": "​",
            "style": "IPY_MODEL_88e418889a7b4224ab25008cebc8c1d0",
            "value": "special_tokens_map.json: 100%"
          }
        },
        "a09b4d25d60c47ad91551f0ea554136b": {
          "model_module": "@jupyter-widgets/base",
          "model_module_version": "1.2.0",
          "model_name": "LayoutModel",
          "state": {
            "_model_module": "@jupyter-widgets/base",
            "_model_module_version": "1.2.0",
            "_model_name": "LayoutModel",
            "_view_count": null,
            "_view_module": "@jupyter-widgets/base",
            "_view_module_version": "1.2.0",
            "_view_name": "LayoutView",
            "align_content": null,
            "align_items": null,
            "align_self": null,
            "border": null,
            "bottom": null,
            "display": null,
            "flex": null,
            "flex_flow": null,
            "grid_area": null,
            "grid_auto_columns": null,
            "grid_auto_flow": null,
            "grid_auto_rows": null,
            "grid_column": null,
            "grid_gap": null,
            "grid_row": null,
            "grid_template_areas": null,
            "grid_template_columns": null,
            "grid_template_rows": null,
            "height": null,
            "justify_content": null,
            "justify_items": null,
            "left": null,
            "margin": null,
            "max_height": null,
            "max_width": null,
            "min_height": null,
            "min_width": null,
            "object_fit": null,
            "object_position": null,
            "order": null,
            "overflow": null,
            "overflow_x": null,
            "overflow_y": null,
            "padding": null,
            "right": null,
            "top": null,
            "visibility": null,
            "width": null
          }
        },
        "a21ae7f20f6b48d39afa95370c9391f8": {
          "model_module": "@jupyter-widgets/base",
          "model_module_version": "1.2.0",
          "model_name": "LayoutModel",
          "state": {
            "_model_module": "@jupyter-widgets/base",
            "_model_module_version": "1.2.0",
            "_model_name": "LayoutModel",
            "_view_count": null,
            "_view_module": "@jupyter-widgets/base",
            "_view_module_version": "1.2.0",
            "_view_name": "LayoutView",
            "align_content": null,
            "align_items": null,
            "align_self": null,
            "border": null,
            "bottom": null,
            "display": null,
            "flex": null,
            "flex_flow": null,
            "grid_area": null,
            "grid_auto_columns": null,
            "grid_auto_flow": null,
            "grid_auto_rows": null,
            "grid_column": null,
            "grid_gap": null,
            "grid_row": null,
            "grid_template_areas": null,
            "grid_template_columns": null,
            "grid_template_rows": null,
            "height": null,
            "justify_content": null,
            "justify_items": null,
            "left": null,
            "margin": null,
            "max_height": null,
            "max_width": null,
            "min_height": null,
            "min_width": null,
            "object_fit": null,
            "object_position": null,
            "order": null,
            "overflow": null,
            "overflow_x": null,
            "overflow_y": null,
            "padding": null,
            "right": null,
            "top": null,
            "visibility": null,
            "width": null
          }
        },
        "a47f7670cdd041f282811d7128cb344f": {
          "model_module": "@jupyter-widgets/controls",
          "model_module_version": "1.5.0",
          "model_name": "DescriptionStyleModel",
          "state": {
            "_model_module": "@jupyter-widgets/controls",
            "_model_module_version": "1.5.0",
            "_model_name": "DescriptionStyleModel",
            "_view_count": null,
            "_view_module": "@jupyter-widgets/base",
            "_view_module_version": "1.2.0",
            "_view_name": "StyleView",
            "description_width": ""
          }
        },
        "b0c9b571144e46618a0f99a52b293d16": {
          "model_module": "@jupyter-widgets/controls",
          "model_module_version": "1.5.0",
          "model_name": "FloatProgressModel",
          "state": {
            "_dom_classes": [],
            "_model_module": "@jupyter-widgets/controls",
            "_model_module_version": "1.5.0",
            "_model_name": "FloatProgressModel",
            "_view_count": null,
            "_view_module": "@jupyter-widgets/controls",
            "_view_module_version": "1.5.0",
            "_view_name": "ProgressView",
            "bar_style": "success",
            "description": "",
            "description_tooltip": null,
            "layout": "IPY_MODEL_1a6d1389e6cb40eca67f44cc38c36734",
            "max": 2372,
            "min": 0,
            "orientation": "horizontal",
            "style": "IPY_MODEL_b1aa753751034b199ae934d896d2b58b",
            "value": 2372
          }
        },
        "b1aa753751034b199ae934d896d2b58b": {
          "model_module": "@jupyter-widgets/controls",
          "model_module_version": "1.5.0",
          "model_name": "ProgressStyleModel",
          "state": {
            "_model_module": "@jupyter-widgets/controls",
            "_model_module_version": "1.5.0",
            "_model_name": "ProgressStyleModel",
            "_view_count": null,
            "_view_module": "@jupyter-widgets/base",
            "_view_module_version": "1.2.0",
            "_view_name": "StyleView",
            "bar_color": null,
            "description_width": ""
          }
        },
        "b305e8dc38ca4818956f442bf06d992b": {
          "model_module": "@jupyter-widgets/base",
          "model_module_version": "1.2.0",
          "model_name": "LayoutModel",
          "state": {
            "_model_module": "@jupyter-widgets/base",
            "_model_module_version": "1.2.0",
            "_model_name": "LayoutModel",
            "_view_count": null,
            "_view_module": "@jupyter-widgets/base",
            "_view_module_version": "1.2.0",
            "_view_name": "LayoutView",
            "align_content": null,
            "align_items": null,
            "align_self": null,
            "border": null,
            "bottom": null,
            "display": null,
            "flex": null,
            "flex_flow": null,
            "grid_area": null,
            "grid_auto_columns": null,
            "grid_auto_flow": null,
            "grid_auto_rows": null,
            "grid_column": null,
            "grid_gap": null,
            "grid_row": null,
            "grid_template_areas": null,
            "grid_template_columns": null,
            "grid_template_rows": null,
            "height": null,
            "justify_content": null,
            "justify_items": null,
            "left": null,
            "margin": null,
            "max_height": null,
            "max_width": null,
            "min_height": null,
            "min_width": null,
            "object_fit": null,
            "object_position": null,
            "order": null,
            "overflow": null,
            "overflow_x": null,
            "overflow_y": null,
            "padding": null,
            "right": null,
            "top": null,
            "visibility": null,
            "width": null
          }
        },
        "b88f06ce4d5a4e789c746e6b70520d82": {
          "model_module": "@jupyter-widgets/controls",
          "model_module_version": "1.5.0",
          "model_name": "HTMLModel",
          "state": {
            "_dom_classes": [],
            "_model_module": "@jupyter-widgets/controls",
            "_model_module_version": "1.5.0",
            "_model_name": "HTMLModel",
            "_view_count": null,
            "_view_module": "@jupyter-widgets/controls",
            "_view_module_version": "1.5.0",
            "_view_name": "HTMLView",
            "description": "",
            "description_tooltip": null,
            "layout": "IPY_MODEL_e98bbfca6ad0445ba1bf757b932408a5",
            "placeholder": "​",
            "style": "IPY_MODEL_91d260f331c948cfa2d36d0024f1f46b",
            "value": "tokenizer_config.json: 100%"
          }
        },
        "b91c7664e7a8478ca0d166ab202a8a63": {
          "model_module": "@jupyter-widgets/base",
          "model_module_version": "1.2.0",
          "model_name": "LayoutModel",
          "state": {
            "_model_module": "@jupyter-widgets/base",
            "_model_module_version": "1.2.0",
            "_model_name": "LayoutModel",
            "_view_count": null,
            "_view_module": "@jupyter-widgets/base",
            "_view_module_version": "1.2.0",
            "_view_name": "LayoutView",
            "align_content": null,
            "align_items": null,
            "align_self": null,
            "border": null,
            "bottom": null,
            "display": null,
            "flex": null,
            "flex_flow": null,
            "grid_area": null,
            "grid_auto_columns": null,
            "grid_auto_flow": null,
            "grid_auto_rows": null,
            "grid_column": null,
            "grid_gap": null,
            "grid_row": null,
            "grid_template_areas": null,
            "grid_template_columns": null,
            "grid_template_rows": null,
            "height": null,
            "justify_content": null,
            "justify_items": null,
            "left": null,
            "margin": null,
            "max_height": null,
            "max_width": null,
            "min_height": null,
            "min_width": null,
            "object_fit": null,
            "object_position": null,
            "order": null,
            "overflow": null,
            "overflow_x": null,
            "overflow_y": null,
            "padding": null,
            "right": null,
            "top": null,
            "visibility": null,
            "width": null
          }
        },
        "bd65fd8b9ae4427484a059a8abaabfe7": {
          "model_module": "@jupyter-widgets/controls",
          "model_module_version": "1.5.0",
          "model_name": "ProgressStyleModel",
          "state": {
            "_model_module": "@jupyter-widgets/controls",
            "_model_module_version": "1.5.0",
            "_model_name": "ProgressStyleModel",
            "_view_count": null,
            "_view_module": "@jupyter-widgets/base",
            "_view_module_version": "1.2.0",
            "_view_name": "StyleView",
            "bar_color": null,
            "description_width": ""
          }
        },
        "c1cc4f8f83dc446e80d6b35b23a3e94a": {
          "model_module": "@jupyter-widgets/controls",
          "model_module_version": "1.5.0",
          "model_name": "HTMLModel",
          "state": {
            "_dom_classes": [],
            "_model_module": "@jupyter-widgets/controls",
            "_model_module_version": "1.5.0",
            "_model_name": "HTMLModel",
            "_view_count": null,
            "_view_module": "@jupyter-widgets/controls",
            "_view_module_version": "1.5.0",
            "_view_name": "HTMLView",
            "description": "",
            "description_tooltip": null,
            "layout": "IPY_MODEL_a21ae7f20f6b48d39afa95370c9391f8",
            "placeholder": "​",
            "style": "IPY_MODEL_7632c206edf744068354fa5455cfd923",
            "value": " 8.40M/8.40M [00:00&lt;00:00, 11.5MB/s]"
          }
        },
        "c418309b77a646dd90a91773e827d8f0": {
          "model_module": "@jupyter-widgets/controls",
          "model_module_version": "1.5.0",
          "model_name": "HTMLModel",
          "state": {
            "_dom_classes": [],
            "_model_module": "@jupyter-widgets/controls",
            "_model_module_version": "1.5.0",
            "_model_name": "HTMLModel",
            "_view_count": null,
            "_view_module": "@jupyter-widgets/controls",
            "_view_module_version": "1.5.0",
            "_view_name": "HTMLView",
            "description": "",
            "description_tooltip": null,
            "layout": "IPY_MODEL_b91c7664e7a8478ca0d166ab202a8a63",
            "placeholder": "​",
            "style": "IPY_MODEL_45c0c38354524b659a21388c056458f4",
            "value": "tokenizer.json: 100%"
          }
        },
        "c527b034afbd450db614961ae40d6d14": {
          "model_module": "@jupyter-widgets/base",
          "model_module_version": "1.2.0",
          "model_name": "LayoutModel",
          "state": {
            "_model_module": "@jupyter-widgets/base",
            "_model_module_version": "1.2.0",
            "_model_name": "LayoutModel",
            "_view_count": null,
            "_view_module": "@jupyter-widgets/base",
            "_view_module_version": "1.2.0",
            "_view_name": "LayoutView",
            "align_content": null,
            "align_items": null,
            "align_self": null,
            "border": null,
            "bottom": null,
            "display": null,
            "flex": null,
            "flex_flow": null,
            "grid_area": null,
            "grid_auto_columns": null,
            "grid_auto_flow": null,
            "grid_auto_rows": null,
            "grid_column": null,
            "grid_gap": null,
            "grid_row": null,
            "grid_template_areas": null,
            "grid_template_columns": null,
            "grid_template_rows": null,
            "height": null,
            "justify_content": null,
            "justify_items": null,
            "left": null,
            "margin": null,
            "max_height": null,
            "max_width": null,
            "min_height": null,
            "min_width": null,
            "object_fit": null,
            "object_position": null,
            "order": null,
            "overflow": null,
            "overflow_x": null,
            "overflow_y": null,
            "padding": null,
            "right": null,
            "top": null,
            "visibility": null,
            "width": null
          }
        },
        "c6d1376122994b7d86b583761a389f30": {
          "model_module": "@jupyter-widgets/controls",
          "model_module_version": "1.5.0",
          "model_name": "ProgressStyleModel",
          "state": {
            "_model_module": "@jupyter-widgets/controls",
            "_model_module_version": "1.5.0",
            "_model_name": "ProgressStyleModel",
            "_view_count": null,
            "_view_module": "@jupyter-widgets/base",
            "_view_module_version": "1.2.0",
            "_view_name": "StyleView",
            "bar_color": null,
            "description_width": ""
          }
        },
        "c92781136ac54000880ff429ba8c3b6d": {
          "model_module": "@jupyter-widgets/base",
          "model_module_version": "1.2.0",
          "model_name": "LayoutModel",
          "state": {
            "_model_module": "@jupyter-widgets/base",
            "_model_module_version": "1.2.0",
            "_model_name": "LayoutModel",
            "_view_count": null,
            "_view_module": "@jupyter-widgets/base",
            "_view_module_version": "1.2.0",
            "_view_name": "LayoutView",
            "align_content": null,
            "align_items": null,
            "align_self": null,
            "border": null,
            "bottom": null,
            "display": null,
            "flex": null,
            "flex_flow": null,
            "grid_area": null,
            "grid_auto_columns": null,
            "grid_auto_flow": null,
            "grid_auto_rows": null,
            "grid_column": null,
            "grid_gap": null,
            "grid_row": null,
            "grid_template_areas": null,
            "grid_template_columns": null,
            "grid_template_rows": null,
            "height": null,
            "justify_content": null,
            "justify_items": null,
            "left": null,
            "margin": null,
            "max_height": null,
            "max_width": null,
            "min_height": null,
            "min_width": null,
            "object_fit": null,
            "object_position": null,
            "order": null,
            "overflow": null,
            "overflow_x": null,
            "overflow_y": null,
            "padding": null,
            "right": null,
            "top": null,
            "visibility": null,
            "width": null
          }
        },
        "cd8344b66e1543ef9a7d355c69051065": {
          "model_module": "@jupyter-widgets/controls",
          "model_module_version": "1.5.0",
          "model_name": "HBoxModel",
          "state": {
            "_dom_classes": [],
            "_model_module": "@jupyter-widgets/controls",
            "_model_module_version": "1.5.0",
            "_model_name": "HBoxModel",
            "_view_count": null,
            "_view_module": "@jupyter-widgets/controls",
            "_view_module_version": "1.5.0",
            "_view_name": "HBoxView",
            "box_style": "",
            "children": [
              "IPY_MODEL_3576037902624746b4b43c49bd9b1b21",
              "IPY_MODEL_ee0aa211cc7f4c738435e65d94be05de",
              "IPY_MODEL_388383665b3a4e5db2439e9ebb08e123"
            ],
            "layout": "IPY_MODEL_43463f655dd44fd5ade3791448560cc7"
          }
        },
        "d5be099d63a74ecaa0ee4dd706b855d7": {
          "model_module": "@jupyter-widgets/controls",
          "model_module_version": "1.5.0",
          "model_name": "HBoxModel",
          "state": {
            "_dom_classes": [],
            "_model_module": "@jupyter-widgets/controls",
            "_model_module_version": "1.5.0",
            "_model_name": "HBoxModel",
            "_view_count": null,
            "_view_module": "@jupyter-widgets/controls",
            "_view_module_version": "1.5.0",
            "_view_name": "HBoxView",
            "box_style": "",
            "children": [
              "IPY_MODEL_265ee12fe77a457ba3f7c786a3f2bb47",
              "IPY_MODEL_5fe08ad1f3b3493cbf86e1ff596f3b9e",
              "IPY_MODEL_7e0c7a632baa43d89c0b6f0f916fb9d9"
            ],
            "layout": "IPY_MODEL_d72874cf429647889e6d8c20af7afa7e"
          }
        },
        "d5f4f8ccb1f84bc9b0dd6a7578eacefa": {
          "model_module": "@jupyter-widgets/controls",
          "model_module_version": "1.5.0",
          "model_name": "HTMLModel",
          "state": {
            "_dom_classes": [],
            "_model_module": "@jupyter-widgets/controls",
            "_model_module_version": "1.5.0",
            "_model_name": "HTMLModel",
            "_view_count": null,
            "_view_module": "@jupyter-widgets/controls",
            "_view_module_version": "1.5.0",
            "_view_name": "HTMLView",
            "description": "",
            "description_tooltip": null,
            "layout": "IPY_MODEL_645c3aacc3c646acba7c443dd1b8e11e",
            "placeholder": "​",
            "style": "IPY_MODEL_54ccaad5db1d4c4885ed546f13f15bf6",
            "value": " 699/699 [00:00&lt;00:00, 61.6kB/s]"
          }
        },
        "d68e6bb18cf34fe18d75a3982c92518f": {
          "model_module": "@jupyter-widgets/base",
          "model_module_version": "1.2.0",
          "model_name": "LayoutModel",
          "state": {
            "_model_module": "@jupyter-widgets/base",
            "_model_module_version": "1.2.0",
            "_model_name": "LayoutModel",
            "_view_count": null,
            "_view_module": "@jupyter-widgets/base",
            "_view_module_version": "1.2.0",
            "_view_name": "LayoutView",
            "align_content": null,
            "align_items": null,
            "align_self": null,
            "border": null,
            "bottom": null,
            "display": null,
            "flex": null,
            "flex_flow": null,
            "grid_area": null,
            "grid_auto_columns": null,
            "grid_auto_flow": null,
            "grid_auto_rows": null,
            "grid_column": null,
            "grid_gap": null,
            "grid_row": null,
            "grid_template_areas": null,
            "grid_template_columns": null,
            "grid_template_rows": null,
            "height": null,
            "justify_content": null,
            "justify_items": null,
            "left": null,
            "margin": null,
            "max_height": null,
            "max_width": null,
            "min_height": null,
            "min_width": null,
            "object_fit": null,
            "object_position": null,
            "order": null,
            "overflow": null,
            "overflow_x": null,
            "overflow_y": null,
            "padding": null,
            "right": null,
            "top": null,
            "visibility": null,
            "width": null
          }
        },
        "d72874cf429647889e6d8c20af7afa7e": {
          "model_module": "@jupyter-widgets/base",
          "model_module_version": "1.2.0",
          "model_name": "LayoutModel",
          "state": {
            "_model_module": "@jupyter-widgets/base",
            "_model_module_version": "1.2.0",
            "_model_name": "LayoutModel",
            "_view_count": null,
            "_view_module": "@jupyter-widgets/base",
            "_view_module_version": "1.2.0",
            "_view_name": "LayoutView",
            "align_content": null,
            "align_items": null,
            "align_self": null,
            "border": null,
            "bottom": null,
            "display": null,
            "flex": null,
            "flex_flow": null,
            "grid_area": null,
            "grid_auto_columns": null,
            "grid_auto_flow": null,
            "grid_auto_rows": null,
            "grid_column": null,
            "grid_gap": null,
            "grid_row": null,
            "grid_template_areas": null,
            "grid_template_columns": null,
            "grid_template_rows": null,
            "height": null,
            "justify_content": null,
            "justify_items": null,
            "left": null,
            "margin": null,
            "max_height": null,
            "max_width": null,
            "min_height": null,
            "min_width": null,
            "object_fit": null,
            "object_position": null,
            "order": null,
            "overflow": null,
            "overflow_x": null,
            "overflow_y": null,
            "padding": null,
            "right": null,
            "top": null,
            "visibility": null,
            "width": null
          }
        },
        "dc178756ad924b74b497da6921e92d3d": {
          "model_module": "@jupyter-widgets/controls",
          "model_module_version": "1.5.0",
          "model_name": "HBoxModel",
          "state": {
            "_dom_classes": [],
            "_model_module": "@jupyter-widgets/controls",
            "_model_module_version": "1.5.0",
            "_model_name": "HBoxModel",
            "_view_count": null,
            "_view_module": "@jupyter-widgets/controls",
            "_view_module_version": "1.5.0",
            "_view_name": "HBoxView",
            "box_style": "",
            "children": [
              "IPY_MODEL_22655b0dbd494ccf9c6c7ef629630551",
              "IPY_MODEL_f7dae607bba44a5e9f3a85bacb69f5cc",
              "IPY_MODEL_3e4178e0fac343429ffbf79c7316fc48"
            ],
            "layout": "IPY_MODEL_e4f2ea7e1c224f46ba36987b51ade508"
          }
        },
        "dc19a5a41f114a9ca15fae24a92c68b5": {
          "model_module": "@jupyter-widgets/base",
          "model_module_version": "1.2.0",
          "model_name": "LayoutModel",
          "state": {
            "_model_module": "@jupyter-widgets/base",
            "_model_module_version": "1.2.0",
            "_model_name": "LayoutModel",
            "_view_count": null,
            "_view_module": "@jupyter-widgets/base",
            "_view_module_version": "1.2.0",
            "_view_name": "LayoutView",
            "align_content": null,
            "align_items": null,
            "align_self": null,
            "border": null,
            "bottom": null,
            "display": null,
            "flex": null,
            "flex_flow": null,
            "grid_area": null,
            "grid_auto_columns": null,
            "grid_auto_flow": null,
            "grid_auto_rows": null,
            "grid_column": null,
            "grid_gap": null,
            "grid_row": null,
            "grid_template_areas": null,
            "grid_template_columns": null,
            "grid_template_rows": null,
            "height": null,
            "justify_content": null,
            "justify_items": null,
            "left": null,
            "margin": null,
            "max_height": null,
            "max_width": null,
            "min_height": null,
            "min_width": null,
            "object_fit": null,
            "object_position": null,
            "order": null,
            "overflow": null,
            "overflow_x": null,
            "overflow_y": null,
            "padding": null,
            "right": null,
            "top": null,
            "visibility": null,
            "width": null
          }
        },
        "e4f2ea7e1c224f46ba36987b51ade508": {
          "model_module": "@jupyter-widgets/base",
          "model_module_version": "1.2.0",
          "model_name": "LayoutModel",
          "state": {
            "_model_module": "@jupyter-widgets/base",
            "_model_module_version": "1.2.0",
            "_model_name": "LayoutModel",
            "_view_count": null,
            "_view_module": "@jupyter-widgets/base",
            "_view_module_version": "1.2.0",
            "_view_name": "LayoutView",
            "align_content": null,
            "align_items": null,
            "align_self": null,
            "border": null,
            "bottom": null,
            "display": null,
            "flex": null,
            "flex_flow": null,
            "grid_area": null,
            "grid_auto_columns": null,
            "grid_auto_flow": null,
            "grid_auto_rows": null,
            "grid_column": null,
            "grid_gap": null,
            "grid_row": null,
            "grid_template_areas": null,
            "grid_template_columns": null,
            "grid_template_rows": null,
            "height": null,
            "justify_content": null,
            "justify_items": null,
            "left": null,
            "margin": null,
            "max_height": null,
            "max_width": null,
            "min_height": null,
            "min_width": null,
            "object_fit": null,
            "object_position": null,
            "order": null,
            "overflow": null,
            "overflow_x": null,
            "overflow_y": null,
            "padding": null,
            "right": null,
            "top": null,
            "visibility": null,
            "width": null
          }
        },
        "e57cf72254e54f128f18698d77fa4a63": {
          "model_module": "@jupyter-widgets/controls",
          "model_module_version": "1.5.0",
          "model_name": "HTMLModel",
          "state": {
            "_dom_classes": [],
            "_model_module": "@jupyter-widgets/controls",
            "_model_module_version": "1.5.0",
            "_model_name": "HTMLModel",
            "_view_count": null,
            "_view_module": "@jupyter-widgets/controls",
            "_view_module_version": "1.5.0",
            "_view_name": "HTMLView",
            "description": "",
            "description_tooltip": null,
            "layout": "IPY_MODEL_f5fb5cceed684e0a903dc651e40c1375",
            "placeholder": "​",
            "style": "IPY_MODEL_42b71d01079741e58620dd267de02bf7",
            "value": " 8.40M/8.40M [00:00&lt;00:00, 25.0MB/s]"
          }
        },
        "e71c7ba34e534307976653b8c8d52f90": {
          "model_module": "@jupyter-widgets/controls",
          "model_module_version": "1.5.0",
          "model_name": "ProgressStyleModel",
          "state": {
            "_model_module": "@jupyter-widgets/controls",
            "_model_module_version": "1.5.0",
            "_model_name": "ProgressStyleModel",
            "_view_count": null,
            "_view_module": "@jupyter-widgets/base",
            "_view_module_version": "1.2.0",
            "_view_name": "StyleView",
            "bar_color": null,
            "description_width": ""
          }
        },
        "e89f7a9f735943f5a86bec4a3c9b7b56": {
          "model_module": "@jupyter-widgets/controls",
          "model_module_version": "1.5.0",
          "model_name": "DescriptionStyleModel",
          "state": {
            "_model_module": "@jupyter-widgets/controls",
            "_model_module_version": "1.5.0",
            "_model_name": "DescriptionStyleModel",
            "_view_count": null,
            "_view_module": "@jupyter-widgets/base",
            "_view_module_version": "1.2.0",
            "_view_name": "StyleView",
            "description_width": ""
          }
        },
        "e8cedddc6b2b467996f8dd067fa5d678": {
          "model_module": "@jupyter-widgets/controls",
          "model_module_version": "1.5.0",
          "model_name": "HBoxModel",
          "state": {
            "_dom_classes": [],
            "_model_module": "@jupyter-widgets/controls",
            "_model_module_version": "1.5.0",
            "_model_name": "HBoxModel",
            "_view_count": null,
            "_view_module": "@jupyter-widgets/controls",
            "_view_module_version": "1.5.0",
            "_view_name": "HBoxView",
            "box_style": "",
            "children": [
              "IPY_MODEL_b88f06ce4d5a4e789c746e6b70520d82",
              "IPY_MODEL_b0c9b571144e46618a0f99a52b293d16",
              "IPY_MODEL_45de7754eb624efaa6cb63b65170c73e"
            ],
            "layout": "IPY_MODEL_42b49a4ecd774814b3bbe68771c92f49"
          }
        },
        "e98bbfca6ad0445ba1bf757b932408a5": {
          "model_module": "@jupyter-widgets/base",
          "model_module_version": "1.2.0",
          "model_name": "LayoutModel",
          "state": {
            "_model_module": "@jupyter-widgets/base",
            "_model_module_version": "1.2.0",
            "_model_name": "LayoutModel",
            "_view_count": null,
            "_view_module": "@jupyter-widgets/base",
            "_view_module_version": "1.2.0",
            "_view_name": "LayoutView",
            "align_content": null,
            "align_items": null,
            "align_self": null,
            "border": null,
            "bottom": null,
            "display": null,
            "flex": null,
            "flex_flow": null,
            "grid_area": null,
            "grid_auto_columns": null,
            "grid_auto_flow": null,
            "grid_auto_rows": null,
            "grid_column": null,
            "grid_gap": null,
            "grid_row": null,
            "grid_template_areas": null,
            "grid_template_columns": null,
            "grid_template_rows": null,
            "height": null,
            "justify_content": null,
            "justify_items": null,
            "left": null,
            "margin": null,
            "max_height": null,
            "max_width": null,
            "min_height": null,
            "min_width": null,
            "object_fit": null,
            "object_position": null,
            "order": null,
            "overflow": null,
            "overflow_x": null,
            "overflow_y": null,
            "padding": null,
            "right": null,
            "top": null,
            "visibility": null,
            "width": null
          }
        },
        "ee0aa211cc7f4c738435e65d94be05de": {
          "model_module": "@jupyter-widgets/controls",
          "model_module_version": "1.5.0",
          "model_name": "FloatProgressModel",
          "state": {
            "_dom_classes": [],
            "_model_module": "@jupyter-widgets/controls",
            "_model_module_version": "1.5.0",
            "_model_name": "FloatProgressModel",
            "_view_count": null,
            "_view_module": "@jupyter-widgets/controls",
            "_view_module_version": "1.5.0",
            "_view_name": "ProgressView",
            "bar_style": "success",
            "description": "",
            "description_tooltip": null,
            "layout": "IPY_MODEL_c527b034afbd450db614961ae40d6d14",
            "max": 2372,
            "min": 0,
            "orientation": "horizontal",
            "style": "IPY_MODEL_bd65fd8b9ae4427484a059a8abaabfe7",
            "value": 2372
          }
        },
        "f249c94534da433c9a4f7d5053f89752": {
          "model_module": "@jupyter-widgets/controls",
          "model_module_version": "1.5.0",
          "model_name": "DescriptionStyleModel",
          "state": {
            "_model_module": "@jupyter-widgets/controls",
            "_model_module_version": "1.5.0",
            "_model_name": "DescriptionStyleModel",
            "_view_count": null,
            "_view_module": "@jupyter-widgets/base",
            "_view_module_version": "1.2.0",
            "_view_name": "StyleView",
            "description_width": ""
          }
        },
        "f5fb5cceed684e0a903dc651e40c1375": {
          "model_module": "@jupyter-widgets/base",
          "model_module_version": "1.2.0",
          "model_name": "LayoutModel",
          "state": {
            "_model_module": "@jupyter-widgets/base",
            "_model_module_version": "1.2.0",
            "_model_name": "LayoutModel",
            "_view_count": null,
            "_view_module": "@jupyter-widgets/base",
            "_view_module_version": "1.2.0",
            "_view_name": "LayoutView",
            "align_content": null,
            "align_items": null,
            "align_self": null,
            "border": null,
            "bottom": null,
            "display": null,
            "flex": null,
            "flex_flow": null,
            "grid_area": null,
            "grid_auto_columns": null,
            "grid_auto_flow": null,
            "grid_auto_rows": null,
            "grid_column": null,
            "grid_gap": null,
            "grid_row": null,
            "grid_template_areas": null,
            "grid_template_columns": null,
            "grid_template_rows": null,
            "height": null,
            "justify_content": null,
            "justify_items": null,
            "left": null,
            "margin": null,
            "max_height": null,
            "max_width": null,
            "min_height": null,
            "min_width": null,
            "object_fit": null,
            "object_position": null,
            "order": null,
            "overflow": null,
            "overflow_x": null,
            "overflow_y": null,
            "padding": null,
            "right": null,
            "top": null,
            "visibility": null,
            "width": null
          }
        },
        "f7dae607bba44a5e9f3a85bacb69f5cc": {
          "model_module": "@jupyter-widgets/controls",
          "model_module_version": "1.5.0",
          "model_name": "FloatProgressModel",
          "state": {
            "_dom_classes": [],
            "_model_module": "@jupyter-widgets/controls",
            "_model_module_version": "1.5.0",
            "_model_name": "FloatProgressModel",
            "_view_count": null,
            "_view_module": "@jupyter-widgets/controls",
            "_view_module_version": "1.5.0",
            "_view_name": "ProgressView",
            "bar_style": "success",
            "description": "",
            "description_tooltip": null,
            "layout": "IPY_MODEL_8288e4cabb764655b40d2fa0389305eb",
            "max": 2353338,
            "min": 0,
            "orientation": "horizontal",
            "style": "IPY_MODEL_c6d1376122994b7d86b583761a389f30",
            "value": 2353338
          }
        },
        "f80602767333474c8752a36305ab5ef7": {
          "model_module": "@jupyter-widgets/controls",
          "model_module_version": "1.5.0",
          "model_name": "HTMLModel",
          "state": {
            "_dom_classes": [],
            "_model_module": "@jupyter-widgets/controls",
            "_model_module_version": "1.5.0",
            "_model_name": "HTMLModel",
            "_view_count": null,
            "_view_module": "@jupyter-widgets/controls",
            "_view_module_version": "1.5.0",
            "_view_name": "HTMLView",
            "description": "",
            "description_tooltip": null,
            "layout": "IPY_MODEL_dc19a5a41f114a9ca15fae24a92c68b5",
            "placeholder": "​",
            "style": "IPY_MODEL_9c49dea9e6b64c698d1553939fa42986",
            "value": "config.json: 100%"
          }
        },
        "ffb199fe315a46b898191d35b95afd51": {
          "model_module": "@jupyter-widgets/base",
          "model_module_version": "1.2.0",
          "model_name": "LayoutModel",
          "state": {
            "_model_module": "@jupyter-widgets/base",
            "_model_module_version": "1.2.0",
            "_model_name": "LayoutModel",
            "_view_count": null,
            "_view_module": "@jupyter-widgets/base",
            "_view_module_version": "1.2.0",
            "_view_name": "LayoutView",
            "align_content": null,
            "align_items": null,
            "align_self": null,
            "border": null,
            "bottom": null,
            "display": null,
            "flex": null,
            "flex_flow": null,
            "grid_area": null,
            "grid_auto_columns": null,
            "grid_auto_flow": null,
            "grid_auto_rows": null,
            "grid_column": null,
            "grid_gap": null,
            "grid_row": null,
            "grid_template_areas": null,
            "grid_template_columns": null,
            "grid_template_rows": null,
            "height": null,
            "justify_content": null,
            "justify_items": null,
            "left": null,
            "margin": null,
            "max_height": null,
            "max_width": null,
            "min_height": null,
            "min_width": null,
            "object_fit": null,
            "object_position": null,
            "order": null,
            "overflow": null,
            "overflow_x": null,
            "overflow_y": null,
            "padding": null,
            "right": null,
            "top": null,
            "visibility": null,
            "width": null
          }
        }
      }
    }
  },
  "nbformat": 4,
  "nbformat_minor": 0
}